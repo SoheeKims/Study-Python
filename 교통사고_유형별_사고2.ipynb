{
  "nbformat": 4,
  "nbformat_minor": 0,
  "metadata": {
    "colab": {
      "name": "교통사고 유형별 사고2.ipynb",
      "provenance": [],
      "collapsed_sections": [
        "PAWNHQCh5aAY",
        "RULDa9n6n2YH",
        "VwwUTKJWoDgg",
        "4FbgmFf2qnVc"
      ],
      "toc_visible": true,
      "authorship_tag": "ABX9TyNHV2ocfWsmwZbOprikCefA"
    },
    "kernelspec": {
      "name": "python3",
      "display_name": "Python 3"
    }
  },
  "cells": [
    {
      "cell_type": "markdown",
      "metadata": {
        "id": "PAWNHQCh5aAY"
      },
      "source": [
        "# 데이터분석 환경설정"
      ]
    },
    {
      "cell_type": "code",
      "metadata": {
        "id": "RliaDCQy5gXM"
      },
      "source": [
        "import pandas as pd\r\n",
        "import numpy as np\r\n",
        "import matplotlib as mpl\r\n",
        "import matplotlib.pyplot as plt\r\n",
        "import matplotlib.font_manager as fm\r\n",
        "import seaborn as sns\r\n",
        "from scipy import stats\r\n",
        "\r\n",
        "import warnings\r\n",
        "warnings.filterwarnings('ignore')\r\n",
        "# 노트북 안에 그래프를 그리기 위해\r\n",
        "%matplotlib inline\r\n",
        "\r\n",
        "# 그래프에서 격자로 숫자 범위가 눈에 잘 띄도록 ggplot 스타일을 사용\r\n",
        "plt.style.use('ggplot')\r\n",
        "\r\n",
        "# 그래프에서 마이너스 폰트 깨지는 문제에 대한 대처\r\n",
        "mpl.rcParams['axes.unicode_minus'] = False"
      ],
      "execution_count": null,
      "outputs": []
    },
    {
      "cell_type": "code",
      "metadata": {
        "id": "QvymZfVOjwLT"
      },
      "source": [
        "# 구글코랩 사용시 폰트 설정 필요\r\n",
        "# 한글폰트를 설정해주지 않으면 그래프 상에서 한글이 깨져보임\r\n",
        "# 한글 출력 가능하게 폰트설정\r\n",
        "# 설치 후 런타임 재실행 필수!\r\n",
        "# 나눔고딕 설치 (이 코드 사용 시 아래있는 폰트 로드할 경우 colab에서 오류발생 아래의 폰트 설정 꼭 주석처리!)\r\n",
        "# !sudo apt-get install -y fonts-nanum\r\n",
        "# !sudo fc-cache -fv\r\n",
        "# !rm ~/.cache/matplotlib -rf\r\n",
        "\r\n",
        "# Colab의 한글폰트 설정\r\n",
        "plt.rc('font', family = 'NanumGothic')\r\n",
        "# 마이너스 폰트 깨지는 문제에 대한 대처\r\n",
        "plt.rc(\"axes\", unicode_minus = False)\r\n",
        "# 레티나 설정 시 글씨가 좀 더 선명히 보임\r\n",
        "# 폰트의 주변이 흐릿하게 보이는 것을 방지\r\n",
        "%config InlineBackend.figure_format = 'retina'"
      ],
      "execution_count": null,
      "outputs": []
    },
    {
      "cell_type": "code",
      "metadata": {
        "colab": {
          "base_uri": "https://localhost:8080/"
        },
        "id": "IKxyv2sg5pUE",
        "outputId": "a3a71d00-491b-4a4c-a73f-657f53eab828"
      },
      "source": [
        "# 코랩에서 구글드라이브 마운트하여 데이터 불러오기\r\n",
        "from google.colab import drive\r\n",
        "drive.mount('/content/drive')"
      ],
      "execution_count": null,
      "outputs": [
        {
          "output_type": "stream",
          "text": [
            "Mounted at /content/drive\n"
          ],
          "name": "stdout"
        }
      ]
    },
    {
      "cell_type": "markdown",
      "metadata": {
        "id": "b6AIenv-k-N7"
      },
      "source": [
        "# 데이터 로드"
      ]
    },
    {
      "cell_type": "code",
      "metadata": {
        "colab": {
          "base_uri": "https://localhost:8080/",
          "height": 191
        },
        "id": "r5VhMgxr5uwc",
        "outputId": "b7ecfd6f-ac5a-42a2-e3a0-fcf93dede915"
      },
      "source": [
        "# 내 드라이브 내의 파일을 불러올 때 경로 /content/drive/My Drive/를 앞에 붙여주기\r\n",
        "# encoding='utf-8'이 안될 때는 encoding='CP949' 사용.\r\n",
        "df = pd.read_csv('/content/drive/MyDrive/Colab Notebooks/DATA/2019 monthly teaffic.csv', encoding='CP949')\r\n",
        "df.head()"
      ],
      "execution_count": null,
      "outputs": [
        {
          "output_type": "execute_result",
          "data": {
            "text/html": [
              "<div>\n",
              "<style scoped>\n",
              "    .dataframe tbody tr th:only-of-type {\n",
              "        vertical-align: middle;\n",
              "    }\n",
              "\n",
              "    .dataframe tbody tr th {\n",
              "        vertical-align: top;\n",
              "    }\n",
              "\n",
              "    .dataframe thead th {\n",
              "        text-align: right;\n",
              "    }\n",
              "</style>\n",
              "<table border=\"1\" class=\"dataframe\">\n",
              "  <thead>\n",
              "    <tr style=\"text-align: right;\">\n",
              "      <th></th>\n",
              "      <th>사고유형대분류</th>\n",
              "      <th>사고유형중분류</th>\n",
              "      <th>사고유형</th>\n",
              "      <th>월</th>\n",
              "      <th>사고건수</th>\n",
              "      <th>사망자수</th>\n",
              "      <th>중상자수</th>\n",
              "      <th>경상자수</th>\n",
              "      <th>부상신고자수</th>\n",
              "    </tr>\n",
              "  </thead>\n",
              "  <tbody>\n",
              "    <tr>\n",
              "      <th>0</th>\n",
              "      <td>차대사람</td>\n",
              "      <td>횡단중</td>\n",
              "      <td>횡단중</td>\n",
              "      <td>1</td>\n",
              "      <td>1532</td>\n",
              "      <td>69</td>\n",
              "      <td>841</td>\n",
              "      <td>650</td>\n",
              "      <td>61</td>\n",
              "    </tr>\n",
              "    <tr>\n",
              "      <th>1</th>\n",
              "      <td>차대사람</td>\n",
              "      <td>횡단중</td>\n",
              "      <td>횡단중</td>\n",
              "      <td>2</td>\n",
              "      <td>1201</td>\n",
              "      <td>40</td>\n",
              "      <td>599</td>\n",
              "      <td>594</td>\n",
              "      <td>39</td>\n",
              "    </tr>\n",
              "    <tr>\n",
              "      <th>2</th>\n",
              "      <td>차대사람</td>\n",
              "      <td>횡단중</td>\n",
              "      <td>횡단중</td>\n",
              "      <td>3</td>\n",
              "      <td>1453</td>\n",
              "      <td>47</td>\n",
              "      <td>736</td>\n",
              "      <td>709</td>\n",
              "      <td>61</td>\n",
              "    </tr>\n",
              "    <tr>\n",
              "      <th>3</th>\n",
              "      <td>차대사람</td>\n",
              "      <td>횡단중</td>\n",
              "      <td>횡단중</td>\n",
              "      <td>4</td>\n",
              "      <td>1604</td>\n",
              "      <td>55</td>\n",
              "      <td>778</td>\n",
              "      <td>783</td>\n",
              "      <td>73</td>\n",
              "    </tr>\n",
              "    <tr>\n",
              "      <th>4</th>\n",
              "      <td>차대사람</td>\n",
              "      <td>횡단중</td>\n",
              "      <td>횡단중</td>\n",
              "      <td>5</td>\n",
              "      <td>1516</td>\n",
              "      <td>61</td>\n",
              "      <td>751</td>\n",
              "      <td>715</td>\n",
              "      <td>85</td>\n",
              "    </tr>\n",
              "  </tbody>\n",
              "</table>\n",
              "</div>"
            ],
            "text/plain": [
              "  사고유형대분류 사고유형중분류 사고유형  월  사고건수  사망자수  중상자수  경상자수  부상신고자수\n",
              "0    차대사람     횡단중  횡단중  1  1532    69   841   650      61\n",
              "1    차대사람     횡단중  횡단중  2  1201    40   599   594      39\n",
              "2    차대사람     횡단중  횡단중  3  1453    47   736   709      61\n",
              "3    차대사람     횡단중  횡단중  4  1604    55   778   783      73\n",
              "4    차대사람     횡단중  횡단중  5  1516    61   751   715      85"
            ]
          },
          "metadata": {
            "tags": []
          },
          "execution_count": 4
        }
      ]
    },
    {
      "cell_type": "code",
      "metadata": {
        "colab": {
          "base_uri": "https://localhost:8080/"
        },
        "id": "tSEoNz6UwoVm",
        "outputId": "f7a62e29-e6a4-4775-8889-deab1d45714c"
      },
      "source": [
        "# 데이터 타입 확인\r\n",
        "df.dtypes"
      ],
      "execution_count": null,
      "outputs": [
        {
          "output_type": "execute_result",
          "data": {
            "text/plain": [
              "사고유형대분류    object\n",
              "사고유형중분류    object\n",
              "사고유형       object\n",
              "월           int64\n",
              "사고건수        int64\n",
              "사망자수        int64\n",
              "중상자수        int64\n",
              "경상자수        int64\n",
              "부상신고자수      int64\n",
              "dtype: object"
            ]
          },
          "metadata": {
            "tags": []
          },
          "execution_count": 53
        }
      ]
    },
    {
      "cell_type": "code",
      "metadata": {
        "colab": {
          "base_uri": "https://localhost:8080/"
        },
        "id": "dE_5Jl7AAgn9",
        "outputId": "0162c536-60ca-4817-a95b-de1d096531e4"
      },
      "source": [
        "# 데이터 프레임 개요\r\n",
        "df.info()"
      ],
      "execution_count": null,
      "outputs": [
        {
          "output_type": "stream",
          "text": [
            "<class 'pandas.core.frame.DataFrame'>\n",
            "RangeIndex: 210 entries, 0 to 209\n",
            "Data columns (total 9 columns):\n",
            " #   Column   Non-Null Count  Dtype \n",
            "---  ------   --------------  ----- \n",
            " 0   사고유형대분류  210 non-null    object\n",
            " 1   사고유형중분류  210 non-null    object\n",
            " 2   사고유형     210 non-null    object\n",
            " 3   월        210 non-null    int64 \n",
            " 4   사고건수     210 non-null    int64 \n",
            " 5   사망자수     210 non-null    int64 \n",
            " 6   중상자수     210 non-null    int64 \n",
            " 7   경상자수     210 non-null    int64 \n",
            " 8   부상신고자수   210 non-null    int64 \n",
            "dtypes: int64(6), object(3)\n",
            "memory usage: 14.9+ KB\n"
          ],
          "name": "stdout"
        }
      ]
    },
    {
      "cell_type": "code",
      "metadata": {
        "id": "aV-K0ME9DkJb",
        "colab": {
          "base_uri": "https://localhost:8080/"
        },
        "outputId": "ed8521c8-46bd-4c45-bee0-89ec756352d5"
      },
      "source": [
        "# 컬럼 명 확인\r\n",
        "df.columns"
      ],
      "execution_count": null,
      "outputs": [
        {
          "output_type": "execute_result",
          "data": {
            "text/plain": [
              "Index(['사고유형대분류', '사고유형중분류', '사고유형', '월', '사고건수', '사망자수', '중상자수', '경상자수',\n",
              "       '부상신고자수'],\n",
              "      dtype='object')"
            ]
          },
          "metadata": {
            "tags": []
          },
          "execution_count": 7
        }
      ]
    },
    {
      "cell_type": "code",
      "metadata": {
        "colab": {
          "base_uri": "https://localhost:8080/"
        },
        "id": "XRTg2FzLQUBt",
        "outputId": "c15bcd5f-eca2-4e47-e430-56540ecb2e17"
      },
      "source": [
        "# isnull()를 이용해 컬럼별 NAN 값의 개수 확인\r\n",
        "df.isnull().sum()"
      ],
      "execution_count": null,
      "outputs": [
        {
          "output_type": "execute_result",
          "data": {
            "text/plain": [
              "사고유형대분류    0\n",
              "사고유형중분류    0\n",
              "사고유형       0\n",
              "월          0\n",
              "사고건수       0\n",
              "사망자수       0\n",
              "중상자수       0\n",
              "경상자수       0\n",
              "부상신고자수     0\n",
              "dtype: int64"
            ]
          },
          "metadata": {
            "tags": []
          },
          "execution_count": 10
        }
      ]
    },
    {
      "cell_type": "code",
      "metadata": {
        "colab": {
          "base_uri": "https://localhost:8080/",
          "height": 277
        },
        "id": "lq7sX8F8RHKT",
        "outputId": "6814684b-bf48-4669-e8a6-4f877c876f7c"
      },
      "source": [
        "# 내용 확인\r\n",
        "df.describe()"
      ],
      "execution_count": null,
      "outputs": [
        {
          "output_type": "execute_result",
          "data": {
            "text/html": [
              "<div>\n",
              "<style scoped>\n",
              "    .dataframe tbody tr th:only-of-type {\n",
              "        vertical-align: middle;\n",
              "    }\n",
              "\n",
              "    .dataframe tbody tr th {\n",
              "        vertical-align: top;\n",
              "    }\n",
              "\n",
              "    .dataframe thead th {\n",
              "        text-align: right;\n",
              "    }\n",
              "</style>\n",
              "<table border=\"1\" class=\"dataframe\">\n",
              "  <thead>\n",
              "    <tr style=\"text-align: right;\">\n",
              "      <th></th>\n",
              "      <th>월</th>\n",
              "      <th>사고건수</th>\n",
              "      <th>사망자수</th>\n",
              "      <th>중상자수</th>\n",
              "      <th>경상자수</th>\n",
              "      <th>부상신고자수</th>\n",
              "    </tr>\n",
              "  </thead>\n",
              "  <tbody>\n",
              "    <tr>\n",
              "      <th>count</th>\n",
              "      <td>210.000000</td>\n",
              "      <td>210.000000</td>\n",
              "      <td>210.000000</td>\n",
              "      <td>210.000000</td>\n",
              "      <td>210.000000</td>\n",
              "      <td>210.000000</td>\n",
              "    </tr>\n",
              "    <tr>\n",
              "      <th>mean</th>\n",
              "      <td>6.490476</td>\n",
              "      <td>1093.333333</td>\n",
              "      <td>15.947619</td>\n",
              "      <td>344.314286</td>\n",
              "      <td>1169.161905</td>\n",
              "      <td>113.723810</td>\n",
              "    </tr>\n",
              "    <tr>\n",
              "      <th>std</th>\n",
              "      <td>3.446433</td>\n",
              "      <td>1795.046438</td>\n",
              "      <td>16.758690</td>\n",
              "      <td>509.755065</td>\n",
              "      <td>2206.423240</td>\n",
              "      <td>196.304494</td>\n",
              "    </tr>\n",
              "    <tr>\n",
              "      <th>min</th>\n",
              "      <td>1.000000</td>\n",
              "      <td>1.000000</td>\n",
              "      <td>0.000000</td>\n",
              "      <td>0.000000</td>\n",
              "      <td>0.000000</td>\n",
              "      <td>0.000000</td>\n",
              "    </tr>\n",
              "    <tr>\n",
              "      <th>25%</th>\n",
              "      <td>3.250000</td>\n",
              "      <td>42.000000</td>\n",
              "      <td>2.250000</td>\n",
              "      <td>22.500000</td>\n",
              "      <td>19.250000</td>\n",
              "      <td>7.000000</td>\n",
              "    </tr>\n",
              "    <tr>\n",
              "      <th>50%</th>\n",
              "      <td>6.500000</td>\n",
              "      <td>293.500000</td>\n",
              "      <td>10.000000</td>\n",
              "      <td>120.000000</td>\n",
              "      <td>200.500000</td>\n",
              "      <td>25.000000</td>\n",
              "    </tr>\n",
              "    <tr>\n",
              "      <th>75%</th>\n",
              "      <td>9.000000</td>\n",
              "      <td>1448.500000</td>\n",
              "      <td>24.750000</td>\n",
              "      <td>536.750000</td>\n",
              "      <td>780.750000</td>\n",
              "      <td>80.750000</td>\n",
              "    </tr>\n",
              "    <tr>\n",
              "      <th>max</th>\n",
              "      <td>12.000000</td>\n",
              "      <td>7806.000000</td>\n",
              "      <td>69.000000</td>\n",
              "      <td>2313.000000</td>\n",
              "      <td>9222.000000</td>\n",
              "      <td>836.000000</td>\n",
              "    </tr>\n",
              "  </tbody>\n",
              "</table>\n",
              "</div>"
            ],
            "text/plain": [
              "                월         사고건수  ...         경상자수      부상신고자수\n",
              "count  210.000000   210.000000  ...   210.000000  210.000000\n",
              "mean     6.490476  1093.333333  ...  1169.161905  113.723810\n",
              "std      3.446433  1795.046438  ...  2206.423240  196.304494\n",
              "min      1.000000     1.000000  ...     0.000000    0.000000\n",
              "25%      3.250000    42.000000  ...    19.250000    7.000000\n",
              "50%      6.500000   293.500000  ...   200.500000   25.000000\n",
              "75%      9.000000  1448.500000  ...   780.750000   80.750000\n",
              "max     12.000000  7806.000000  ...  9222.000000  836.000000\n",
              "\n",
              "[8 rows x 6 columns]"
            ]
          },
          "metadata": {
            "tags": []
          },
          "execution_count": 14
        }
      ]
    },
    {
      "cell_type": "code",
      "metadata": {
        "colab": {
          "base_uri": "https://localhost:8080/"
        },
        "id": "yI58VfYOVtBw",
        "outputId": "e16faf6a-e128-4964-e01b-8bb62dfa5d0f"
      },
      "source": [
        "# 요청 컬럼만 Series로 출력\r\n",
        "df['사고유형중분류']"
      ],
      "execution_count": null,
      "outputs": [
        {
          "output_type": "execute_result",
          "data": {
            "text/plain": [
              "0        횡단중\n",
              "1        횡단중\n",
              "2        횡단중\n",
              "3        횡단중\n",
              "4        횡단중\n",
              "       ...  \n",
              "205    철길건널목\n",
              "206    철길건널목\n",
              "207    철길건널목\n",
              "208    철길건널목\n",
              "209    철길건널목\n",
              "Name: 사고유형중분류, Length: 210, dtype: object"
            ]
          },
          "metadata": {
            "tags": []
          },
          "execution_count": 17
        }
      ]
    },
    {
      "cell_type": "code",
      "metadata": {
        "colab": {
          "base_uri": "https://localhost:8080/",
          "height": 133
        },
        "id": "8H7EjXP2WM9t",
        "outputId": "c6713f0b-8092-4bea-a5e2-d34dd747b779"
      },
      "source": [
        "# 행의 범위를 지정해서 출력\r\n",
        "df[0:3]"
      ],
      "execution_count": null,
      "outputs": [
        {
          "output_type": "execute_result",
          "data": {
            "text/html": [
              "<div>\n",
              "<style scoped>\n",
              "    .dataframe tbody tr th:only-of-type {\n",
              "        vertical-align: middle;\n",
              "    }\n",
              "\n",
              "    .dataframe tbody tr th {\n",
              "        vertical-align: top;\n",
              "    }\n",
              "\n",
              "    .dataframe thead th {\n",
              "        text-align: right;\n",
              "    }\n",
              "</style>\n",
              "<table border=\"1\" class=\"dataframe\">\n",
              "  <thead>\n",
              "    <tr style=\"text-align: right;\">\n",
              "      <th></th>\n",
              "      <th>사고유형대분류</th>\n",
              "      <th>사고유형중분류</th>\n",
              "      <th>사고유형</th>\n",
              "      <th>월</th>\n",
              "      <th>사고건수</th>\n",
              "      <th>사망자수</th>\n",
              "      <th>중상자수</th>\n",
              "      <th>경상자수</th>\n",
              "      <th>부상신고자수</th>\n",
              "    </tr>\n",
              "  </thead>\n",
              "  <tbody>\n",
              "    <tr>\n",
              "      <th>0</th>\n",
              "      <td>차대사람</td>\n",
              "      <td>횡단중</td>\n",
              "      <td>횡단중</td>\n",
              "      <td>1</td>\n",
              "      <td>1532</td>\n",
              "      <td>69</td>\n",
              "      <td>841</td>\n",
              "      <td>650</td>\n",
              "      <td>61</td>\n",
              "    </tr>\n",
              "    <tr>\n",
              "      <th>1</th>\n",
              "      <td>차대사람</td>\n",
              "      <td>횡단중</td>\n",
              "      <td>횡단중</td>\n",
              "      <td>2</td>\n",
              "      <td>1201</td>\n",
              "      <td>40</td>\n",
              "      <td>599</td>\n",
              "      <td>594</td>\n",
              "      <td>39</td>\n",
              "    </tr>\n",
              "    <tr>\n",
              "      <th>2</th>\n",
              "      <td>차대사람</td>\n",
              "      <td>횡단중</td>\n",
              "      <td>횡단중</td>\n",
              "      <td>3</td>\n",
              "      <td>1453</td>\n",
              "      <td>47</td>\n",
              "      <td>736</td>\n",
              "      <td>709</td>\n",
              "      <td>61</td>\n",
              "    </tr>\n",
              "  </tbody>\n",
              "</table>\n",
              "</div>"
            ],
            "text/plain": [
              "  사고유형대분류 사고유형중분류 사고유형  월  사고건수  사망자수  중상자수  경상자수  부상신고자수\n",
              "0    차대사람     횡단중  횡단중  1  1532    69   841   650      61\n",
              "1    차대사람     횡단중  횡단중  2  1201    40   599   594      39\n",
              "2    차대사람     횡단중  횡단중  3  1453    47   736   709      61"
            ]
          },
          "metadata": {
            "tags": []
          },
          "execution_count": 18
        }
      ]
    },
    {
      "cell_type": "code",
      "metadata": {
        "colab": {
          "base_uri": "https://localhost:8080/",
          "height": 391
        },
        "id": "QHs19U83WeU5",
        "outputId": "de8814fe-4ec4-4075-e9a0-46df09942a29"
      },
      "source": [
        "# 범위를 특정해서 데이터 확인\r\n",
        "df.loc[:,['월', '사고건수']]"
      ],
      "execution_count": null,
      "outputs": [
        {
          "output_type": "execute_result",
          "data": {
            "text/html": [
              "<div>\n",
              "<style scoped>\n",
              "    .dataframe tbody tr th:only-of-type {\n",
              "        vertical-align: middle;\n",
              "    }\n",
              "\n",
              "    .dataframe tbody tr th {\n",
              "        vertical-align: top;\n",
              "    }\n",
              "\n",
              "    .dataframe thead th {\n",
              "        text-align: right;\n",
              "    }\n",
              "</style>\n",
              "<table border=\"1\" class=\"dataframe\">\n",
              "  <thead>\n",
              "    <tr style=\"text-align: right;\">\n",
              "      <th></th>\n",
              "      <th>월</th>\n",
              "      <th>사고건수</th>\n",
              "    </tr>\n",
              "  </thead>\n",
              "  <tbody>\n",
              "    <tr>\n",
              "      <th>0</th>\n",
              "      <td>1</td>\n",
              "      <td>1532</td>\n",
              "    </tr>\n",
              "    <tr>\n",
              "      <th>1</th>\n",
              "      <td>2</td>\n",
              "      <td>1201</td>\n",
              "    </tr>\n",
              "    <tr>\n",
              "      <th>2</th>\n",
              "      <td>3</td>\n",
              "      <td>1453</td>\n",
              "    </tr>\n",
              "    <tr>\n",
              "      <th>3</th>\n",
              "      <td>4</td>\n",
              "      <td>1604</td>\n",
              "    </tr>\n",
              "    <tr>\n",
              "      <th>4</th>\n",
              "      <td>5</td>\n",
              "      <td>1516</td>\n",
              "    </tr>\n",
              "    <tr>\n",
              "      <th>...</th>\n",
              "      <td>...</td>\n",
              "      <td>...</td>\n",
              "    </tr>\n",
              "    <tr>\n",
              "      <th>205</th>\n",
              "      <td>6</td>\n",
              "      <td>1</td>\n",
              "    </tr>\n",
              "    <tr>\n",
              "      <th>206</th>\n",
              "      <td>7</td>\n",
              "      <td>1</td>\n",
              "    </tr>\n",
              "    <tr>\n",
              "      <th>207</th>\n",
              "      <td>8</td>\n",
              "      <td>1</td>\n",
              "    </tr>\n",
              "    <tr>\n",
              "      <th>208</th>\n",
              "      <td>9</td>\n",
              "      <td>1</td>\n",
              "    </tr>\n",
              "    <tr>\n",
              "      <th>209</th>\n",
              "      <td>10</td>\n",
              "      <td>2</td>\n",
              "    </tr>\n",
              "  </tbody>\n",
              "</table>\n",
              "<p>210 rows × 2 columns</p>\n",
              "</div>"
            ],
            "text/plain": [
              "      월  사고건수\n",
              "0     1  1532\n",
              "1     2  1201\n",
              "2     3  1453\n",
              "3     4  1604\n",
              "4     5  1516\n",
              "..   ..   ...\n",
              "205   6     1\n",
              "206   7     1\n",
              "207   8     1\n",
              "208   9     1\n",
              "209  10     2\n",
              "\n",
              "[210 rows x 2 columns]"
            ]
          },
          "metadata": {
            "tags": []
          },
          "execution_count": 19
        }
      ]
    },
    {
      "cell_type": "code",
      "metadata": {
        "colab": {
          "base_uri": "https://localhost:8080/"
        },
        "id": "Fi9iPtr3n033",
        "outputId": "17570f3d-4559-40c7-dbcf-28ab4f2eba12"
      },
      "source": [
        "# 표준편차 확인\r\n",
        "df.std()"
      ],
      "execution_count": null,
      "outputs": [
        {
          "output_type": "execute_result",
          "data": {
            "text/plain": [
              "월            3.446433\n",
              "사고건수      1795.046438\n",
              "사망자수        16.758690\n",
              "중상자수       509.755065\n",
              "경상자수      2206.423240\n",
              "부상신고자수     196.304494\n",
              "dtype: float64"
            ]
          },
          "metadata": {
            "tags": []
          },
          "execution_count": 37
        }
      ]
    },
    {
      "cell_type": "markdown",
      "metadata": {
        "id": "RULDa9n6n2YH"
      },
      "source": [
        "# 사고유형(차대사람) 기준 *데이터* 시각화\r\n",
        "\r\n"
      ]
    },
    {
      "cell_type": "code",
      "metadata": {
        "colab": {
          "base_uri": "https://localhost:8080/",
          "height": 1000
        },
        "id": "MipBpMwYdTO8",
        "outputId": "2b1ff9af-ea99-4d77-d608-a30e1f000eca"
      },
      "source": [
        "df2 = df[df[\"사고유형대분류\"] == \"차대사람\"].copy()\r\n",
        "df2"
      ],
      "execution_count": null,
      "outputs": [
        {
          "output_type": "execute_result",
          "data": {
            "text/html": [
              "<div>\n",
              "<style scoped>\n",
              "    .dataframe tbody tr th:only-of-type {\n",
              "        vertical-align: middle;\n",
              "    }\n",
              "\n",
              "    .dataframe tbody tr th {\n",
              "        vertical-align: top;\n",
              "    }\n",
              "\n",
              "    .dataframe thead th {\n",
              "        text-align: right;\n",
              "    }\n",
              "</style>\n",
              "<table border=\"1\" class=\"dataframe\">\n",
              "  <thead>\n",
              "    <tr style=\"text-align: right;\">\n",
              "      <th></th>\n",
              "      <th>사고유형대분류</th>\n",
              "      <th>사고유형중분류</th>\n",
              "      <th>사고유형</th>\n",
              "      <th>월</th>\n",
              "      <th>사고건수</th>\n",
              "      <th>사망자수</th>\n",
              "      <th>중상자수</th>\n",
              "      <th>경상자수</th>\n",
              "      <th>부상신고자수</th>\n",
              "    </tr>\n",
              "  </thead>\n",
              "  <tbody>\n",
              "    <tr>\n",
              "      <th>0</th>\n",
              "      <td>차대사람</td>\n",
              "      <td>횡단중</td>\n",
              "      <td>횡단중</td>\n",
              "      <td>1</td>\n",
              "      <td>1532</td>\n",
              "      <td>69</td>\n",
              "      <td>841</td>\n",
              "      <td>650</td>\n",
              "      <td>61</td>\n",
              "    </tr>\n",
              "    <tr>\n",
              "      <th>1</th>\n",
              "      <td>차대사람</td>\n",
              "      <td>횡단중</td>\n",
              "      <td>횡단중</td>\n",
              "      <td>2</td>\n",
              "      <td>1201</td>\n",
              "      <td>40</td>\n",
              "      <td>599</td>\n",
              "      <td>594</td>\n",
              "      <td>39</td>\n",
              "    </tr>\n",
              "    <tr>\n",
              "      <th>2</th>\n",
              "      <td>차대사람</td>\n",
              "      <td>횡단중</td>\n",
              "      <td>횡단중</td>\n",
              "      <td>3</td>\n",
              "      <td>1453</td>\n",
              "      <td>47</td>\n",
              "      <td>736</td>\n",
              "      <td>709</td>\n",
              "      <td>61</td>\n",
              "    </tr>\n",
              "    <tr>\n",
              "      <th>3</th>\n",
              "      <td>차대사람</td>\n",
              "      <td>횡단중</td>\n",
              "      <td>횡단중</td>\n",
              "      <td>4</td>\n",
              "      <td>1604</td>\n",
              "      <td>55</td>\n",
              "      <td>778</td>\n",
              "      <td>783</td>\n",
              "      <td>73</td>\n",
              "    </tr>\n",
              "    <tr>\n",
              "      <th>4</th>\n",
              "      <td>차대사람</td>\n",
              "      <td>횡단중</td>\n",
              "      <td>횡단중</td>\n",
              "      <td>5</td>\n",
              "      <td>1516</td>\n",
              "      <td>61</td>\n",
              "      <td>751</td>\n",
              "      <td>715</td>\n",
              "      <td>85</td>\n",
              "    </tr>\n",
              "    <tr>\n",
              "      <th>5</th>\n",
              "      <td>차대사람</td>\n",
              "      <td>횡단중</td>\n",
              "      <td>횡단중</td>\n",
              "      <td>6</td>\n",
              "      <td>1364</td>\n",
              "      <td>44</td>\n",
              "      <td>635</td>\n",
              "      <td>707</td>\n",
              "      <td>61</td>\n",
              "    </tr>\n",
              "    <tr>\n",
              "      <th>6</th>\n",
              "      <td>차대사람</td>\n",
              "      <td>횡단중</td>\n",
              "      <td>횡단중</td>\n",
              "      <td>7</td>\n",
              "      <td>1399</td>\n",
              "      <td>36</td>\n",
              "      <td>654</td>\n",
              "      <td>731</td>\n",
              "      <td>65</td>\n",
              "    </tr>\n",
              "    <tr>\n",
              "      <th>7</th>\n",
              "      <td>차대사람</td>\n",
              "      <td>횡단중</td>\n",
              "      <td>횡단중</td>\n",
              "      <td>8</td>\n",
              "      <td>1372</td>\n",
              "      <td>48</td>\n",
              "      <td>647</td>\n",
              "      <td>688</td>\n",
              "      <td>81</td>\n",
              "    </tr>\n",
              "    <tr>\n",
              "      <th>8</th>\n",
              "      <td>차대사람</td>\n",
              "      <td>횡단중</td>\n",
              "      <td>횡단중</td>\n",
              "      <td>9</td>\n",
              "      <td>1516</td>\n",
              "      <td>63</td>\n",
              "      <td>732</td>\n",
              "      <td>743</td>\n",
              "      <td>94</td>\n",
              "    </tr>\n",
              "    <tr>\n",
              "      <th>9</th>\n",
              "      <td>차대사람</td>\n",
              "      <td>횡단중</td>\n",
              "      <td>횡단중</td>\n",
              "      <td>10</td>\n",
              "      <td>1716</td>\n",
              "      <td>67</td>\n",
              "      <td>863</td>\n",
              "      <td>821</td>\n",
              "      <td>66</td>\n",
              "    </tr>\n",
              "    <tr>\n",
              "      <th>10</th>\n",
              "      <td>차대사람</td>\n",
              "      <td>횡단중</td>\n",
              "      <td>횡단중</td>\n",
              "      <td>11</td>\n",
              "      <td>1798</td>\n",
              "      <td>64</td>\n",
              "      <td>890</td>\n",
              "      <td>879</td>\n",
              "      <td>66</td>\n",
              "    </tr>\n",
              "    <tr>\n",
              "      <th>11</th>\n",
              "      <td>차대사람</td>\n",
              "      <td>횡단중</td>\n",
              "      <td>횡단중</td>\n",
              "      <td>12</td>\n",
              "      <td>1630</td>\n",
              "      <td>58</td>\n",
              "      <td>817</td>\n",
              "      <td>792</td>\n",
              "      <td>70</td>\n",
              "    </tr>\n",
              "    <tr>\n",
              "      <th>12</th>\n",
              "      <td>차대사람</td>\n",
              "      <td>차도통행중</td>\n",
              "      <td>차도통행중</td>\n",
              "      <td>1</td>\n",
              "      <td>353</td>\n",
              "      <td>16</td>\n",
              "      <td>155</td>\n",
              "      <td>178</td>\n",
              "      <td>15</td>\n",
              "    </tr>\n",
              "    <tr>\n",
              "      <th>13</th>\n",
              "      <td>차대사람</td>\n",
              "      <td>차도통행중</td>\n",
              "      <td>차도통행중</td>\n",
              "      <td>2</td>\n",
              "      <td>329</td>\n",
              "      <td>11</td>\n",
              "      <td>139</td>\n",
              "      <td>161</td>\n",
              "      <td>24</td>\n",
              "    </tr>\n",
              "    <tr>\n",
              "      <th>14</th>\n",
              "      <td>차대사람</td>\n",
              "      <td>차도통행중</td>\n",
              "      <td>차도통행중</td>\n",
              "      <td>3</td>\n",
              "      <td>419</td>\n",
              "      <td>11</td>\n",
              "      <td>171</td>\n",
              "      <td>216</td>\n",
              "      <td>31</td>\n",
              "    </tr>\n",
              "    <tr>\n",
              "      <th>15</th>\n",
              "      <td>차대사람</td>\n",
              "      <td>차도통행중</td>\n",
              "      <td>차도통행중</td>\n",
              "      <td>4</td>\n",
              "      <td>387</td>\n",
              "      <td>12</td>\n",
              "      <td>150</td>\n",
              "      <td>221</td>\n",
              "      <td>21</td>\n",
              "    </tr>\n",
              "    <tr>\n",
              "      <th>16</th>\n",
              "      <td>차대사람</td>\n",
              "      <td>차도통행중</td>\n",
              "      <td>차도통행중</td>\n",
              "      <td>5</td>\n",
              "      <td>421</td>\n",
              "      <td>13</td>\n",
              "      <td>160</td>\n",
              "      <td>232</td>\n",
              "      <td>29</td>\n",
              "    </tr>\n",
              "    <tr>\n",
              "      <th>17</th>\n",
              "      <td>차대사람</td>\n",
              "      <td>차도통행중</td>\n",
              "      <td>차도통행중</td>\n",
              "      <td>6</td>\n",
              "      <td>353</td>\n",
              "      <td>12</td>\n",
              "      <td>130</td>\n",
              "      <td>196</td>\n",
              "      <td>30</td>\n",
              "    </tr>\n",
              "    <tr>\n",
              "      <th>18</th>\n",
              "      <td>차대사람</td>\n",
              "      <td>차도통행중</td>\n",
              "      <td>차도통행중</td>\n",
              "      <td>7</td>\n",
              "      <td>364</td>\n",
              "      <td>10</td>\n",
              "      <td>139</td>\n",
              "      <td>211</td>\n",
              "      <td>16</td>\n",
              "    </tr>\n",
              "    <tr>\n",
              "      <th>19</th>\n",
              "      <td>차대사람</td>\n",
              "      <td>차도통행중</td>\n",
              "      <td>차도통행중</td>\n",
              "      <td>8</td>\n",
              "      <td>376</td>\n",
              "      <td>13</td>\n",
              "      <td>157</td>\n",
              "      <td>208</td>\n",
              "      <td>20</td>\n",
              "    </tr>\n",
              "    <tr>\n",
              "      <th>20</th>\n",
              "      <td>차대사람</td>\n",
              "      <td>차도통행중</td>\n",
              "      <td>차도통행중</td>\n",
              "      <td>9</td>\n",
              "      <td>390</td>\n",
              "      <td>17</td>\n",
              "      <td>158</td>\n",
              "      <td>209</td>\n",
              "      <td>19</td>\n",
              "    </tr>\n",
              "    <tr>\n",
              "      <th>21</th>\n",
              "      <td>차대사람</td>\n",
              "      <td>차도통행중</td>\n",
              "      <td>차도통행중</td>\n",
              "      <td>10</td>\n",
              "      <td>444</td>\n",
              "      <td>15</td>\n",
              "      <td>176</td>\n",
              "      <td>245</td>\n",
              "      <td>22</td>\n",
              "    </tr>\n",
              "    <tr>\n",
              "      <th>22</th>\n",
              "      <td>차대사람</td>\n",
              "      <td>차도통행중</td>\n",
              "      <td>차도통행중</td>\n",
              "      <td>11</td>\n",
              "      <td>487</td>\n",
              "      <td>23</td>\n",
              "      <td>225</td>\n",
              "      <td>231</td>\n",
              "      <td>30</td>\n",
              "    </tr>\n",
              "    <tr>\n",
              "      <th>23</th>\n",
              "      <td>차대사람</td>\n",
              "      <td>차도통행중</td>\n",
              "      <td>차도통행중</td>\n",
              "      <td>12</td>\n",
              "      <td>442</td>\n",
              "      <td>27</td>\n",
              "      <td>184</td>\n",
              "      <td>219</td>\n",
              "      <td>36</td>\n",
              "    </tr>\n",
              "    <tr>\n",
              "      <th>24</th>\n",
              "      <td>차대사람</td>\n",
              "      <td>길가장자리구역통행중</td>\n",
              "      <td>길가장자리구역통행중</td>\n",
              "      <td>1</td>\n",
              "      <td>210</td>\n",
              "      <td>5</td>\n",
              "      <td>73</td>\n",
              "      <td>140</td>\n",
              "      <td>24</td>\n",
              "    </tr>\n",
              "    <tr>\n",
              "      <th>25</th>\n",
              "      <td>차대사람</td>\n",
              "      <td>길가장자리구역통행중</td>\n",
              "      <td>길가장자리구역통행중</td>\n",
              "      <td>2</td>\n",
              "      <td>207</td>\n",
              "      <td>5</td>\n",
              "      <td>54</td>\n",
              "      <td>130</td>\n",
              "      <td>23</td>\n",
              "    </tr>\n",
              "    <tr>\n",
              "      <th>26</th>\n",
              "      <td>차대사람</td>\n",
              "      <td>길가장자리구역통행중</td>\n",
              "      <td>길가장자리구역통행중</td>\n",
              "      <td>3</td>\n",
              "      <td>283</td>\n",
              "      <td>4</td>\n",
              "      <td>91</td>\n",
              "      <td>177</td>\n",
              "      <td>20</td>\n",
              "    </tr>\n",
              "    <tr>\n",
              "      <th>27</th>\n",
              "      <td>차대사람</td>\n",
              "      <td>길가장자리구역통행중</td>\n",
              "      <td>길가장자리구역통행중</td>\n",
              "      <td>4</td>\n",
              "      <td>237</td>\n",
              "      <td>2</td>\n",
              "      <td>72</td>\n",
              "      <td>150</td>\n",
              "      <td>18</td>\n",
              "    </tr>\n",
              "    <tr>\n",
              "      <th>28</th>\n",
              "      <td>차대사람</td>\n",
              "      <td>길가장자리구역통행중</td>\n",
              "      <td>길가장자리구역통행중</td>\n",
              "      <td>5</td>\n",
              "      <td>216</td>\n",
              "      <td>1</td>\n",
              "      <td>60</td>\n",
              "      <td>149</td>\n",
              "      <td>17</td>\n",
              "    </tr>\n",
              "    <tr>\n",
              "      <th>29</th>\n",
              "      <td>차대사람</td>\n",
              "      <td>길가장자리구역통행중</td>\n",
              "      <td>길가장자리구역통행중</td>\n",
              "      <td>6</td>\n",
              "      <td>187</td>\n",
              "      <td>2</td>\n",
              "      <td>54</td>\n",
              "      <td>120</td>\n",
              "      <td>15</td>\n",
              "    </tr>\n",
              "    <tr>\n",
              "      <th>30</th>\n",
              "      <td>차대사람</td>\n",
              "      <td>길가장자리구역통행중</td>\n",
              "      <td>길가장자리구역통행중</td>\n",
              "      <td>7</td>\n",
              "      <td>182</td>\n",
              "      <td>0</td>\n",
              "      <td>49</td>\n",
              "      <td>119</td>\n",
              "      <td>19</td>\n",
              "    </tr>\n",
              "    <tr>\n",
              "      <th>31</th>\n",
              "      <td>차대사람</td>\n",
              "      <td>길가장자리구역통행중</td>\n",
              "      <td>길가장자리구역통행중</td>\n",
              "      <td>8</td>\n",
              "      <td>218</td>\n",
              "      <td>2</td>\n",
              "      <td>60</td>\n",
              "      <td>141</td>\n",
              "      <td>20</td>\n",
              "    </tr>\n",
              "    <tr>\n",
              "      <th>32</th>\n",
              "      <td>차대사람</td>\n",
              "      <td>길가장자리구역통행중</td>\n",
              "      <td>길가장자리구역통행중</td>\n",
              "      <td>9</td>\n",
              "      <td>239</td>\n",
              "      <td>7</td>\n",
              "      <td>73</td>\n",
              "      <td>150</td>\n",
              "      <td>18</td>\n",
              "    </tr>\n",
              "    <tr>\n",
              "      <th>33</th>\n",
              "      <td>차대사람</td>\n",
              "      <td>길가장자리구역통행중</td>\n",
              "      <td>길가장자리구역통행중</td>\n",
              "      <td>10</td>\n",
              "      <td>247</td>\n",
              "      <td>5</td>\n",
              "      <td>86</td>\n",
              "      <td>147</td>\n",
              "      <td>18</td>\n",
              "    </tr>\n",
              "    <tr>\n",
              "      <th>34</th>\n",
              "      <td>차대사람</td>\n",
              "      <td>길가장자리구역통행중</td>\n",
              "      <td>길가장자리구역통행중</td>\n",
              "      <td>11</td>\n",
              "      <td>256</td>\n",
              "      <td>2</td>\n",
              "      <td>84</td>\n",
              "      <td>160</td>\n",
              "      <td>18</td>\n",
              "    </tr>\n",
              "    <tr>\n",
              "      <th>35</th>\n",
              "      <td>차대사람</td>\n",
              "      <td>길가장자리구역통행중</td>\n",
              "      <td>길가장자리구역통행중</td>\n",
              "      <td>12</td>\n",
              "      <td>223</td>\n",
              "      <td>6</td>\n",
              "      <td>60</td>\n",
              "      <td>151</td>\n",
              "      <td>16</td>\n",
              "    </tr>\n",
              "    <tr>\n",
              "      <th>36</th>\n",
              "      <td>차대사람</td>\n",
              "      <td>보도통행중</td>\n",
              "      <td>보도통행중</td>\n",
              "      <td>1</td>\n",
              "      <td>175</td>\n",
              "      <td>2</td>\n",
              "      <td>84</td>\n",
              "      <td>93</td>\n",
              "      <td>7</td>\n",
              "    </tr>\n",
              "    <tr>\n",
              "      <th>37</th>\n",
              "      <td>차대사람</td>\n",
              "      <td>보도통행중</td>\n",
              "      <td>보도통행중</td>\n",
              "      <td>2</td>\n",
              "      <td>161</td>\n",
              "      <td>1</td>\n",
              "      <td>52</td>\n",
              "      <td>113</td>\n",
              "      <td>13</td>\n",
              "    </tr>\n",
              "    <tr>\n",
              "      <th>38</th>\n",
              "      <td>차대사람</td>\n",
              "      <td>보도통행중</td>\n",
              "      <td>보도통행중</td>\n",
              "      <td>3</td>\n",
              "      <td>200</td>\n",
              "      <td>5</td>\n",
              "      <td>83</td>\n",
              "      <td>113</td>\n",
              "      <td>11</td>\n",
              "    </tr>\n",
              "    <tr>\n",
              "      <th>39</th>\n",
              "      <td>차대사람</td>\n",
              "      <td>보도통행중</td>\n",
              "      <td>보도통행중</td>\n",
              "      <td>4</td>\n",
              "      <td>195</td>\n",
              "      <td>2</td>\n",
              "      <td>95</td>\n",
              "      <td>104</td>\n",
              "      <td>12</td>\n",
              "    </tr>\n",
              "    <tr>\n",
              "      <th>40</th>\n",
              "      <td>차대사람</td>\n",
              "      <td>보도통행중</td>\n",
              "      <td>보도통행중</td>\n",
              "      <td>5</td>\n",
              "      <td>212</td>\n",
              "      <td>0</td>\n",
              "      <td>63</td>\n",
              "      <td>146</td>\n",
              "      <td>16</td>\n",
              "    </tr>\n",
              "    <tr>\n",
              "      <th>41</th>\n",
              "      <td>차대사람</td>\n",
              "      <td>보도통행중</td>\n",
              "      <td>보도통행중</td>\n",
              "      <td>6</td>\n",
              "      <td>185</td>\n",
              "      <td>3</td>\n",
              "      <td>67</td>\n",
              "      <td>106</td>\n",
              "      <td>15</td>\n",
              "    </tr>\n",
              "    <tr>\n",
              "      <th>42</th>\n",
              "      <td>차대사람</td>\n",
              "      <td>보도통행중</td>\n",
              "      <td>보도통행중</td>\n",
              "      <td>7</td>\n",
              "      <td>199</td>\n",
              "      <td>3</td>\n",
              "      <td>65</td>\n",
              "      <td>130</td>\n",
              "      <td>19</td>\n",
              "    </tr>\n",
              "    <tr>\n",
              "      <th>43</th>\n",
              "      <td>차대사람</td>\n",
              "      <td>보도통행중</td>\n",
              "      <td>보도통행중</td>\n",
              "      <td>8</td>\n",
              "      <td>181</td>\n",
              "      <td>4</td>\n",
              "      <td>60</td>\n",
              "      <td>114</td>\n",
              "      <td>14</td>\n",
              "    </tr>\n",
              "    <tr>\n",
              "      <th>44</th>\n",
              "      <td>차대사람</td>\n",
              "      <td>보도통행중</td>\n",
              "      <td>보도통행중</td>\n",
              "      <td>9</td>\n",
              "      <td>203</td>\n",
              "      <td>4</td>\n",
              "      <td>79</td>\n",
              "      <td>113</td>\n",
              "      <td>22</td>\n",
              "    </tr>\n",
              "    <tr>\n",
              "      <th>45</th>\n",
              "      <td>차대사람</td>\n",
              "      <td>보도통행중</td>\n",
              "      <td>보도통행중</td>\n",
              "      <td>10</td>\n",
              "      <td>208</td>\n",
              "      <td>2</td>\n",
              "      <td>85</td>\n",
              "      <td>118</td>\n",
              "      <td>16</td>\n",
              "    </tr>\n",
              "    <tr>\n",
              "      <th>46</th>\n",
              "      <td>차대사람</td>\n",
              "      <td>보도통행중</td>\n",
              "      <td>보도통행중</td>\n",
              "      <td>11</td>\n",
              "      <td>224</td>\n",
              "      <td>6</td>\n",
              "      <td>83</td>\n",
              "      <td>140</td>\n",
              "      <td>15</td>\n",
              "    </tr>\n",
              "    <tr>\n",
              "      <th>47</th>\n",
              "      <td>차대사람</td>\n",
              "      <td>보도통행중</td>\n",
              "      <td>보도통행중</td>\n",
              "      <td>12</td>\n",
              "      <td>192</td>\n",
              "      <td>5</td>\n",
              "      <td>83</td>\n",
              "      <td>108</td>\n",
              "      <td>10</td>\n",
              "    </tr>\n",
              "    <tr>\n",
              "      <th>48</th>\n",
              "      <td>차대사람</td>\n",
              "      <td>기타</td>\n",
              "      <td>기타</td>\n",
              "      <td>1</td>\n",
              "      <td>1507</td>\n",
              "      <td>39</td>\n",
              "      <td>584</td>\n",
              "      <td>863</td>\n",
              "      <td>94</td>\n",
              "    </tr>\n",
              "    <tr>\n",
              "      <th>49</th>\n",
              "      <td>차대사람</td>\n",
              "      <td>기타</td>\n",
              "      <td>기타</td>\n",
              "      <td>2</td>\n",
              "      <td>1112</td>\n",
              "      <td>27</td>\n",
              "      <td>385</td>\n",
              "      <td>687</td>\n",
              "      <td>80</td>\n",
              "    </tr>\n",
              "    <tr>\n",
              "      <th>50</th>\n",
              "      <td>차대사람</td>\n",
              "      <td>기타</td>\n",
              "      <td>기타</td>\n",
              "      <td>3</td>\n",
              "      <td>1353</td>\n",
              "      <td>24</td>\n",
              "      <td>444</td>\n",
              "      <td>838</td>\n",
              "      <td>99</td>\n",
              "    </tr>\n",
              "    <tr>\n",
              "      <th>51</th>\n",
              "      <td>차대사람</td>\n",
              "      <td>기타</td>\n",
              "      <td>기타</td>\n",
              "      <td>4</td>\n",
              "      <td>1435</td>\n",
              "      <td>23</td>\n",
              "      <td>507</td>\n",
              "      <td>871</td>\n",
              "      <td>112</td>\n",
              "    </tr>\n",
              "    <tr>\n",
              "      <th>52</th>\n",
              "      <td>차대사람</td>\n",
              "      <td>기타</td>\n",
              "      <td>기타</td>\n",
              "      <td>5</td>\n",
              "      <td>1654</td>\n",
              "      <td>26</td>\n",
              "      <td>524</td>\n",
              "      <td>1032</td>\n",
              "      <td>148</td>\n",
              "    </tr>\n",
              "    <tr>\n",
              "      <th>53</th>\n",
              "      <td>차대사람</td>\n",
              "      <td>기타</td>\n",
              "      <td>기타</td>\n",
              "      <td>6</td>\n",
              "      <td>1476</td>\n",
              "      <td>32</td>\n",
              "      <td>484</td>\n",
              "      <td>936</td>\n",
              "      <td>133</td>\n",
              "    </tr>\n",
              "    <tr>\n",
              "      <th>54</th>\n",
              "      <td>차대사람</td>\n",
              "      <td>기타</td>\n",
              "      <td>기타</td>\n",
              "      <td>7</td>\n",
              "      <td>1492</td>\n",
              "      <td>23</td>\n",
              "      <td>466</td>\n",
              "      <td>927</td>\n",
              "      <td>148</td>\n",
              "    </tr>\n",
              "    <tr>\n",
              "      <th>55</th>\n",
              "      <td>차대사람</td>\n",
              "      <td>기타</td>\n",
              "      <td>기타</td>\n",
              "      <td>8</td>\n",
              "      <td>1454</td>\n",
              "      <td>30</td>\n",
              "      <td>509</td>\n",
              "      <td>865</td>\n",
              "      <td>138</td>\n",
              "    </tr>\n",
              "    <tr>\n",
              "      <th>56</th>\n",
              "      <td>차대사람</td>\n",
              "      <td>기타</td>\n",
              "      <td>기타</td>\n",
              "      <td>9</td>\n",
              "      <td>1586</td>\n",
              "      <td>25</td>\n",
              "      <td>573</td>\n",
              "      <td>926</td>\n",
              "      <td>140</td>\n",
              "    </tr>\n",
              "    <tr>\n",
              "      <th>57</th>\n",
              "      <td>차대사람</td>\n",
              "      <td>기타</td>\n",
              "      <td>기타</td>\n",
              "      <td>10</td>\n",
              "      <td>1800</td>\n",
              "      <td>41</td>\n",
              "      <td>632</td>\n",
              "      <td>1073</td>\n",
              "      <td>146</td>\n",
              "    </tr>\n",
              "    <tr>\n",
              "      <th>58</th>\n",
              "      <td>차대사람</td>\n",
              "      <td>기타</td>\n",
              "      <td>기타</td>\n",
              "      <td>11</td>\n",
              "      <td>1730</td>\n",
              "      <td>36</td>\n",
              "      <td>609</td>\n",
              "      <td>1007</td>\n",
              "      <td>155</td>\n",
              "    </tr>\n",
              "    <tr>\n",
              "      <th>59</th>\n",
              "      <td>차대사람</td>\n",
              "      <td>기타</td>\n",
              "      <td>기타</td>\n",
              "      <td>12</td>\n",
              "      <td>1645</td>\n",
              "      <td>35</td>\n",
              "      <td>541</td>\n",
              "      <td>985</td>\n",
              "      <td>161</td>\n",
              "    </tr>\n",
              "  </tbody>\n",
              "</table>\n",
              "</div>"
            ],
            "text/plain": [
              "   사고유형대분류     사고유형중분류        사고유형   월  사고건수  사망자수  중상자수  경상자수  부상신고자수\n",
              "0     차대사람         횡단중         횡단중   1  1532    69   841   650      61\n",
              "1     차대사람         횡단중         횡단중   2  1201    40   599   594      39\n",
              "2     차대사람         횡단중         횡단중   3  1453    47   736   709      61\n",
              "3     차대사람         횡단중         횡단중   4  1604    55   778   783      73\n",
              "4     차대사람         횡단중         횡단중   5  1516    61   751   715      85\n",
              "5     차대사람         횡단중         횡단중   6  1364    44   635   707      61\n",
              "6     차대사람         횡단중         횡단중   7  1399    36   654   731      65\n",
              "7     차대사람         횡단중         횡단중   8  1372    48   647   688      81\n",
              "8     차대사람         횡단중         횡단중   9  1516    63   732   743      94\n",
              "9     차대사람         횡단중         횡단중  10  1716    67   863   821      66\n",
              "10    차대사람         횡단중         횡단중  11  1798    64   890   879      66\n",
              "11    차대사람         횡단중         횡단중  12  1630    58   817   792      70\n",
              "12    차대사람       차도통행중       차도통행중   1   353    16   155   178      15\n",
              "13    차대사람       차도통행중       차도통행중   2   329    11   139   161      24\n",
              "14    차대사람       차도통행중       차도통행중   3   419    11   171   216      31\n",
              "15    차대사람       차도통행중       차도통행중   4   387    12   150   221      21\n",
              "16    차대사람       차도통행중       차도통행중   5   421    13   160   232      29\n",
              "17    차대사람       차도통행중       차도통행중   6   353    12   130   196      30\n",
              "18    차대사람       차도통행중       차도통행중   7   364    10   139   211      16\n",
              "19    차대사람       차도통행중       차도통행중   8   376    13   157   208      20\n",
              "20    차대사람       차도통행중       차도통행중   9   390    17   158   209      19\n",
              "21    차대사람       차도통행중       차도통행중  10   444    15   176   245      22\n",
              "22    차대사람       차도통행중       차도통행중  11   487    23   225   231      30\n",
              "23    차대사람       차도통행중       차도통행중  12   442    27   184   219      36\n",
              "24    차대사람  길가장자리구역통행중  길가장자리구역통행중   1   210     5    73   140      24\n",
              "25    차대사람  길가장자리구역통행중  길가장자리구역통행중   2   207     5    54   130      23\n",
              "26    차대사람  길가장자리구역통행중  길가장자리구역통행중   3   283     4    91   177      20\n",
              "27    차대사람  길가장자리구역통행중  길가장자리구역통행중   4   237     2    72   150      18\n",
              "28    차대사람  길가장자리구역통행중  길가장자리구역통행중   5   216     1    60   149      17\n",
              "29    차대사람  길가장자리구역통행중  길가장자리구역통행중   6   187     2    54   120      15\n",
              "30    차대사람  길가장자리구역통행중  길가장자리구역통행중   7   182     0    49   119      19\n",
              "31    차대사람  길가장자리구역통행중  길가장자리구역통행중   8   218     2    60   141      20\n",
              "32    차대사람  길가장자리구역통행중  길가장자리구역통행중   9   239     7    73   150      18\n",
              "33    차대사람  길가장자리구역통행중  길가장자리구역통행중  10   247     5    86   147      18\n",
              "34    차대사람  길가장자리구역통행중  길가장자리구역통행중  11   256     2    84   160      18\n",
              "35    차대사람  길가장자리구역통행중  길가장자리구역통행중  12   223     6    60   151      16\n",
              "36    차대사람       보도통행중       보도통행중   1   175     2    84    93       7\n",
              "37    차대사람       보도통행중       보도통행중   2   161     1    52   113      13\n",
              "38    차대사람       보도통행중       보도통행중   3   200     5    83   113      11\n",
              "39    차대사람       보도통행중       보도통행중   4   195     2    95   104      12\n",
              "40    차대사람       보도통행중       보도통행중   5   212     0    63   146      16\n",
              "41    차대사람       보도통행중       보도통행중   6   185     3    67   106      15\n",
              "42    차대사람       보도통행중       보도통행중   7   199     3    65   130      19\n",
              "43    차대사람       보도통행중       보도통행중   8   181     4    60   114      14\n",
              "44    차대사람       보도통행중       보도통행중   9   203     4    79   113      22\n",
              "45    차대사람       보도통행중       보도통행중  10   208     2    85   118      16\n",
              "46    차대사람       보도통행중       보도통행중  11   224     6    83   140      15\n",
              "47    차대사람       보도통행중       보도통행중  12   192     5    83   108      10\n",
              "48    차대사람          기타          기타   1  1507    39   584   863      94\n",
              "49    차대사람          기타          기타   2  1112    27   385   687      80\n",
              "50    차대사람          기타          기타   3  1353    24   444   838      99\n",
              "51    차대사람          기타          기타   4  1435    23   507   871     112\n",
              "52    차대사람          기타          기타   5  1654    26   524  1032     148\n",
              "53    차대사람          기타          기타   6  1476    32   484   936     133\n",
              "54    차대사람          기타          기타   7  1492    23   466   927     148\n",
              "55    차대사람          기타          기타   8  1454    30   509   865     138\n",
              "56    차대사람          기타          기타   9  1586    25   573   926     140\n",
              "57    차대사람          기타          기타  10  1800    41   632  1073     146\n",
              "58    차대사람          기타          기타  11  1730    36   609  1007     155\n",
              "59    차대사람          기타          기타  12  1645    35   541   985     161"
            ]
          },
          "metadata": {
            "tags": []
          },
          "execution_count": 24
        }
      ]
    },
    {
      "cell_type": "code",
      "metadata": {
        "colab": {
          "base_uri": "https://localhost:8080/",
          "height": 392
        },
        "id": "5dYniChddpUr",
        "outputId": "f9df0f1a-78cd-44c9-8b5e-c586d9254496"
      },
      "source": [
        "df3 = df[df[\"사고유형\"] == \"횡단중\"].copy()\r\n",
        "df3"
      ],
      "execution_count": null,
      "outputs": [
        {
          "output_type": "execute_result",
          "data": {
            "text/html": [
              "<div>\n",
              "<style scoped>\n",
              "    .dataframe tbody tr th:only-of-type {\n",
              "        vertical-align: middle;\n",
              "    }\n",
              "\n",
              "    .dataframe tbody tr th {\n",
              "        vertical-align: top;\n",
              "    }\n",
              "\n",
              "    .dataframe thead th {\n",
              "        text-align: right;\n",
              "    }\n",
              "</style>\n",
              "<table border=\"1\" class=\"dataframe\">\n",
              "  <thead>\n",
              "    <tr style=\"text-align: right;\">\n",
              "      <th></th>\n",
              "      <th>사고유형대분류</th>\n",
              "      <th>사고유형중분류</th>\n",
              "      <th>사고유형</th>\n",
              "      <th>월</th>\n",
              "      <th>사고건수</th>\n",
              "      <th>사망자수</th>\n",
              "      <th>중상자수</th>\n",
              "      <th>경상자수</th>\n",
              "      <th>부상신고자수</th>\n",
              "    </tr>\n",
              "  </thead>\n",
              "  <tbody>\n",
              "    <tr>\n",
              "      <th>0</th>\n",
              "      <td>차대사람</td>\n",
              "      <td>횡단중</td>\n",
              "      <td>횡단중</td>\n",
              "      <td>1</td>\n",
              "      <td>1532</td>\n",
              "      <td>69</td>\n",
              "      <td>841</td>\n",
              "      <td>650</td>\n",
              "      <td>61</td>\n",
              "    </tr>\n",
              "    <tr>\n",
              "      <th>1</th>\n",
              "      <td>차대사람</td>\n",
              "      <td>횡단중</td>\n",
              "      <td>횡단중</td>\n",
              "      <td>2</td>\n",
              "      <td>1201</td>\n",
              "      <td>40</td>\n",
              "      <td>599</td>\n",
              "      <td>594</td>\n",
              "      <td>39</td>\n",
              "    </tr>\n",
              "    <tr>\n",
              "      <th>2</th>\n",
              "      <td>차대사람</td>\n",
              "      <td>횡단중</td>\n",
              "      <td>횡단중</td>\n",
              "      <td>3</td>\n",
              "      <td>1453</td>\n",
              "      <td>47</td>\n",
              "      <td>736</td>\n",
              "      <td>709</td>\n",
              "      <td>61</td>\n",
              "    </tr>\n",
              "    <tr>\n",
              "      <th>3</th>\n",
              "      <td>차대사람</td>\n",
              "      <td>횡단중</td>\n",
              "      <td>횡단중</td>\n",
              "      <td>4</td>\n",
              "      <td>1604</td>\n",
              "      <td>55</td>\n",
              "      <td>778</td>\n",
              "      <td>783</td>\n",
              "      <td>73</td>\n",
              "    </tr>\n",
              "    <tr>\n",
              "      <th>4</th>\n",
              "      <td>차대사람</td>\n",
              "      <td>횡단중</td>\n",
              "      <td>횡단중</td>\n",
              "      <td>5</td>\n",
              "      <td>1516</td>\n",
              "      <td>61</td>\n",
              "      <td>751</td>\n",
              "      <td>715</td>\n",
              "      <td>85</td>\n",
              "    </tr>\n",
              "    <tr>\n",
              "      <th>5</th>\n",
              "      <td>차대사람</td>\n",
              "      <td>횡단중</td>\n",
              "      <td>횡단중</td>\n",
              "      <td>6</td>\n",
              "      <td>1364</td>\n",
              "      <td>44</td>\n",
              "      <td>635</td>\n",
              "      <td>707</td>\n",
              "      <td>61</td>\n",
              "    </tr>\n",
              "    <tr>\n",
              "      <th>6</th>\n",
              "      <td>차대사람</td>\n",
              "      <td>횡단중</td>\n",
              "      <td>횡단중</td>\n",
              "      <td>7</td>\n",
              "      <td>1399</td>\n",
              "      <td>36</td>\n",
              "      <td>654</td>\n",
              "      <td>731</td>\n",
              "      <td>65</td>\n",
              "    </tr>\n",
              "    <tr>\n",
              "      <th>7</th>\n",
              "      <td>차대사람</td>\n",
              "      <td>횡단중</td>\n",
              "      <td>횡단중</td>\n",
              "      <td>8</td>\n",
              "      <td>1372</td>\n",
              "      <td>48</td>\n",
              "      <td>647</td>\n",
              "      <td>688</td>\n",
              "      <td>81</td>\n",
              "    </tr>\n",
              "    <tr>\n",
              "      <th>8</th>\n",
              "      <td>차대사람</td>\n",
              "      <td>횡단중</td>\n",
              "      <td>횡단중</td>\n",
              "      <td>9</td>\n",
              "      <td>1516</td>\n",
              "      <td>63</td>\n",
              "      <td>732</td>\n",
              "      <td>743</td>\n",
              "      <td>94</td>\n",
              "    </tr>\n",
              "    <tr>\n",
              "      <th>9</th>\n",
              "      <td>차대사람</td>\n",
              "      <td>횡단중</td>\n",
              "      <td>횡단중</td>\n",
              "      <td>10</td>\n",
              "      <td>1716</td>\n",
              "      <td>67</td>\n",
              "      <td>863</td>\n",
              "      <td>821</td>\n",
              "      <td>66</td>\n",
              "    </tr>\n",
              "    <tr>\n",
              "      <th>10</th>\n",
              "      <td>차대사람</td>\n",
              "      <td>횡단중</td>\n",
              "      <td>횡단중</td>\n",
              "      <td>11</td>\n",
              "      <td>1798</td>\n",
              "      <td>64</td>\n",
              "      <td>890</td>\n",
              "      <td>879</td>\n",
              "      <td>66</td>\n",
              "    </tr>\n",
              "    <tr>\n",
              "      <th>11</th>\n",
              "      <td>차대사람</td>\n",
              "      <td>횡단중</td>\n",
              "      <td>횡단중</td>\n",
              "      <td>12</td>\n",
              "      <td>1630</td>\n",
              "      <td>58</td>\n",
              "      <td>817</td>\n",
              "      <td>792</td>\n",
              "      <td>70</td>\n",
              "    </tr>\n",
              "  </tbody>\n",
              "</table>\n",
              "</div>"
            ],
            "text/plain": [
              "   사고유형대분류 사고유형중분류 사고유형   월  사고건수  사망자수  중상자수  경상자수  부상신고자수\n",
              "0     차대사람     횡단중  횡단중   1  1532    69   841   650      61\n",
              "1     차대사람     횡단중  횡단중   2  1201    40   599   594      39\n",
              "2     차대사람     횡단중  횡단중   3  1453    47   736   709      61\n",
              "3     차대사람     횡단중  횡단중   4  1604    55   778   783      73\n",
              "4     차대사람     횡단중  횡단중   5  1516    61   751   715      85\n",
              "5     차대사람     횡단중  횡단중   6  1364    44   635   707      61\n",
              "6     차대사람     횡단중  횡단중   7  1399    36   654   731      65\n",
              "7     차대사람     횡단중  횡단중   8  1372    48   647   688      81\n",
              "8     차대사람     횡단중  횡단중   9  1516    63   732   743      94\n",
              "9     차대사람     횡단중  횡단중  10  1716    67   863   821      66\n",
              "10    차대사람     횡단중  횡단중  11  1798    64   890   879      66\n",
              "11    차대사람     횡단중  횡단중  12  1630    58   817   792      70"
            ]
          },
          "metadata": {
            "tags": []
          },
          "execution_count": 26
        }
      ]
    },
    {
      "cell_type": "code",
      "metadata": {
        "colab": {
          "base_uri": "https://localhost:8080/",
          "height": 298
        },
        "id": "fGYEafcXnU-h",
        "outputId": "6b90030f-6e45-47af-b9fd-5d668608be58"
      },
      "source": [
        "# 차대사람 데이터 중 사고유형별 사고건수 시각화\r\n",
        "plt.\r\n",
        "sns.barplot(data = df2, x = '사고유형중분류', y = '사고건수')"
      ],
      "execution_count": null,
      "outputs": [
        {
          "output_type": "execute_result",
          "data": {
            "text/plain": [
              "<matplotlib.axes._subplots.AxesSubplot at 0x7f43803578d0>"
            ]
          },
          "metadata": {
            "tags": []
          },
          "execution_count": 35
        },
        {
          "output_type": "display_data",
          "data": {
            "image/png": "[encoded data removed]",
            "text/plain": [
              "<Figure size 432x288 with 1 Axes>"
            ]
          },
          "metadata": {
            "tags": [],
            "image/png": {
              "width": 395,
              "height": 264
            },
            "needs_background": "light"
          }
        }
      ]
    },
    {
      "cell_type": "code",
      "metadata": {
        "colab": {
          "base_uri": "https://localhost:8080/",
          "height": 297
        },
        "id": "uewuCz-Dd0UL",
        "outputId": "f26af171-f0e6-44c7-b9e5-eda3697bde7a"
      },
      "source": [
        "# 횡단 중 교통사고 월별 사고건수 시각화\r\n",
        "sns.barplot(data = df3, x = '월', y = '사고건수')"
      ],
      "execution_count": null,
      "outputs": [
        {
          "output_type": "execute_result",
          "data": {
            "text/plain": [
              "<matplotlib.axes._subplots.AxesSubplot at 0x7f438032d240>"
            ]
          },
          "metadata": {
            "tags": []
          },
          "execution_count": 34
        },
        {
          "output_type": "display_data",
          "data": {
            "image/png": "[encoded data removed]",
            "text/plain": [
              "<Figure size 432x288 with 1 Axes>"
            ]
          },
          "metadata": {
            "tags": [],
            "image/png": {
              "width": 395,
              "height": 263
            },
            "needs_background": "light"
          }
        }
      ]
    },
    {
      "cell_type": "code",
      "metadata": {
        "colab": {
          "base_uri": "https://localhost:8080/",
          "height": 315
        },
        "id": "KfndXOhkwvCs",
        "outputId": "ead49c63-e425-4aaf-85fb-9b5009d3af8d"
      },
      "source": [
        "# 차대사람 사고유형 중 횡단중 사망자 시각화\r\n",
        "sns.barplot(data = df3, x = '월', y = '사망자수')\r\n",
        "plt.legend(bbox_to_anchor = (1.05,1), loc = 2, borderaxespad = 0.)"
      ],
      "execution_count": null,
      "outputs": [
        {
          "output_type": "stream",
          "text": [
            "No handles with labels found to put in legend.\n"
          ],
          "name": "stderr"
        },
        {
          "output_type": "execute_result",
          "data": {
            "text/plain": [
              "<matplotlib.legend.Legend at 0x7f437b8d8e48>"
            ]
          },
          "metadata": {
            "tags": []
          },
          "execution_count": 91
        },
        {
          "output_type": "display_data",
          "data": {
            "image/png": "[encoded data removed]",
            "text/plain": [
              "<Figure size 432x288 with 1 Axes>"
            ]
          },
          "metadata": {
            "tags": [],
            "image/png": {
              "width": 408,
              "height": 263
            },
            "needs_background": "light"
          }
        }
      ]
    },
    {
      "cell_type": "markdown",
      "metadata": {
        "id": "VwwUTKJWoDgg"
      },
      "source": [
        "# 월별 기준 데이터 시각화"
      ]
    },
    {
      "cell_type": "code",
      "metadata": {
        "id": "9ZhSJkYuYU-Z",
        "colab": {
          "base_uri": "https://localhost:8080/",
          "height": 391
        },
        "outputId": "9863fe5e-c500-4ea5-f16c-324bc96efeef"
      },
      "source": [
        "# by로 지정된 컬럼을 기준으로 정렬\r\n",
        "# ascending = 내림차순, 오름차순 정렬\r\n",
        "df.sort_values(by='월', ascending=True)"
      ],
      "execution_count": null,
      "outputs": [
        {
          "output_type": "execute_result",
          "data": {
            "text/html": [
              "<div>\n",
              "<style scoped>\n",
              "    .dataframe tbody tr th:only-of-type {\n",
              "        vertical-align: middle;\n",
              "    }\n",
              "\n",
              "    .dataframe tbody tr th {\n",
              "        vertical-align: top;\n",
              "    }\n",
              "\n",
              "    .dataframe thead th {\n",
              "        text-align: right;\n",
              "    }\n",
              "</style>\n",
              "<table border=\"1\" class=\"dataframe\">\n",
              "  <thead>\n",
              "    <tr style=\"text-align: right;\">\n",
              "      <th></th>\n",
              "      <th>사고유형대분류</th>\n",
              "      <th>사고유형중분류</th>\n",
              "      <th>사고유형</th>\n",
              "      <th>월</th>\n",
              "      <th>사고건수</th>\n",
              "      <th>사망자수</th>\n",
              "      <th>중상자수</th>\n",
              "      <th>경상자수</th>\n",
              "      <th>부상신고자수</th>\n",
              "    </tr>\n",
              "  </thead>\n",
              "  <tbody>\n",
              "    <tr>\n",
              "      <th>0</th>\n",
              "      <td>차대사람</td>\n",
              "      <td>횡단중</td>\n",
              "      <td>횡단중</td>\n",
              "      <td>1</td>\n",
              "      <td>1532</td>\n",
              "      <td>69</td>\n",
              "      <td>841</td>\n",
              "      <td>650</td>\n",
              "      <td>61</td>\n",
              "    </tr>\n",
              "    <tr>\n",
              "      <th>132</th>\n",
              "      <td>차량단독</td>\n",
              "      <td>전복</td>\n",
              "      <td>전복</td>\n",
              "      <td>1</td>\n",
              "      <td>16</td>\n",
              "      <td>3</td>\n",
              "      <td>7</td>\n",
              "      <td>9</td>\n",
              "      <td>2</td>\n",
              "    </tr>\n",
              "    <tr>\n",
              "      <th>120</th>\n",
              "      <td>차량단독</td>\n",
              "      <td>전도</td>\n",
              "      <td>전도</td>\n",
              "      <td>1</td>\n",
              "      <td>35</td>\n",
              "      <td>5</td>\n",
              "      <td>8</td>\n",
              "      <td>12</td>\n",
              "      <td>13</td>\n",
              "    </tr>\n",
              "    <tr>\n",
              "      <th>156</th>\n",
              "      <td>차량단독</td>\n",
              "      <td>주/정차차량 충돌</td>\n",
              "      <td>주/정차차량 충돌</td>\n",
              "      <td>1</td>\n",
              "      <td>3</td>\n",
              "      <td>0</td>\n",
              "      <td>2</td>\n",
              "      <td>2</td>\n",
              "      <td>0</td>\n",
              "    </tr>\n",
              "    <tr>\n",
              "      <th>108</th>\n",
              "      <td>차대차</td>\n",
              "      <td>기타</td>\n",
              "      <td>기타</td>\n",
              "      <td>1</td>\n",
              "      <td>3359</td>\n",
              "      <td>26</td>\n",
              "      <td>923</td>\n",
              "      <td>3762</td>\n",
              "      <td>395</td>\n",
              "    </tr>\n",
              "    <tr>\n",
              "      <th>...</th>\n",
              "      <td>...</td>\n",
              "      <td>...</td>\n",
              "      <td>...</td>\n",
              "      <td>...</td>\n",
              "      <td>...</td>\n",
              "      <td>...</td>\n",
              "      <td>...</td>\n",
              "      <td>...</td>\n",
              "      <td>...</td>\n",
              "    </tr>\n",
              "    <tr>\n",
              "      <th>166</th>\n",
              "      <td>차량단독</td>\n",
              "      <td>주/정차차량 충돌</td>\n",
              "      <td>주/정차차량 충돌</td>\n",
              "      <td>12</td>\n",
              "      <td>3</td>\n",
              "      <td>0</td>\n",
              "      <td>1</td>\n",
              "      <td>1</td>\n",
              "      <td>1</td>\n",
              "    </tr>\n",
              "    <tr>\n",
              "      <th>95</th>\n",
              "      <td>차대차</td>\n",
              "      <td>후진중충돌</td>\n",
              "      <td>후진중충돌</td>\n",
              "      <td>12</td>\n",
              "      <td>240</td>\n",
              "      <td>0</td>\n",
              "      <td>26</td>\n",
              "      <td>280</td>\n",
              "      <td>12</td>\n",
              "    </tr>\n",
              "    <tr>\n",
              "      <th>35</th>\n",
              "      <td>차대사람</td>\n",
              "      <td>길가장자리구역통행중</td>\n",
              "      <td>길가장자리구역통행중</td>\n",
              "      <td>12</td>\n",
              "      <td>223</td>\n",
              "      <td>6</td>\n",
              "      <td>60</td>\n",
              "      <td>151</td>\n",
              "      <td>16</td>\n",
              "    </tr>\n",
              "    <tr>\n",
              "      <th>190</th>\n",
              "      <td>차량단독</td>\n",
              "      <td>도로이탈</td>\n",
              "      <td>도로이탈 기타</td>\n",
              "      <td>12</td>\n",
              "      <td>8</td>\n",
              "      <td>1</td>\n",
              "      <td>4</td>\n",
              "      <td>3</td>\n",
              "      <td>0</td>\n",
              "    </tr>\n",
              "    <tr>\n",
              "      <th>143</th>\n",
              "      <td>차량단독</td>\n",
              "      <td>전복</td>\n",
              "      <td>전복</td>\n",
              "      <td>12</td>\n",
              "      <td>18</td>\n",
              "      <td>5</td>\n",
              "      <td>5</td>\n",
              "      <td>12</td>\n",
              "      <td>3</td>\n",
              "    </tr>\n",
              "  </tbody>\n",
              "</table>\n",
              "<p>210 rows × 9 columns</p>\n",
              "</div>"
            ],
            "text/plain": [
              "    사고유형대분류     사고유형중분류        사고유형   월  사고건수  사망자수  중상자수  경상자수  부상신고자수\n",
              "0      차대사람         횡단중         횡단중   1  1532    69   841   650      61\n",
              "132    차량단독          전복          전복   1    16     3     7     9       2\n",
              "120    차량단독          전도          전도   1    35     5     8    12      13\n",
              "156    차량단독   주/정차차량 충돌   주/정차차량 충돌   1     3     0     2     2       0\n",
              "108     차대차          기타          기타   1  3359    26   923  3762     395\n",
              "..      ...         ...         ...  ..   ...   ...   ...   ...     ...\n",
              "166    차량단독   주/정차차량 충돌   주/정차차량 충돌  12     3     0     1     1       1\n",
              "95      차대차       후진중충돌       후진중충돌  12   240     0    26   280      12\n",
              "35     차대사람  길가장자리구역통행중  길가장자리구역통행중  12   223     6    60   151      16\n",
              "190    차량단독        도로이탈     도로이탈 기타  12     8     1     4     3       0\n",
              "143    차량단독          전복          전복  12    18     5     5    12       3\n",
              "\n",
              "[210 rows x 9 columns]"
            ]
          },
          "metadata": {
            "tags": []
          },
          "execution_count": 39
        }
      ]
    },
    {
      "cell_type": "code",
      "metadata": {
        "colab": {
          "base_uri": "https://localhost:8080/",
          "height": 191
        },
        "id": "Lc3ud4AQzIT8",
        "outputId": "b5bcf7a8-7d15-4bc2-e785-4934c5e7e96a"
      },
      "source": [
        "# 월 별 사고건수 데이터 생성\r\n",
        "month1 = df2[df2['월'] == 1].copy()\r\n",
        "month1"
      ],
      "execution_count": null,
      "outputs": [
        {
          "output_type": "execute_result",
          "data": {
            "text/html": [
              "<div>\n",
              "<style scoped>\n",
              "    .dataframe tbody tr th:only-of-type {\n",
              "        vertical-align: middle;\n",
              "    }\n",
              "\n",
              "    .dataframe tbody tr th {\n",
              "        vertical-align: top;\n",
              "    }\n",
              "\n",
              "    .dataframe thead th {\n",
              "        text-align: right;\n",
              "    }\n",
              "</style>\n",
              "<table border=\"1\" class=\"dataframe\">\n",
              "  <thead>\n",
              "    <tr style=\"text-align: right;\">\n",
              "      <th></th>\n",
              "      <th>사고유형대분류</th>\n",
              "      <th>사고유형중분류</th>\n",
              "      <th>사고유형</th>\n",
              "      <th>월</th>\n",
              "      <th>사고건수</th>\n",
              "      <th>사망자수</th>\n",
              "      <th>중상자수</th>\n",
              "      <th>경상자수</th>\n",
              "      <th>부상신고자수</th>\n",
              "    </tr>\n",
              "  </thead>\n",
              "  <tbody>\n",
              "    <tr>\n",
              "      <th>0</th>\n",
              "      <td>차대사람</td>\n",
              "      <td>횡단중</td>\n",
              "      <td>횡단중</td>\n",
              "      <td>1</td>\n",
              "      <td>1532</td>\n",
              "      <td>69</td>\n",
              "      <td>841</td>\n",
              "      <td>650</td>\n",
              "      <td>61</td>\n",
              "    </tr>\n",
              "    <tr>\n",
              "      <th>12</th>\n",
              "      <td>차대사람</td>\n",
              "      <td>차도통행중</td>\n",
              "      <td>차도통행중</td>\n",
              "      <td>1</td>\n",
              "      <td>353</td>\n",
              "      <td>16</td>\n",
              "      <td>155</td>\n",
              "      <td>178</td>\n",
              "      <td>15</td>\n",
              "    </tr>\n",
              "    <tr>\n",
              "      <th>24</th>\n",
              "      <td>차대사람</td>\n",
              "      <td>길가장자리구역통행중</td>\n",
              "      <td>길가장자리구역통행중</td>\n",
              "      <td>1</td>\n",
              "      <td>210</td>\n",
              "      <td>5</td>\n",
              "      <td>73</td>\n",
              "      <td>140</td>\n",
              "      <td>24</td>\n",
              "    </tr>\n",
              "    <tr>\n",
              "      <th>36</th>\n",
              "      <td>차대사람</td>\n",
              "      <td>보도통행중</td>\n",
              "      <td>보도통행중</td>\n",
              "      <td>1</td>\n",
              "      <td>175</td>\n",
              "      <td>2</td>\n",
              "      <td>84</td>\n",
              "      <td>93</td>\n",
              "      <td>7</td>\n",
              "    </tr>\n",
              "    <tr>\n",
              "      <th>48</th>\n",
              "      <td>차대사람</td>\n",
              "      <td>기타</td>\n",
              "      <td>기타</td>\n",
              "      <td>1</td>\n",
              "      <td>1507</td>\n",
              "      <td>39</td>\n",
              "      <td>584</td>\n",
              "      <td>863</td>\n",
              "      <td>94</td>\n",
              "    </tr>\n",
              "  </tbody>\n",
              "</table>\n",
              "</div>"
            ],
            "text/plain": [
              "   사고유형대분류     사고유형중분류        사고유형  월  사고건수  사망자수  중상자수  경상자수  부상신고자수\n",
              "0     차대사람         횡단중         횡단중  1  1532    69   841   650      61\n",
              "12    차대사람       차도통행중       차도통행중  1   353    16   155   178      15\n",
              "24    차대사람  길가장자리구역통행중  길가장자리구역통행중  1   210     5    73   140      24\n",
              "36    차대사람       보도통행중       보도통행중  1   175     2    84    93       7\n",
              "48    차대사람          기타          기타  1  1507    39   584   863      94"
            ]
          },
          "metadata": {
            "tags": []
          },
          "execution_count": 56
        }
      ]
    },
    {
      "cell_type": "code",
      "metadata": {
        "colab": {
          "base_uri": "https://localhost:8080/",
          "height": 300
        },
        "id": "8IRvgjGap90N",
        "outputId": "c437235d-d849-40e9-d422-0768e35dae68"
      },
      "source": [
        "# 차대사람 데이터 중 사고유형별 사고건수 시각화 (1월)\r\n",
        "sns.barplot(data = month1, x = '사고유형중분류', y = '사고건수')"
      ],
      "execution_count": null,
      "outputs": [
        {
          "output_type": "execute_result",
          "data": {
            "text/plain": [
              "<matplotlib.axes._subplots.AxesSubplot at 0x7f4380441eb8>"
            ]
          },
          "metadata": {
            "tags": []
          },
          "execution_count": 57
        },
        {
          "output_type": "display_data",
          "data": {
            "image/png": "[encoded data removed]",
            "text/plain": [
              "<Figure size 432x288 with 1 Axes>"
            ]
          },
          "metadata": {
            "tags": [],
            "image/png": {
              "width": 395,
              "height": 266
            },
            "needs_background": "light"
          }
        }
      ]
    },
    {
      "cell_type": "code",
      "metadata": {
        "colab": {
          "base_uri": "https://localhost:8080/"
        },
        "id": "caJHVkm798qV",
        "outputId": "a9b72076-7a50-41c9-b4da-8709ce06fe0b"
      },
      "source": [
        "df['사고건수'].mean()"
      ],
      "execution_count": null,
      "outputs": [
        {
          "output_type": "execute_result",
          "data": {
            "text/plain": [
              "1093.3333333333333"
            ]
          },
          "metadata": {
            "tags": []
          },
          "execution_count": 59
        }
      ]
    },
    {
      "cell_type": "code",
      "metadata": {
        "colab": {
          "base_uri": "https://localhost:8080/"
        },
        "id": "GKZqaMI__SUi",
        "outputId": "fdb1c8c4-23bf-426e-c2a2-051d569ae4f0"
      },
      "source": [
        "# 월 별 평균 값 구하기 (앞이 기준, 뒤가 계산)\r\n",
        "df.groupby(['월'])['사고건수'].agg(\"mean\").round(0)"
      ],
      "execution_count": null,
      "outputs": [
        {
          "output_type": "execute_result",
          "data": {
            "text/plain": [
              "월\n",
              "1      974.0\n",
              "2      820.0\n",
              "3     1007.0\n",
              "4     1124.0\n",
              "5     1222.0\n",
              "6     1054.0\n",
              "7     1069.0\n",
              "8     1176.0\n",
              "9     1074.0\n",
              "10    1205.0\n",
              "11    1266.0\n",
              "12    1150.0\n",
              "Name: 사고건수, dtype: float64"
            ]
          },
          "metadata": {
            "tags": []
          },
          "execution_count": 60
        }
      ]
    },
    {
      "cell_type": "markdown",
      "metadata": {
        "id": "4FbgmFf2qnVc"
      },
      "source": [
        "# 사고유형대분류별 사고건수 시각화"
      ]
    },
    {
      "cell_type": "code",
      "metadata": {
        "colab": {
          "base_uri": "https://localhost:8080/",
          "height": 298
        },
        "id": "9JwqNWxc03mP",
        "outputId": "08181d22-ca64-4b59-84c8-ebba76e70c7e"
      },
      "source": [
        "sns.barplot(data = df, x = '사고유형대분류', y = '사고건수')"
      ],
      "execution_count": null,
      "outputs": [
        {
          "output_type": "execute_result",
          "data": {
            "text/plain": [
              "<matplotlib.axes._subplots.AxesSubplot at 0x7f437e9fd7f0>"
            ]
          },
          "metadata": {
            "tags": []
          },
          "execution_count": 58
        },
        {
          "output_type": "display_data",
          "data": {
            "image/png": "[encoded data removed]",
            "text/plain": [
              "<Figure size 432x288 with 1 Axes>"
            ]
          },
          "metadata": {
            "tags": [],
            "image/png": {
              "width": 395,
              "height": 264
            },
            "needs_background": "light"
          }
        }
      ]
    },
    {
      "cell_type": "markdown",
      "metadata": {
        "id": "2ydDsqFItpy5"
      },
      "source": [
        "# 시각화 연습"
      ]
    },
    {
      "cell_type": "code",
      "metadata": {
        "colab": {
          "base_uri": "https://localhost:8080/",
          "height": 298
        },
        "id": "UPPhIHGrsxNZ",
        "outputId": "d01a1833-df9d-4e12-d84f-b03bdb64f56d"
      },
      "source": [
        "sns.barplot(data = df, x = \"사고유형대분류\", y = \"사고건수\", hue = \"사고유형중분류\", ci = None)\r\n",
        "plt.legend(bbox_to_anchor = (1.05,1), loc = 2, borderaxespad = 0.)"
      ],
      "execution_count": null,
      "outputs": [
        {
          "output_type": "execute_result",
          "data": {
            "text/plain": [
              "<matplotlib.legend.Legend at 0x7f437c66bc50>"
            ]
          },
          "metadata": {
            "tags": []
          },
          "execution_count": 80
        },
        {
          "output_type": "display_data",
          "data": {
            "image/png": "[encoded data removed]",
            "text/plain": [
              "<Figure size 432x288 with 1 Axes>"
            ]
          },
          "metadata": {
            "tags": [],
            "image/png": {
              "width": 542,
              "height": 264
            },
            "needs_background": "light"
          }
        }
      ]
    },
    {
      "cell_type": "code",
      "metadata": {
        "colab": {
          "base_uri": "https://localhost:8080/",
          "height": 297
        },
        "id": "xs6SSeXJtVyJ",
        "outputId": "20252f71-49d9-4d01-feca-17a941707313"
      },
      "source": [
        "sns.barplot(data = df, y = \"사고유형중분류\", x = \"사고건수\", ci = None)"
      ],
      "execution_count": null,
      "outputs": [
        {
          "output_type": "execute_result",
          "data": {
            "text/plain": [
              "<matplotlib.axes._subplots.AxesSubplot at 0x7f437c966278>"
            ]
          },
          "metadata": {
            "tags": []
          },
          "execution_count": 82
        },
        {
          "output_type": "display_data",
          "data": {
            "image/png": "[encoded data removed]",
            "text/plain": [
              "<Figure size 432x288 with 1 Axes>"
            ]
          },
          "metadata": {
            "tags": [],
            "image/png": {
              "width": 465,
              "height": 263
            },
            "needs_background": "light"
          }
        }
      ]
    },
    {
      "cell_type": "code",
      "metadata": {
        "colab": {
          "base_uri": "https://localhost:8080/",
          "height": 297
        },
        "id": "ELPwueCPvlrQ",
        "outputId": "2501cc74-d992-4e34-c6a7-5026b571f474"
      },
      "source": [
        "# 차대사람 사고유형에서 사고유형기준 월별 사망자수 시각화\r\n",
        "sns.barplot(data = df2, x = '월', y = '사망자수', hue = '사고유형')\r\n",
        "plt.legend(bbox_to_anchor = (1.05,1), loc = 2, borderaxespad = 0.)"
      ],
      "execution_count": null,
      "outputs": [
        {
          "output_type": "execute_result",
          "data": {
            "text/plain": [
              "<matplotlib.legend.Legend at 0x7f437c0a75c0>"
            ]
          },
          "metadata": {
            "tags": []
          },
          "execution_count": 88
        },
        {
          "output_type": "display_data",
          "data": {
            "image/png": "[encoded data removed]",
            "text/plain": [
              "<Figure size 432x288 with 1 Axes>"
            ]
          },
          "metadata": {
            "tags": [],
            "image/png": {
              "width": 530,
              "height": 263
            },
            "needs_background": "light"
          }
        }
      ]
    },
    {
      "cell_type": "code",
      "metadata": {
        "id": "1UzZtkYpwgF7"
      },
      "source": [
        ""
      ],
      "execution_count": null,
      "outputs": []
    }
  ]
}