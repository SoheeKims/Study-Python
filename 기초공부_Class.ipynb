{
  "nbformat": 4,
  "nbformat_minor": 0,
  "metadata": {
    "colab": {
      "name": "기초공부-Class.ipynb",
      "provenance": [],
      "collapsed_sections": [],
      "authorship_tag": "ABX9TyN82slq7ovQbWTSXjqG0eRH"
    },
    "kernelspec": {
      "name": "python3",
      "display_name": "Python 3"
    }
  },
  "cells": [
    {
      "cell_type": "markdown",
      "metadata": {
        "id": "WV58jeJueeSm"
      },
      "source": [
        ""
      ]
    },
    {
      "cell_type": "code",
      "metadata": {
        "id": "UJEhTgfLef5L"
      },
      "source": [
        "# 클래스 생성\r\n",
        "class Car : \r\n",
        "  pass\r\n",
        "# 객체 생성\r\n",
        "car1 = Car()"
      ],
      "execution_count": 1,
      "outputs": []
    },
    {
      "cell_type": "markdown",
      "metadata": {
        "id": "1Y6NZZzUe7ad"
      },
      "source": [
        "## 클래스의 변수\r\n",
        "\r\n",
        "1. 클래스 변수 VS 인스턴스 변수\r\n",
        "  - self.aaa와 aaa는 다른 변수\r\n",
        "  - self.aaa : 인스턴스 변수\r\n",
        "  - aaa : 클래스 변수\r\n",
        "  - 인스턴스 변수는 객체를 생성할 때마다 초기화\r\n",
        "  - 클래스 변수는 모든 객체가 공유 -> 객체를 생성해도 초기화되지 않음"
      ]
    },
    {
      "cell_type": "code",
      "metadata": {
        "id": "HNNzEXDfevId"
      },
      "source": [
        "class Car :\r\n",
        "  count = 0\r\n",
        "\r\n",
        "  def __init__(self, num) :\r\n",
        "    self.count = num\r\n",
        "    Car.count += 1\r\n",
        "    print('count :', Car.count)\r\n",
        "    print('self.count :', self.count)"
      ],
      "execution_count": 2,
      "outputs": []
    },
    {
      "cell_type": "code",
      "metadata": {
        "colab": {
          "base_uri": "https://localhost:8080/"
        },
        "id": "y2Fuc716fxiC",
        "outputId": "94c6c6eb-8ffd-4cf5-8b91-48ab01c22185"
      },
      "source": [
        "car_a = Car(10)\r\n",
        "car_b = Car(50)"
      ],
      "execution_count": 3,
      "outputs": [
        {
          "output_type": "stream",
          "text": [
            "count : 1\n",
            "self.count : 10\n",
            "count : 2\n",
            "self.count : 50\n"
          ],
          "name": "stdout"
        }
      ]
    },
    {
      "cell_type": "markdown",
      "metadata": {
        "id": "wRDM_c72kWCK"
      },
      "source": [
        "2. 비공개 속성\r\n",
        "  - 외부에서 속성에 접근하지 못하게 차단\r\n",
        "  - 변수명 앞에 __추가\r\n",
        "     * ex) self.__hungry = 0"
      ]
    },
    {
      "cell_type": "code",
      "metadata": {
        "id": "KOM46Sxhf2k5"
      },
      "source": [
        "class Car :\r\n",
        "\r\n",
        "  def __init__(self, name, cc, year) :\r\n",
        "    self.__name = name\r\n",
        "    self.cc = cc\r\n",
        "    self.__year = year"
      ],
      "execution_count": 14,
      "outputs": []
    },
    {
      "cell_type": "code",
      "metadata": {
        "colab": {
          "base_uri": "https://localhost:8080/"
        },
        "id": "idgqqpo8gqkt",
        "outputId": "f2d93be7-a1e7-43af-c510-b9af17ab527f"
      },
      "source": [
        "car_a = Car('BMW', 1000, 2021)\r\n",
        "car_a.cc"
      ],
      "execution_count": 15,
      "outputs": [
        {
          "output_type": "execute_result",
          "data": {
            "text/plain": [
              "1000"
            ]
          },
          "metadata": {
            "tags": []
          },
          "execution_count": 15
        }
      ]
    },
    {
      "cell_type": "code",
      "metadata": {
        "colab": {
          "base_uri": "https://localhost:8080/",
          "height": 190
        },
        "id": "RM4D9CkmgzQz",
        "outputId": "115cc85b-20f3-454f-aa0e-192e4ce4122f"
      },
      "source": [
        "# cc는 출력이 가능하나 비공개 변수인 name 이나 year은 에러가 발생\r\n",
        "car_a.name"
      ],
      "execution_count": 17,
      "outputs": [
        {
          "output_type": "error",
          "ename": "AttributeError",
          "evalue": "ignored",
          "traceback": [
            "\u001b[0;31m---------------------------------------------------------------------------\u001b[0m",
            "\u001b[0;31mAttributeError\u001b[0m                            Traceback (most recent call last)",
            "\u001b[0;32m<ipython-input-17-97bb9e07ff3d>\u001b[0m in \u001b[0;36m<module>\u001b[0;34m()\u001b[0m\n\u001b[1;32m      1\u001b[0m \u001b[0;31m# cc는 출력이 가능하나 비공개 변수인 name 이나 year은 에러가 발생\u001b[0m\u001b[0;34m\u001b[0m\u001b[0;34m\u001b[0m\u001b[0;34m\u001b[0m\u001b[0m\n\u001b[0;32m----> 2\u001b[0;31m \u001b[0mcar_a\u001b[0m\u001b[0;34m.\u001b[0m\u001b[0mname\u001b[0m\u001b[0;34m\u001b[0m\u001b[0;34m\u001b[0m\u001b[0m\n\u001b[0m",
            "\u001b[0;31mAttributeError\u001b[0m: 'Car' object has no attribute 'name'"
          ]
        }
      ]
    },
    {
      "cell_type": "markdown",
      "metadata": {
        "id": "Kjq0oObMjIHv"
      },
      "source": [
        "## 클래스의 함수\r\n",
        "  1. 인스턴스 메서드\r\n",
        "    - 각 객체에서 개별적으로 동작하는 함수\r\n",
        "    - 첫번째 인자로 'self'를 입력해야 함 (초기화 함수인 __ init __도 인스턴스 메서드 중 하나)"
      ]
    },
    {
      "cell_type": "code",
      "metadata": {
        "id": "aPF-RVuoi4d4"
      },
      "source": [
        "class Car :\r\n",
        "  car_count = 0\r\n",
        "\r\n",
        "  # 인스턴스 메서드\r\n",
        "  def __init__(self, name, cc, year) :\r\n",
        "    self.__name = name\r\n",
        "    self.cc = cc\r\n",
        "    self.__year = year\r\n",
        "    Car.car_count +=1\r\n",
        "\r\n",
        "  # 인스턴스 메서드\r\n",
        "  def clasify_cc(self) :\r\n",
        "    if self.__cc <= 1000 :\r\n",
        "      print('소형')\r\n",
        "    elif self.__cc <= 2000 :\r\n",
        "      print('중형') \r\n",
        "    else :\r\n",
        "      print('대형') "
      ],
      "execution_count": 18,
      "outputs": []
    },
    {
      "cell_type": "markdown",
      "metadata": {
        "id": "FqcxMlmjklDw"
      },
      "source": [
        "2. 정적 메서드\r\n",
        "  - 클래스에서 바로 호출 가능\r\n",
        "  - 인스턴스 속성, 인스턴스 메서드에 접근 불가한 독립적 함수\r\n",
        "  - 함수 윗줄에 '@staticmethod'를 입력해 정적 메서드임을 선언"
      ]
    },
    {
      "cell_type": "code",
      "metadata": {
        "id": "9-1R-lrWkNPC"
      },
      "source": [
        "class Calc :\r\n",
        "\r\n",
        "  @staticmethod\r\n",
        "  def add(a,b) :\r\n",
        "    print(a + b)"
      ],
      "execution_count": 19,
      "outputs": []
    },
    {
      "cell_type": "code",
      "metadata": {
        "colab": {
          "base_uri": "https://localhost:8080/"
        },
        "id": "jiWS4QqVlByW",
        "outputId": "88b845d5-9169-4a46-c1c3-dc576da8d6e8"
      },
      "source": [
        "Calc.add(10,20)"
      ],
      "execution_count": 20,
      "outputs": [
        {
          "output_type": "stream",
          "text": [
            "30\n"
          ],
          "name": "stdout"
        }
      ]
    },
    {
      "cell_type": "markdown",
      "metadata": {
        "id": "s5-DpYRKlGKJ"
      },
      "source": [
        "3. 클래스 메서드\r\n",
        "  - 클래스 속성에 접근 가능\r\n",
        "  - 첫번째 인자로 'cls'를 입력해야 함\r\n",
        "  - 함수 윗줄에 '@classmethod'를 입력해 클래스 메서드임을 선언"
      ]
    },
    {
      "cell_type": "code",
      "metadata": {
        "id": "qGlPqFodlEos"
      },
      "source": [
        "class Calc :\r\n",
        "  count = 0\r\n",
        "  @classmethod\r\n",
        "  def add(cls,a,b) :\r\n",
        "      print(a+b)\r\n",
        "      cls.count += 1\r\n",
        "      print('계산된횟수:', cls.count)"
      ],
      "execution_count": 24,
      "outputs": []
    },
    {
      "cell_type": "code",
      "metadata": {
        "colab": {
          "base_uri": "https://localhost:8080/"
        },
        "id": "yn0pg4sVluoH",
        "outputId": "261de835-e8e9-44c3-8e90-e975057120c2"
      },
      "source": [
        "Calc.add(10,20)"
      ],
      "execution_count": 25,
      "outputs": [
        {
          "output_type": "stream",
          "text": [
            "30\n",
            "계산된횟수: 1\n"
          ],
          "name": "stdout"
        }
      ]
    },
    {
      "cell_type": "markdown",
      "metadata": {
        "id": "_Lo93tFqnWNB"
      },
      "source": [
        "## 클래스의 상속\r\n",
        "  * 기반이 되는 클래스를 만들고 새로운 클래스를 만들 때 기반이 되는 클래스 내용을 이어받음\r\n",
        "  * 오버라이딩\r\n",
        "    - 부모의 메서드와 같은 이름의 함수를 자식 클래스에서 다시 지정한 경우\r\n",
        "    - 부모의 메서드 대체"
      ]
    },
    {
      "cell_type": "code",
      "metadata": {
        "id": "g8zwcoZinUTa"
      },
      "source": [
        "# 부모 메서드\r\n",
        "class Character :\r\n",
        "  def __init__(self) :\r\n",
        "    self.Health = 200\r\n",
        "  \r\n",
        "  def Move(self) :\r\n",
        "    self.Health -= 10\r\n",
        "    print('CharacterMove')\r\n",
        "\r\n",
        "  def Rest(self) :\r\n",
        "    self.Health += 10\r\n",
        "    print('편안한 휴식')\r\n",
        "\r\n",
        "  def checkHealth(self) :\r\n",
        "    print(self.Health)"
      ],
      "execution_count": 26,
      "outputs": []
    },
    {
      "cell_type": "code",
      "metadata": {
        "id": "9LU9kyXeoTWn"
      },
      "source": [
        "# 자식 메서드\r\n",
        "class Knight(Character) :\r\n",
        "  def __init__(self) :\r\n",
        "    super().__init__()\r\n",
        "\r\n",
        "  def Move(self) :\r\n",
        "    super().Move()\r\n",
        "    self.Health -= 5\r\n",
        "    print('KnightMove')\r\n",
        "\r\n",
        "  def Attacck(self) :\r\n",
        "    print('공격합니다.')"
      ],
      "execution_count": 27,
      "outputs": []
    },
    {
      "cell_type": "code",
      "metadata": {
        "id": "xslO2-Iuo3UC"
      },
      "source": [
        "knight = Knight()"
      ],
      "execution_count": 28,
      "outputs": []
    },
    {
      "cell_type": "code",
      "metadata": {
        "colab": {
          "base_uri": "https://localhost:8080/"
        },
        "id": "hpH4YYUVo6h3",
        "outputId": "fb9a245d-5952-4193-d7c3-e931ed4a6eaa"
      },
      "source": [
        "knight.Move()"
      ],
      "execution_count": 29,
      "outputs": [
        {
          "output_type": "stream",
          "text": [
            "CharacterMove\n",
            "KnightMove\n"
          ],
          "name": "stdout"
        }
      ]
    },
    {
      "cell_type": "code",
      "metadata": {
        "colab": {
          "base_uri": "https://localhost:8080/"
        },
        "id": "6R5ZSYrVo8hM",
        "outputId": "bd9d4351-3656-4ab0-d62c-78aab2b322fd"
      },
      "source": [
        "knight.checkHealth()"
      ],
      "execution_count": 30,
      "outputs": [
        {
          "output_type": "stream",
          "text": [
            "185\n"
          ],
          "name": "stdout"
        }
      ]
    },
    {
      "cell_type": "code",
      "metadata": {
        "id": "H9fotJTbo-kW"
      },
      "source": [
        ""
      ],
      "execution_count": null,
      "outputs": []
    }
  ]
}