{
  "nbformat": 4,
  "nbformat_minor": 0,
  "metadata": {
    "colab": {
      "name": "기초공부-진법 변환.ipynb",
      "provenance": [],
      "collapsed_sections": [],
      "authorship_tag": "ABX9TyN3b75kVBY0yFK9sEHUdmXy"
    },
    "kernelspec": {
      "name": "python3",
      "display_name": "Python 3"
    }
  },
  "cells": [
    {
      "cell_type": "markdown",
      "metadata": {
        "id": "XpsuKfi9LayW"
      },
      "source": [
        "**진법**\r\n",
        "\r\n",
        "## 진법 변환코드\r\n"
      ]
    },
    {
      "cell_type": "code",
      "metadata": {
        "colab": {
          "base_uri": "https://localhost:8080/"
        },
        "id": "vZWOBDypLbu0",
        "outputId": "71174475-79bf-4372-cad1-1551968a4048"
      },
      "source": [
        "# n진법을 10진법으로 변환\r\n",
        "binary = '10000'\r\n",
        "decinal = int(binary, 2)\r\n",
        "decinal"
      ],
      "execution_count": 2,
      "outputs": [
        {
          "output_type": "execute_result",
          "data": {
            "text/plain": [
              "16"
            ]
          },
          "metadata": {
            "tags": []
          },
          "execution_count": 2
        }
      ]
    },
    {
      "cell_type": "code",
      "metadata": {
        "id": "OZIrS6ghLyvE"
      },
      "source": [
        "# 10진법을 n진법으로 변환\r\n",
        "def make_base(n,base) :\r\n",
        "  q = n // base\r\n",
        "  r = str(n % base)\r\n",
        "\r\n",
        "  if q == 0 :\r\n",
        "    return r\r\n",
        "  else : \r\n",
        "    return make_base(q, base) + r"
      ],
      "execution_count": 3,
      "outputs": []
    },
    {
      "cell_type": "code",
      "metadata": {
        "colab": {
          "base_uri": "https://localhost:8080/"
        },
        "id": "PcRlHMtIMRn3",
        "outputId": "d4cc8a38-f657-478d-cc7f-ed8a8a9b4d58"
      },
      "source": [
        "print(make_base(65,2))\r\n",
        "print(make_base(65,4))\r\n",
        "print(make_base(65,8))"
      ],
      "execution_count": 4,
      "outputs": [
        {
          "output_type": "stream",
          "text": [
            "1000001\n",
            "1001\n",
            "101\n"
          ],
          "name": "stdout"
        }
      ]
    },
    {
      "cell_type": "code",
      "metadata": {
        "colab": {
          "base_uri": "https://localhost:8080/"
        },
        "id": "XW7PyhyAMd3R",
        "outputId": "82b96265-338d-4ddc-edff-9b36507037da"
      },
      "source": [
        "# n >= 11 인 경우\r\n",
        "print(make_base(65,11))"
      ],
      "execution_count": 5,
      "outputs": [
        {
          "output_type": "stream",
          "text": [
            "510\n"
          ],
          "name": "stdout"
        }
      ]
    },
    {
      "cell_type": "code",
      "metadata": {
        "colab": {
          "base_uri": "https://localhost:8080/",
          "height": 136
        },
        "id": "POf-lqNvMlTR",
        "outputId": "024b52dd-16a1-46a4-f10e-92f0c1bd2406"
      },
      "source": [
        "# 11진법 이상의 경우 \r\n",
        "\r\n",
        "def make_base(n, base) :\r\n",
        "  v_list = ['0','1','2','3','4','5','6','7','8','9','A','B','C','D']\r\n",
        "  q = n // base\r\n",
        "  r = n % base\r\n",
        "  rr = v_list[r]\r\n",
        "\r\n",
        "if q == 0 :\r\n",
        "  return rr\r\n",
        "else : \r\n",
        "  return make_base(q, base) + rr"
      ],
      "execution_count": 13,
      "outputs": [
        {
          "output_type": "error",
          "ename": "SyntaxError",
          "evalue": "ignored",
          "traceback": [
            "\u001b[0;36m  File \u001b[0;32m\"<ipython-input-13-242779854794>\"\u001b[0;36m, line \u001b[0;32m9\u001b[0m\n\u001b[0;31m    return rr\u001b[0m\n\u001b[0m    ^\u001b[0m\n\u001b[0;31mSyntaxError\u001b[0m\u001b[0;31m:\u001b[0m 'return' outside function\n"
          ]
        }
      ]
    },
    {
      "cell_type": "code",
      "metadata": {
        "colab": {
          "base_uri": "https://localhost:8080/"
        },
        "id": "DPyiIjLwNRQX",
        "outputId": "58f4d81a-b87e-4751-90f4-a6e3fa420f48"
      },
      "source": [
        "print(make_base(65,11))"
      ],
      "execution_count": 14,
      "outputs": [
        {
          "output_type": "stream",
          "text": [
            "None\n"
          ],
          "name": "stdout"
        }
      ]
    },
    {
      "cell_type": "code",
      "metadata": {
        "colab": {
          "base_uri": "https://localhost:8080/"
        },
        "id": "Sji6_XNvNUBD",
        "outputId": "68a6b857-e4d1-495a-9dd5-b75991c9b117"
      },
      "source": [
        "# 좀 더 간단한 코드 구현\r\n",
        "q, r = divmod(11, 3)\r\n",
        "print('q:', q)\r\n",
        "print('r:', r)"
      ],
      "execution_count": 15,
      "outputs": [
        {
          "output_type": "stream",
          "text": [
            "q: 3\n",
            "r: 2\n"
          ],
          "name": "stdout"
        }
      ]
    },
    {
      "cell_type": "code",
      "metadata": {
        "id": "GkbsB131OnZW"
      },
      "source": [
        ""
      ],
      "execution_count": null,
      "outputs": []
    }
  ]
}