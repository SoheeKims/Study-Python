{
  "nbformat": 4,
  "nbformat_minor": 0,
  "metadata": {
    "colab": {
      "name": "교통사고 유형별 사고건 21.01.23~.ipynb",
      "provenance": [],
      "collapsed_sections": [],
      "authorship_tag": "ABX9TyPJ+Co4WTEsBSJIPVEauqAu"
    },
    "kernelspec": {
      "name": "python3",
      "display_name": "Python 3"
    }
  },
  "cells": [
    {
      "cell_type": "markdown",
      "metadata": {
        "id": "PAWNHQCh5aAY"
      },
      "source": [
        "## 사고유형별 고통사고 통계"
      ]
    },
    {
      "cell_type": "code",
      "metadata": {
        "id": "RliaDCQy5gXM"
      },
      "source": [
        "# 사용 패키지 불러오기\r\n",
        "import pandas as pd\r\n",
        "import numpy as np\r\n",
        "import seaborn as sns\r\n",
        "import matplotlib.pyplot as plt"
      ],
      "execution_count": null,
      "outputs": []
    },
    {
      "cell_type": "code",
      "metadata": {
        "colab": {
          "base_uri": "https://localhost:8080/"
        },
        "id": "IKxyv2sg5pUE",
        "outputId": "db52fdfa-131c-4f75-cc55-f4e93d4a6d6b"
      },
      "source": [
        "# 코랩에서 구글드라이브 마운트하여 데이터 불러오기\r\n",
        "from google.colab import drive\r\n",
        "drive.mount('/content/drive')"
      ],
      "execution_count": null,
      "outputs": [
        {
          "output_type": "stream",
          "text": [
            "Mounted at /content/drive\n"
          ],
          "name": "stdout"
        }
      ]
    },
    {
      "cell_type": "code",
      "metadata": {
        "colab": {
          "base_uri": "https://localhost:8080/",
          "height": 204
        },
        "id": "r5VhMgxr5uwc",
        "outputId": "8b64a4b0-17d6-4772-8b4e-269f804295c9"
      },
      "source": [
        "# 내 드라이브 내의 파일을 불러올 때 경로 /content/drive/My Drive/를 앞에 붙여주기\r\n",
        "# encoding='utf-8'이 안될 때는 encoding='CP949' 사용.\r\n",
        "monthly_traffic = pd.read_csv('/content/drive/MyDrive/Colab Notebooks/DATA/2019 monthly teaffic.csv', encoding='CP949')\r\n",
        "monthly_traffic.head()"
      ],
      "execution_count": null,
      "outputs": [
        {
          "output_type": "execute_result",
          "data": {
            "text/html": [
              "<div>\n",
              "<style scoped>\n",
              "    .dataframe tbody tr th:only-of-type {\n",
              "        vertical-align: middle;\n",
              "    }\n",
              "\n",
              "    .dataframe tbody tr th {\n",
              "        vertical-align: top;\n",
              "    }\n",
              "\n",
              "    .dataframe thead th {\n",
              "        text-align: right;\n",
              "    }\n",
              "</style>\n",
              "<table border=\"1\" class=\"dataframe\">\n",
              "  <thead>\n",
              "    <tr style=\"text-align: right;\">\n",
              "      <th></th>\n",
              "      <th>사고유형대분류</th>\n",
              "      <th>사고유형중분류</th>\n",
              "      <th>사고유형</th>\n",
              "      <th>월</th>\n",
              "      <th>사고건수</th>\n",
              "      <th>사망자수</th>\n",
              "      <th>중상자수</th>\n",
              "      <th>경상자수</th>\n",
              "      <th>부상신고자수</th>\n",
              "    </tr>\n",
              "  </thead>\n",
              "  <tbody>\n",
              "    <tr>\n",
              "      <th>0</th>\n",
              "      <td>차대사람</td>\n",
              "      <td>횡단중</td>\n",
              "      <td>횡단중</td>\n",
              "      <td>1</td>\n",
              "      <td>1532</td>\n",
              "      <td>69</td>\n",
              "      <td>841</td>\n",
              "      <td>650</td>\n",
              "      <td>61</td>\n",
              "    </tr>\n",
              "    <tr>\n",
              "      <th>1</th>\n",
              "      <td>차대사람</td>\n",
              "      <td>횡단중</td>\n",
              "      <td>횡단중</td>\n",
              "      <td>2</td>\n",
              "      <td>1201</td>\n",
              "      <td>40</td>\n",
              "      <td>599</td>\n",
              "      <td>594</td>\n",
              "      <td>39</td>\n",
              "    </tr>\n",
              "    <tr>\n",
              "      <th>2</th>\n",
              "      <td>차대사람</td>\n",
              "      <td>횡단중</td>\n",
              "      <td>횡단중</td>\n",
              "      <td>3</td>\n",
              "      <td>1453</td>\n",
              "      <td>47</td>\n",
              "      <td>736</td>\n",
              "      <td>709</td>\n",
              "      <td>61</td>\n",
              "    </tr>\n",
              "    <tr>\n",
              "      <th>3</th>\n",
              "      <td>차대사람</td>\n",
              "      <td>횡단중</td>\n",
              "      <td>횡단중</td>\n",
              "      <td>4</td>\n",
              "      <td>1604</td>\n",
              "      <td>55</td>\n",
              "      <td>778</td>\n",
              "      <td>783</td>\n",
              "      <td>73</td>\n",
              "    </tr>\n",
              "    <tr>\n",
              "      <th>4</th>\n",
              "      <td>차대사람</td>\n",
              "      <td>횡단중</td>\n",
              "      <td>횡단중</td>\n",
              "      <td>5</td>\n",
              "      <td>1516</td>\n",
              "      <td>61</td>\n",
              "      <td>751</td>\n",
              "      <td>715</td>\n",
              "      <td>85</td>\n",
              "    </tr>\n",
              "  </tbody>\n",
              "</table>\n",
              "</div>"
            ],
            "text/plain": [
              "  사고유형대분류 사고유형중분류 사고유형  월  사고건수  사망자수  중상자수  경상자수  부상신고자수\n",
              "0    차대사람     횡단중  횡단중  1  1532    69   841   650      61\n",
              "1    차대사람     횡단중  횡단중  2  1201    40   599   594      39\n",
              "2    차대사람     횡단중  횡단중  3  1453    47   736   709      61\n",
              "3    차대사람     횡단중  횡단중  4  1604    55   778   783      73\n",
              "4    차대사람     횡단중  횡단중  5  1516    61   751   715      85"
            ]
          },
          "metadata": {
            "tags": []
          },
          "execution_count": 27
        }
      ]
    },
    {
      "cell_type": "code",
      "metadata": {
        "colab": {
          "base_uri": "https://localhost:8080/"
        },
        "id": "tSEoNz6UwoVm",
        "outputId": "36eb0931-68fd-40ac-90df-a759a5a1f4ca"
      },
      "source": [
        "# 데이터 타입 확인\r\n",
        "type(monthly_traffic)"
      ],
      "execution_count": null,
      "outputs": [
        {
          "output_type": "execute_result",
          "data": {
            "text/plain": [
              "pandas.core.frame.DataFrame"
            ]
          },
          "metadata": {
            "tags": []
          },
          "execution_count": 28
        }
      ]
    },
    {
      "cell_type": "code",
      "metadata": {
        "colab": {
          "base_uri": "https://localhost:8080/"
        },
        "id": "dE_5Jl7AAgn9",
        "outputId": "28658d08-8153-4f63-f93b-779c394a6673"
      },
      "source": [
        "# 데이터 프레임 개요\r\n",
        "monthly_traffic.info()"
      ],
      "execution_count": null,
      "outputs": [
        {
          "output_type": "stream",
          "text": [
            "<class 'pandas.core.frame.DataFrame'>\n",
            "RangeIndex: 210 entries, 0 to 209\n",
            "Data columns (total 9 columns):\n",
            " #   Column   Non-Null Count  Dtype \n",
            "---  ------   --------------  ----- \n",
            " 0   사고유형대분류  210 non-null    object\n",
            " 1   사고유형중분류  210 non-null    object\n",
            " 2   사고유형     210 non-null    object\n",
            " 3   월        210 non-null    int64 \n",
            " 4   사고건수     210 non-null    int64 \n",
            " 5   사망자수     210 non-null    int64 \n",
            " 6   중상자수     210 non-null    int64 \n",
            " 7   경상자수     210 non-null    int64 \n",
            " 8   부상신고자수   210 non-null    int64 \n",
            "dtypes: int64(6), object(3)\n",
            "memory usage: 14.9+ KB\n"
          ],
          "name": "stdout"
        }
      ]
    },
    {
      "cell_type": "code",
      "metadata": {
        "id": "aV-K0ME9DkJb",
        "colab": {
          "base_uri": "https://localhost:8080/"
        },
        "outputId": "dabd8a39-8697-4620-f159-1249026a16bd"
      },
      "source": [
        "# 컬럼 명 확인\r\n",
        "monthly_traffic.columns"
      ],
      "execution_count": null,
      "outputs": [
        {
          "output_type": "execute_result",
          "data": {
            "text/plain": [
              "Index(['사고유형대분류', '사고유형중분류', '사고유형', '월', '사고건수', '사망자수', '중상자수', '경상자수',\n",
              "       '부상신고자수'],\n",
              "      dtype='object')"
            ]
          },
          "metadata": {
            "tags": []
          },
          "execution_count": 30
        }
      ]
    },
    {
      "cell_type": "code",
      "metadata": {
        "colab": {
          "base_uri": "https://localhost:8080/"
        },
        "id": "YTaJZsMzwuKm",
        "outputId": "24edb326-acd9-4024-995c-e51a0d6e519b"
      },
      "source": [
        "# 행의 개수와 열의 개수 출력\r\n",
        "print(monthly_traffic.shape)"
      ],
      "execution_count": null,
      "outputs": [
        {
          "output_type": "stream",
          "text": [
            "(210, 9)\n"
          ],
          "name": "stdout"
        }
      ]
    },
    {
      "cell_type": "code",
      "metadata": {
        "id": "pBlMuSnNOV7M",
        "colab": {
          "base_uri": "https://localhost:8080/"
        },
        "outputId": "d543bb5e-609a-494d-8f6f-0b2eb5ba7473"
      },
      "source": [
        "# 컬럼별 타입, 통계값 확인\r\n",
        "monthly_traffic.dtypes"
      ],
      "execution_count": null,
      "outputs": [
        {
          "output_type": "execute_result",
          "data": {
            "text/plain": [
              "사고유형대분류    object\n",
              "사고유형중분류    object\n",
              "사고유형       object\n",
              "월           int64\n",
              "사고건수        int64\n",
              "사망자수        int64\n",
              "중상자수        int64\n",
              "경상자수        int64\n",
              "부상신고자수      int64\n",
              "dtype: object"
            ]
          },
          "metadata": {
            "tags": []
          },
          "execution_count": 32
        }
      ]
    },
    {
      "cell_type": "code",
      "metadata": {
        "colab": {
          "base_uri": "https://localhost:8080/"
        },
        "id": "XRTg2FzLQUBt",
        "outputId": "de3743a5-a995-4274-950c-8fab74a3c32c"
      },
      "source": [
        "# isnull()를 이용해 컬럼별 NAN 값의 개수 확인\r\n",
        "# 만약에 있다면 제거는 monthly_traffic.dropna()\r\n",
        "monthly_traffic.isnull().sum()"
      ],
      "execution_count": null,
      "outputs": [
        {
          "output_type": "execute_result",
          "data": {
            "text/plain": [
              "사고유형대분류    0\n",
              "사고유형중분류    0\n",
              "사고유형       0\n",
              "월          0\n",
              "사고건수       0\n",
              "사망자수       0\n",
              "중상자수       0\n",
              "경상자수       0\n",
              "부상신고자수     0\n",
              "dtype: int64"
            ]
          },
          "metadata": {
            "tags": []
          },
          "execution_count": 33
        }
      ]
    },
    {
      "cell_type": "code",
      "metadata": {
        "colab": {
          "base_uri": "https://localhost:8080/"
        },
        "id": "lq7sX8F8RHKT",
        "outputId": "5b802a46-75cd-47d8-f053-451d383a8faa"
      },
      "source": [
        "# 내용 확인\r\n",
        "monthly_traffic.values"
      ],
      "execution_count": null,
      "outputs": [
        {
          "output_type": "execute_result",
          "data": {
            "text/plain": [
              "array([['차대사람', '횡단중', '횡단중', ..., 841, 650, 61],\n",
              "       ['차대사람', '횡단중', '횡단중', ..., 599, 594, 39],\n",
              "       ['차대사람', '횡단중', '횡단중', ..., 736, 709, 61],\n",
              "       ...,\n",
              "       ['철길건널목', '철길건널목', '철길건널목', ..., 1, 0, 0],\n",
              "       ['철길건널목', '철길건널목', '철길건널목', ..., 0, 0, 0],\n",
              "       ['철길건널목', '철길건널목', '철길건널목', ..., 3, 4, 0]], dtype=object)"
            ]
          },
          "metadata": {
            "tags": []
          },
          "execution_count": 34
        }
      ]
    },
    {
      "cell_type": "code",
      "metadata": {
        "colab": {
          "base_uri": "https://localhost:8080/",
          "height": 297
        },
        "id": "LQe1YsOyVJm-",
        "outputId": "18603bfa-6058-4cb7-97d1-98a94624061d"
      },
      "source": [
        "# 분포 확인\r\n",
        "monthly_traffic.describe()"
      ],
      "execution_count": null,
      "outputs": [
        {
          "output_type": "execute_result",
          "data": {
            "text/html": [
              "<div>\n",
              "<style scoped>\n",
              "    .dataframe tbody tr th:only-of-type {\n",
              "        vertical-align: middle;\n",
              "    }\n",
              "\n",
              "    .dataframe tbody tr th {\n",
              "        vertical-align: top;\n",
              "    }\n",
              "\n",
              "    .dataframe thead th {\n",
              "        text-align: right;\n",
              "    }\n",
              "</style>\n",
              "<table border=\"1\" class=\"dataframe\">\n",
              "  <thead>\n",
              "    <tr style=\"text-align: right;\">\n",
              "      <th></th>\n",
              "      <th>월</th>\n",
              "      <th>사고건수</th>\n",
              "      <th>사망자수</th>\n",
              "      <th>중상자수</th>\n",
              "      <th>경상자수</th>\n",
              "      <th>부상신고자수</th>\n",
              "    </tr>\n",
              "  </thead>\n",
              "  <tbody>\n",
              "    <tr>\n",
              "      <th>count</th>\n",
              "      <td>210.000000</td>\n",
              "      <td>210.000000</td>\n",
              "      <td>210.000000</td>\n",
              "      <td>210.000000</td>\n",
              "      <td>210.000000</td>\n",
              "      <td>210.000000</td>\n",
              "    </tr>\n",
              "    <tr>\n",
              "      <th>mean</th>\n",
              "      <td>6.490476</td>\n",
              "      <td>1093.333333</td>\n",
              "      <td>15.947619</td>\n",
              "      <td>344.314286</td>\n",
              "      <td>1169.161905</td>\n",
              "      <td>113.723810</td>\n",
              "    </tr>\n",
              "    <tr>\n",
              "      <th>std</th>\n",
              "      <td>3.446433</td>\n",
              "      <td>1795.046438</td>\n",
              "      <td>16.758690</td>\n",
              "      <td>509.755065</td>\n",
              "      <td>2206.423240</td>\n",
              "      <td>196.304494</td>\n",
              "    </tr>\n",
              "    <tr>\n",
              "      <th>min</th>\n",
              "      <td>1.000000</td>\n",
              "      <td>1.000000</td>\n",
              "      <td>0.000000</td>\n",
              "      <td>0.000000</td>\n",
              "      <td>0.000000</td>\n",
              "      <td>0.000000</td>\n",
              "    </tr>\n",
              "    <tr>\n",
              "      <th>25%</th>\n",
              "      <td>3.250000</td>\n",
              "      <td>42.000000</td>\n",
              "      <td>2.250000</td>\n",
              "      <td>22.500000</td>\n",
              "      <td>19.250000</td>\n",
              "      <td>7.000000</td>\n",
              "    </tr>\n",
              "    <tr>\n",
              "      <th>50%</th>\n",
              "      <td>6.500000</td>\n",
              "      <td>293.500000</td>\n",
              "      <td>10.000000</td>\n",
              "      <td>120.000000</td>\n",
              "      <td>200.500000</td>\n",
              "      <td>25.000000</td>\n",
              "    </tr>\n",
              "    <tr>\n",
              "      <th>75%</th>\n",
              "      <td>9.000000</td>\n",
              "      <td>1448.500000</td>\n",
              "      <td>24.750000</td>\n",
              "      <td>536.750000</td>\n",
              "      <td>780.750000</td>\n",
              "      <td>80.750000</td>\n",
              "    </tr>\n",
              "    <tr>\n",
              "      <th>max</th>\n",
              "      <td>12.000000</td>\n",
              "      <td>7806.000000</td>\n",
              "      <td>69.000000</td>\n",
              "      <td>2313.000000</td>\n",
              "      <td>9222.000000</td>\n",
              "      <td>836.000000</td>\n",
              "    </tr>\n",
              "  </tbody>\n",
              "</table>\n",
              "</div>"
            ],
            "text/plain": [
              "                월         사고건수  ...         경상자수      부상신고자수\n",
              "count  210.000000   210.000000  ...   210.000000  210.000000\n",
              "mean     6.490476  1093.333333  ...  1169.161905  113.723810\n",
              "std      3.446433  1795.046438  ...  2206.423240  196.304494\n",
              "min      1.000000     1.000000  ...     0.000000    0.000000\n",
              "25%      3.250000    42.000000  ...    19.250000    7.000000\n",
              "50%      6.500000   293.500000  ...   200.500000   25.000000\n",
              "75%      9.000000  1448.500000  ...   780.750000   80.750000\n",
              "max     12.000000  7806.000000  ...  9222.000000  836.000000\n",
              "\n",
              "[8 rows x 6 columns]"
            ]
          },
          "metadata": {
            "tags": []
          },
          "execution_count": 35
        }
      ]
    },
    {
      "cell_type": "code",
      "metadata": {
        "colab": {
          "base_uri": "https://localhost:8080/"
        },
        "id": "yI58VfYOVtBw",
        "outputId": "b2d8c50c-8a1e-4844-dc16-2f3e283ea3c9"
      },
      "source": [
        "# 요청 컬럼만 Series로 출력\r\n",
        "monthly_traffic['사고유형중분류']"
      ],
      "execution_count": null,
      "outputs": [
        {
          "output_type": "execute_result",
          "data": {
            "text/plain": [
              "0        횡단중\n",
              "1        횡단중\n",
              "2        횡단중\n",
              "3        횡단중\n",
              "4        횡단중\n",
              "       ...  \n",
              "205    철길건널목\n",
              "206    철길건널목\n",
              "207    철길건널목\n",
              "208    철길건널목\n",
              "209    철길건널목\n",
              "Name: 사고유형중분류, Length: 210, dtype: object"
            ]
          },
          "metadata": {
            "tags": []
          },
          "execution_count": 36
        }
      ]
    },
    {
      "cell_type": "code",
      "metadata": {
        "colab": {
          "base_uri": "https://localhost:8080/",
          "height": 142
        },
        "id": "8H7EjXP2WM9t",
        "outputId": "cbf21659-52c2-43df-c426-6881c4e62634"
      },
      "source": [
        "# 행의 범위를 지정해서 출력\r\n",
        "monthly_traffic[0:3]"
      ],
      "execution_count": null,
      "outputs": [
        {
          "output_type": "execute_result",
          "data": {
            "text/html": [
              "<div>\n",
              "<style scoped>\n",
              "    .dataframe tbody tr th:only-of-type {\n",
              "        vertical-align: middle;\n",
              "    }\n",
              "\n",
              "    .dataframe tbody tr th {\n",
              "        vertical-align: top;\n",
              "    }\n",
              "\n",
              "    .dataframe thead th {\n",
              "        text-align: right;\n",
              "    }\n",
              "</style>\n",
              "<table border=\"1\" class=\"dataframe\">\n",
              "  <thead>\n",
              "    <tr style=\"text-align: right;\">\n",
              "      <th></th>\n",
              "      <th>사고유형대분류</th>\n",
              "      <th>사고유형중분류</th>\n",
              "      <th>사고유형</th>\n",
              "      <th>월</th>\n",
              "      <th>사고건수</th>\n",
              "      <th>사망자수</th>\n",
              "      <th>중상자수</th>\n",
              "      <th>경상자수</th>\n",
              "      <th>부상신고자수</th>\n",
              "    </tr>\n",
              "  </thead>\n",
              "  <tbody>\n",
              "    <tr>\n",
              "      <th>0</th>\n",
              "      <td>차대사람</td>\n",
              "      <td>횡단중</td>\n",
              "      <td>횡단중</td>\n",
              "      <td>1</td>\n",
              "      <td>1532</td>\n",
              "      <td>69</td>\n",
              "      <td>841</td>\n",
              "      <td>650</td>\n",
              "      <td>61</td>\n",
              "    </tr>\n",
              "    <tr>\n",
              "      <th>1</th>\n",
              "      <td>차대사람</td>\n",
              "      <td>횡단중</td>\n",
              "      <td>횡단중</td>\n",
              "      <td>2</td>\n",
              "      <td>1201</td>\n",
              "      <td>40</td>\n",
              "      <td>599</td>\n",
              "      <td>594</td>\n",
              "      <td>39</td>\n",
              "    </tr>\n",
              "    <tr>\n",
              "      <th>2</th>\n",
              "      <td>차대사람</td>\n",
              "      <td>횡단중</td>\n",
              "      <td>횡단중</td>\n",
              "      <td>3</td>\n",
              "      <td>1453</td>\n",
              "      <td>47</td>\n",
              "      <td>736</td>\n",
              "      <td>709</td>\n",
              "      <td>61</td>\n",
              "    </tr>\n",
              "  </tbody>\n",
              "</table>\n",
              "</div>"
            ],
            "text/plain": [
              "  사고유형대분류 사고유형중분류 사고유형  월  사고건수  사망자수  중상자수  경상자수  부상신고자수\n",
              "0    차대사람     횡단중  횡단중  1  1532    69   841   650      61\n",
              "1    차대사람     횡단중  횡단중  2  1201    40   599   594      39\n",
              "2    차대사람     횡단중  횡단중  3  1453    47   736   709      61"
            ]
          },
          "metadata": {
            "tags": []
          },
          "execution_count": 37
        }
      ]
    },
    {
      "cell_type": "code",
      "metadata": {
        "colab": {
          "base_uri": "https://localhost:8080/",
          "height": 419
        },
        "id": "QHs19U83WeU5",
        "outputId": "7415b41a-b6be-432c-fe09-f24d19a49291"
      },
      "source": [
        "# 범위를 특정해서 데이터 확인\r\n",
        "monthly_traffic.loc[:,['월', '사고건수']]"
      ],
      "execution_count": 44,
      "outputs": [
        {
          "output_type": "execute_result",
          "data": {
            "text/html": [
              "<div>\n",
              "<style scoped>\n",
              "    .dataframe tbody tr th:only-of-type {\n",
              "        vertical-align: middle;\n",
              "    }\n",
              "\n",
              "    .dataframe tbody tr th {\n",
              "        vertical-align: top;\n",
              "    }\n",
              "\n",
              "    .dataframe thead th {\n",
              "        text-align: right;\n",
              "    }\n",
              "</style>\n",
              "<table border=\"1\" class=\"dataframe\">\n",
              "  <thead>\n",
              "    <tr style=\"text-align: right;\">\n",
              "      <th></th>\n",
              "      <th>월</th>\n",
              "      <th>사고건수</th>\n",
              "    </tr>\n",
              "  </thead>\n",
              "  <tbody>\n",
              "    <tr>\n",
              "      <th>0</th>\n",
              "      <td>1</td>\n",
              "      <td>1532</td>\n",
              "    </tr>\n",
              "    <tr>\n",
              "      <th>1</th>\n",
              "      <td>2</td>\n",
              "      <td>1201</td>\n",
              "    </tr>\n",
              "    <tr>\n",
              "      <th>2</th>\n",
              "      <td>3</td>\n",
              "      <td>1453</td>\n",
              "    </tr>\n",
              "    <tr>\n",
              "      <th>3</th>\n",
              "      <td>4</td>\n",
              "      <td>1604</td>\n",
              "    </tr>\n",
              "    <tr>\n",
              "      <th>4</th>\n",
              "      <td>5</td>\n",
              "      <td>1516</td>\n",
              "    </tr>\n",
              "    <tr>\n",
              "      <th>...</th>\n",
              "      <td>...</td>\n",
              "      <td>...</td>\n",
              "    </tr>\n",
              "    <tr>\n",
              "      <th>205</th>\n",
              "      <td>6</td>\n",
              "      <td>1</td>\n",
              "    </tr>\n",
              "    <tr>\n",
              "      <th>206</th>\n",
              "      <td>7</td>\n",
              "      <td>1</td>\n",
              "    </tr>\n",
              "    <tr>\n",
              "      <th>207</th>\n",
              "      <td>8</td>\n",
              "      <td>1</td>\n",
              "    </tr>\n",
              "    <tr>\n",
              "      <th>208</th>\n",
              "      <td>9</td>\n",
              "      <td>1</td>\n",
              "    </tr>\n",
              "    <tr>\n",
              "      <th>209</th>\n",
              "      <td>10</td>\n",
              "      <td>2</td>\n",
              "    </tr>\n",
              "  </tbody>\n",
              "</table>\n",
              "<p>210 rows × 2 columns</p>\n",
              "</div>"
            ],
            "text/plain": [
              "      월  사고건수\n",
              "0     1  1532\n",
              "1     2  1201\n",
              "2     3  1453\n",
              "3     4  1604\n",
              "4     5  1516\n",
              "..   ..   ...\n",
              "205   6     1\n",
              "206   7     1\n",
              "207   8     1\n",
              "208   9     1\n",
              "209  10     2\n",
              "\n",
              "[210 rows x 2 columns]"
            ]
          },
          "metadata": {
            "tags": []
          },
          "execution_count": 44
        }
      ]
    },
    {
      "cell_type": "code",
      "metadata": {
        "colab": {
          "base_uri": "https://localhost:8080/"
        },
        "id": "MipBpMwYdTO8",
        "outputId": "ae6ed5ce-4239-4d15-9169-26807c2718ba"
      },
      "source": [
        "grouped=monthly_traffic['사고건수'].groupby(monthly_traffic['월'])\r\n",
        "grouped"
      ],
      "execution_count": 48,
      "outputs": [
        {
          "output_type": "execute_result",
          "data": {
            "text/plain": [
              "<pandas.core.groupby.generic.SeriesGroupBy object at 0x7f2ef0b23be0>"
            ]
          },
          "metadata": {
            "tags": []
          },
          "execution_count": 48
        }
      ]
    },
    {
      "cell_type": "code",
      "metadata": {
        "colab": {
          "base_uri": "https://localhost:8080/"
        },
        "id": "5dYniChddpUr",
        "outputId": "8e21a8de-e34a-4c2a-eb23-a1cb2a08c568"
      },
      "source": [
        "grouped.size()"
      ],
      "execution_count": 49,
      "outputs": [
        {
          "output_type": "execute_result",
          "data": {
            "text/plain": [
              "월\n",
              "1     17\n",
              "2     18\n",
              "3     18\n",
              "4     17\n",
              "5     17\n",
              "6     18\n",
              "7     18\n",
              "8     17\n",
              "9     18\n",
              "10    18\n",
              "11    17\n",
              "12    17\n",
              "Name: 사고건수, dtype: int64"
            ]
          },
          "metadata": {
            "tags": []
          },
          "execution_count": 49
        }
      ]
    },
    {
      "cell_type": "code",
      "metadata": {
        "colab": {
          "base_uri": "https://localhost:8080/"
        },
        "id": "uewuCz-Dd0UL",
        "outputId": "f2c069dd-13eb-4ff2-b4d1-6e730b8adc7c"
      },
      "source": [
        "grouped.sum()"
      ],
      "execution_count": 50,
      "outputs": [
        {
          "output_type": "execute_result",
          "data": {
            "text/plain": [
              "월\n",
              "1     16552\n",
              "2     14752\n",
              "3     18133\n",
              "4     19104\n",
              "5     20779\n",
              "6     18968\n",
              "7     19234\n",
              "8     19992\n",
              "9     19331\n",
              "10    21690\n",
              "11    21517\n",
              "12    19548\n",
              "Name: 사고건수, dtype: int64"
            ]
          },
          "metadata": {
            "tags": []
          },
          "execution_count": 50
        }
      ]
    },
    {
      "cell_type": "code",
      "metadata": {
        "colab": {
          "base_uri": "https://localhost:8080/"
        },
        "id": "ug-byd0Td3kD",
        "outputId": "406afc9c-25c5-46f5-e3a2-42ca823f7810"
      },
      "source": [
        "grouped.mean()"
      ],
      "execution_count": 51,
      "outputs": [
        {
          "output_type": "execute_result",
          "data": {
            "text/plain": [
              "월\n",
              "1      973.647059\n",
              "2      819.555556\n",
              "3     1007.388889\n",
              "4     1123.764706\n",
              "5     1222.294118\n",
              "6     1053.777778\n",
              "7     1068.555556\n",
              "8     1176.000000\n",
              "9     1073.944444\n",
              "10    1205.000000\n",
              "11    1265.705882\n",
              "12    1149.882353\n",
              "Name: 사고건수, dtype: float64"
            ]
          },
          "metadata": {
            "tags": []
          },
          "execution_count": 51
        }
      ]
    },
    {
      "cell_type": "code",
      "metadata": {
        "colab": {
          "base_uri": "https://localhost:8080/"
        },
        "id": "_VCDL9EiWlze",
        "outputId": "5195fbad-2a48-471b-8b7e-310dfebb9d57"
      },
      "source": [
        "# 행과 열의 번호를 이용해 데이터에 바로 접근\r\n",
        "# iloc[행, 열]\r\n",
        "monthly_traffic.iloc[3]"
      ],
      "execution_count": null,
      "outputs": [
        {
          "output_type": "execute_result",
          "data": {
            "text/plain": [
              "사고유형대분류    차대사람\n",
              "사고유형중분류     횡단중\n",
              "사고유형        횡단중\n",
              "월             4\n",
              "사고건수       1604\n",
              "사망자수         55\n",
              "중상자수        778\n",
              "경상자수        783\n",
              "부상신고자수       73\n",
              "Name: 3, dtype: object"
            ]
          },
          "metadata": {
            "tags": []
          },
          "execution_count": 39
        }
      ]
    },
    {
      "cell_type": "code",
      "metadata": {
        "colab": {
          "base_uri": "https://localhost:8080/"
        },
        "id": "dECoIMnOX5Si",
        "outputId": "6b86741e-e047-461d-ef3a-6dce98569d7a"
      },
      "source": [
        "# 표준편차 확인\r\n",
        "monthly_traffic.std()"
      ],
      "execution_count": null,
      "outputs": [
        {
          "output_type": "execute_result",
          "data": {
            "text/plain": [
              "월            3.446433\n",
              "사고건수      1795.046438\n",
              "사망자수        16.758690\n",
              "중상자수       509.755065\n",
              "경상자수      2206.423240\n",
              "부상신고자수     196.304494\n",
              "dtype: float64"
            ]
          },
          "metadata": {
            "tags": []
          },
          "execution_count": 40
        }
      ]
    },
    {
      "cell_type": "code",
      "metadata": {
        "id": "9ZhSJkYuYU-Z",
        "colab": {
          "base_uri": "https://localhost:8080/",
          "height": 419
        },
        "outputId": "89c9e603-6f22-4b40-b45d-35bf8b679792"
      },
      "source": [
        "# by로 지정된 컬럼을 기준으로 정렬\r\n",
        "# ascending = 내림차순, 오름차순 정렬\r\n",
        "monthly_traffic.sort_values(by='월', ascending=True)"
      ],
      "execution_count": null,
      "outputs": [
        {
          "output_type": "execute_result",
          "data": {
            "text/html": [
              "<div>\n",
              "<style scoped>\n",
              "    .dataframe tbody tr th:only-of-type {\n",
              "        vertical-align: middle;\n",
              "    }\n",
              "\n",
              "    .dataframe tbody tr th {\n",
              "        vertical-align: top;\n",
              "    }\n",
              "\n",
              "    .dataframe thead th {\n",
              "        text-align: right;\n",
              "    }\n",
              "</style>\n",
              "<table border=\"1\" class=\"dataframe\">\n",
              "  <thead>\n",
              "    <tr style=\"text-align: right;\">\n",
              "      <th></th>\n",
              "      <th>사고유형대분류</th>\n",
              "      <th>사고유형중분류</th>\n",
              "      <th>사고유형</th>\n",
              "      <th>월</th>\n",
              "      <th>사고건수</th>\n",
              "      <th>사망자수</th>\n",
              "      <th>중상자수</th>\n",
              "      <th>경상자수</th>\n",
              "      <th>부상신고자수</th>\n",
              "    </tr>\n",
              "  </thead>\n",
              "  <tbody>\n",
              "    <tr>\n",
              "      <th>0</th>\n",
              "      <td>차대사람</td>\n",
              "      <td>횡단중</td>\n",
              "      <td>횡단중</td>\n",
              "      <td>1</td>\n",
              "      <td>1532</td>\n",
              "      <td>69</td>\n",
              "      <td>841</td>\n",
              "      <td>650</td>\n",
              "      <td>61</td>\n",
              "    </tr>\n",
              "    <tr>\n",
              "      <th>132</th>\n",
              "      <td>차량단독</td>\n",
              "      <td>전복</td>\n",
              "      <td>전복</td>\n",
              "      <td>1</td>\n",
              "      <td>16</td>\n",
              "      <td>3</td>\n",
              "      <td>7</td>\n",
              "      <td>9</td>\n",
              "      <td>2</td>\n",
              "    </tr>\n",
              "    <tr>\n",
              "      <th>120</th>\n",
              "      <td>차량단독</td>\n",
              "      <td>전도</td>\n",
              "      <td>전도</td>\n",
              "      <td>1</td>\n",
              "      <td>35</td>\n",
              "      <td>5</td>\n",
              "      <td>8</td>\n",
              "      <td>12</td>\n",
              "      <td>13</td>\n",
              "    </tr>\n",
              "    <tr>\n",
              "      <th>156</th>\n",
              "      <td>차량단독</td>\n",
              "      <td>주/정차차량 충돌</td>\n",
              "      <td>주/정차차량 충돌</td>\n",
              "      <td>1</td>\n",
              "      <td>3</td>\n",
              "      <td>0</td>\n",
              "      <td>2</td>\n",
              "      <td>2</td>\n",
              "      <td>0</td>\n",
              "    </tr>\n",
              "    <tr>\n",
              "      <th>108</th>\n",
              "      <td>차대차</td>\n",
              "      <td>기타</td>\n",
              "      <td>기타</td>\n",
              "      <td>1</td>\n",
              "      <td>3359</td>\n",
              "      <td>26</td>\n",
              "      <td>923</td>\n",
              "      <td>3762</td>\n",
              "      <td>395</td>\n",
              "    </tr>\n",
              "    <tr>\n",
              "      <th>...</th>\n",
              "      <td>...</td>\n",
              "      <td>...</td>\n",
              "      <td>...</td>\n",
              "      <td>...</td>\n",
              "      <td>...</td>\n",
              "      <td>...</td>\n",
              "      <td>...</td>\n",
              "      <td>...</td>\n",
              "      <td>...</td>\n",
              "    </tr>\n",
              "    <tr>\n",
              "      <th>166</th>\n",
              "      <td>차량단독</td>\n",
              "      <td>주/정차차량 충돌</td>\n",
              "      <td>주/정차차량 충돌</td>\n",
              "      <td>12</td>\n",
              "      <td>3</td>\n",
              "      <td>0</td>\n",
              "      <td>1</td>\n",
              "      <td>1</td>\n",
              "      <td>1</td>\n",
              "    </tr>\n",
              "    <tr>\n",
              "      <th>95</th>\n",
              "      <td>차대차</td>\n",
              "      <td>후진중충돌</td>\n",
              "      <td>후진중충돌</td>\n",
              "      <td>12</td>\n",
              "      <td>240</td>\n",
              "      <td>0</td>\n",
              "      <td>26</td>\n",
              "      <td>280</td>\n",
              "      <td>12</td>\n",
              "    </tr>\n",
              "    <tr>\n",
              "      <th>35</th>\n",
              "      <td>차대사람</td>\n",
              "      <td>길가장자리구역통행중</td>\n",
              "      <td>길가장자리구역통행중</td>\n",
              "      <td>12</td>\n",
              "      <td>223</td>\n",
              "      <td>6</td>\n",
              "      <td>60</td>\n",
              "      <td>151</td>\n",
              "      <td>16</td>\n",
              "    </tr>\n",
              "    <tr>\n",
              "      <th>190</th>\n",
              "      <td>차량단독</td>\n",
              "      <td>도로이탈</td>\n",
              "      <td>도로이탈 기타</td>\n",
              "      <td>12</td>\n",
              "      <td>8</td>\n",
              "      <td>1</td>\n",
              "      <td>4</td>\n",
              "      <td>3</td>\n",
              "      <td>0</td>\n",
              "    </tr>\n",
              "    <tr>\n",
              "      <th>143</th>\n",
              "      <td>차량단독</td>\n",
              "      <td>전복</td>\n",
              "      <td>전복</td>\n",
              "      <td>12</td>\n",
              "      <td>18</td>\n",
              "      <td>5</td>\n",
              "      <td>5</td>\n",
              "      <td>12</td>\n",
              "      <td>3</td>\n",
              "    </tr>\n",
              "  </tbody>\n",
              "</table>\n",
              "<p>210 rows × 9 columns</p>\n",
              "</div>"
            ],
            "text/plain": [
              "    사고유형대분류     사고유형중분류        사고유형   월  사고건수  사망자수  중상자수  경상자수  부상신고자수\n",
              "0      차대사람         횡단중         횡단중   1  1532    69   841   650      61\n",
              "132    차량단독          전복          전복   1    16     3     7     9       2\n",
              "120    차량단독          전도          전도   1    35     5     8    12      13\n",
              "156    차량단독   주/정차차량 충돌   주/정차차량 충돌   1     3     0     2     2       0\n",
              "108     차대차          기타          기타   1  3359    26   923  3762     395\n",
              "..      ...         ...         ...  ..   ...   ...   ...   ...     ...\n",
              "166    차량단독   주/정차차량 충돌   주/정차차량 충돌  12     3     0     1     1       1\n",
              "95      차대차       후진중충돌       후진중충돌  12   240     0    26   280      12\n",
              "35     차대사람  길가장자리구역통행중  길가장자리구역통행중  12   223     6    60   151      16\n",
              "190    차량단독        도로이탈     도로이탈 기타  12     8     1     4     3       0\n",
              "143    차량단독          전복          전복  12    18     5     5    12       3\n",
              "\n",
              "[210 rows x 9 columns]"
            ]
          },
          "metadata": {
            "tags": []
          },
          "execution_count": 41
        }
      ]
    },
    {
      "cell_type": "code",
      "metadata": {
        "colab": {
          "base_uri": "https://localhost:8080/",
          "height": 204
        },
        "id": "Lc3ud4AQzIT8",
        "outputId": "02b21bc4-582e-4920-d897-a2d379695f6b"
      },
      "source": [
        "# 월 별 사고건수 데이터 생성\r\n",
        "month=monthly_traffic[['월','사고건수']]\r\n",
        "month.head()"
      ],
      "execution_count": null,
      "outputs": [
        {
          "output_type": "execute_result",
          "data": {
            "text/html": [
              "<div>\n",
              "<style scoped>\n",
              "    .dataframe tbody tr th:only-of-type {\n",
              "        vertical-align: middle;\n",
              "    }\n",
              "\n",
              "    .dataframe tbody tr th {\n",
              "        vertical-align: top;\n",
              "    }\n",
              "\n",
              "    .dataframe thead th {\n",
              "        text-align: right;\n",
              "    }\n",
              "</style>\n",
              "<table border=\"1\" class=\"dataframe\">\n",
              "  <thead>\n",
              "    <tr style=\"text-align: right;\">\n",
              "      <th></th>\n",
              "      <th>월</th>\n",
              "      <th>사고건수</th>\n",
              "    </tr>\n",
              "  </thead>\n",
              "  <tbody>\n",
              "    <tr>\n",
              "      <th>0</th>\n",
              "      <td>1</td>\n",
              "      <td>1532</td>\n",
              "    </tr>\n",
              "    <tr>\n",
              "      <th>1</th>\n",
              "      <td>2</td>\n",
              "      <td>1201</td>\n",
              "    </tr>\n",
              "    <tr>\n",
              "      <th>2</th>\n",
              "      <td>3</td>\n",
              "      <td>1453</td>\n",
              "    </tr>\n",
              "    <tr>\n",
              "      <th>3</th>\n",
              "      <td>4</td>\n",
              "      <td>1604</td>\n",
              "    </tr>\n",
              "    <tr>\n",
              "      <th>4</th>\n",
              "      <td>5</td>\n",
              "      <td>1516</td>\n",
              "    </tr>\n",
              "  </tbody>\n",
              "</table>\n",
              "</div>"
            ],
            "text/plain": [
              "   월  사고건수\n",
              "0  1  1532\n",
              "1  2  1201\n",
              "2  3  1453\n",
              "3  4  1604\n",
              "4  5  1516"
            ]
          },
          "metadata": {
            "tags": []
          },
          "execution_count": 18
        }
      ]
    },
    {
      "cell_type": "code",
      "metadata": {
        "colab": {
          "base_uri": "https://localhost:8080/",
          "height": 211
        },
        "id": "9JwqNWxc03mP",
        "outputId": "e2399591-c4a7-4d34-ba01-e96aa3bd6932"
      },
      "source": [
        "# 월별 사고건수 데이터 행렬 축 변경\r\n",
        "month.T"
      ],
      "execution_count": null,
      "outputs": [
        {
          "output_type": "execute_result",
          "data": {
            "text/html": [
              "<div>\n",
              "<style scoped>\n",
              "    .dataframe tbody tr th:only-of-type {\n",
              "        vertical-align: middle;\n",
              "    }\n",
              "\n",
              "    .dataframe tbody tr th {\n",
              "        vertical-align: top;\n",
              "    }\n",
              "\n",
              "    .dataframe thead th {\n",
              "        text-align: right;\n",
              "    }\n",
              "</style>\n",
              "<table border=\"1\" class=\"dataframe\">\n",
              "  <thead>\n",
              "    <tr style=\"text-align: right;\">\n",
              "      <th></th>\n",
              "      <th>0</th>\n",
              "      <th>1</th>\n",
              "      <th>2</th>\n",
              "      <th>3</th>\n",
              "      <th>4</th>\n",
              "      <th>5</th>\n",
              "      <th>6</th>\n",
              "      <th>7</th>\n",
              "      <th>8</th>\n",
              "      <th>9</th>\n",
              "      <th>10</th>\n",
              "      <th>11</th>\n",
              "      <th>12</th>\n",
              "      <th>13</th>\n",
              "      <th>14</th>\n",
              "      <th>15</th>\n",
              "      <th>16</th>\n",
              "      <th>17</th>\n",
              "      <th>18</th>\n",
              "      <th>19</th>\n",
              "      <th>20</th>\n",
              "      <th>21</th>\n",
              "      <th>22</th>\n",
              "      <th>23</th>\n",
              "      <th>24</th>\n",
              "      <th>25</th>\n",
              "      <th>26</th>\n",
              "      <th>27</th>\n",
              "      <th>28</th>\n",
              "      <th>29</th>\n",
              "      <th>30</th>\n",
              "      <th>31</th>\n",
              "      <th>32</th>\n",
              "      <th>33</th>\n",
              "      <th>34</th>\n",
              "      <th>35</th>\n",
              "      <th>36</th>\n",
              "      <th>37</th>\n",
              "      <th>38</th>\n",
              "      <th>39</th>\n",
              "      <th>...</th>\n",
              "      <th>170</th>\n",
              "      <th>171</th>\n",
              "      <th>172</th>\n",
              "      <th>173</th>\n",
              "      <th>174</th>\n",
              "      <th>175</th>\n",
              "      <th>176</th>\n",
              "      <th>177</th>\n",
              "      <th>178</th>\n",
              "      <th>179</th>\n",
              "      <th>180</th>\n",
              "      <th>181</th>\n",
              "      <th>182</th>\n",
              "      <th>183</th>\n",
              "      <th>184</th>\n",
              "      <th>185</th>\n",
              "      <th>186</th>\n",
              "      <th>187</th>\n",
              "      <th>188</th>\n",
              "      <th>189</th>\n",
              "      <th>190</th>\n",
              "      <th>191</th>\n",
              "      <th>192</th>\n",
              "      <th>193</th>\n",
              "      <th>194</th>\n",
              "      <th>195</th>\n",
              "      <th>196</th>\n",
              "      <th>197</th>\n",
              "      <th>198</th>\n",
              "      <th>199</th>\n",
              "      <th>200</th>\n",
              "      <th>201</th>\n",
              "      <th>202</th>\n",
              "      <th>203</th>\n",
              "      <th>204</th>\n",
              "      <th>205</th>\n",
              "      <th>206</th>\n",
              "      <th>207</th>\n",
              "      <th>208</th>\n",
              "      <th>209</th>\n",
              "    </tr>\n",
              "  </thead>\n",
              "  <tbody>\n",
              "    <tr>\n",
              "      <th>월</th>\n",
              "      <td>1</td>\n",
              "      <td>2</td>\n",
              "      <td>3</td>\n",
              "      <td>4</td>\n",
              "      <td>5</td>\n",
              "      <td>6</td>\n",
              "      <td>7</td>\n",
              "      <td>8</td>\n",
              "      <td>9</td>\n",
              "      <td>10</td>\n",
              "      <td>11</td>\n",
              "      <td>12</td>\n",
              "      <td>1</td>\n",
              "      <td>2</td>\n",
              "      <td>3</td>\n",
              "      <td>4</td>\n",
              "      <td>5</td>\n",
              "      <td>6</td>\n",
              "      <td>7</td>\n",
              "      <td>8</td>\n",
              "      <td>9</td>\n",
              "      <td>10</td>\n",
              "      <td>11</td>\n",
              "      <td>12</td>\n",
              "      <td>1</td>\n",
              "      <td>2</td>\n",
              "      <td>3</td>\n",
              "      <td>4</td>\n",
              "      <td>5</td>\n",
              "      <td>6</td>\n",
              "      <td>7</td>\n",
              "      <td>8</td>\n",
              "      <td>9</td>\n",
              "      <td>10</td>\n",
              "      <td>11</td>\n",
              "      <td>12</td>\n",
              "      <td>1</td>\n",
              "      <td>2</td>\n",
              "      <td>3</td>\n",
              "      <td>4</td>\n",
              "      <td>...</td>\n",
              "      <td>4</td>\n",
              "      <td>5</td>\n",
              "      <td>6</td>\n",
              "      <td>7</td>\n",
              "      <td>8</td>\n",
              "      <td>9</td>\n",
              "      <td>10</td>\n",
              "      <td>11</td>\n",
              "      <td>12</td>\n",
              "      <td>1</td>\n",
              "      <td>2</td>\n",
              "      <td>3</td>\n",
              "      <td>4</td>\n",
              "      <td>5</td>\n",
              "      <td>6</td>\n",
              "      <td>7</td>\n",
              "      <td>8</td>\n",
              "      <td>9</td>\n",
              "      <td>10</td>\n",
              "      <td>11</td>\n",
              "      <td>12</td>\n",
              "      <td>1</td>\n",
              "      <td>2</td>\n",
              "      <td>3</td>\n",
              "      <td>4</td>\n",
              "      <td>5</td>\n",
              "      <td>6</td>\n",
              "      <td>7</td>\n",
              "      <td>8</td>\n",
              "      <td>9</td>\n",
              "      <td>10</td>\n",
              "      <td>11</td>\n",
              "      <td>12</td>\n",
              "      <td>2</td>\n",
              "      <td>3</td>\n",
              "      <td>6</td>\n",
              "      <td>7</td>\n",
              "      <td>8</td>\n",
              "      <td>9</td>\n",
              "      <td>10</td>\n",
              "    </tr>\n",
              "    <tr>\n",
              "      <th>사고건수</th>\n",
              "      <td>1532</td>\n",
              "      <td>1201</td>\n",
              "      <td>1453</td>\n",
              "      <td>1604</td>\n",
              "      <td>1516</td>\n",
              "      <td>1364</td>\n",
              "      <td>1399</td>\n",
              "      <td>1372</td>\n",
              "      <td>1516</td>\n",
              "      <td>1716</td>\n",
              "      <td>1798</td>\n",
              "      <td>1630</td>\n",
              "      <td>353</td>\n",
              "      <td>329</td>\n",
              "      <td>419</td>\n",
              "      <td>387</td>\n",
              "      <td>421</td>\n",
              "      <td>353</td>\n",
              "      <td>364</td>\n",
              "      <td>376</td>\n",
              "      <td>390</td>\n",
              "      <td>444</td>\n",
              "      <td>487</td>\n",
              "      <td>442</td>\n",
              "      <td>210</td>\n",
              "      <td>207</td>\n",
              "      <td>283</td>\n",
              "      <td>237</td>\n",
              "      <td>216</td>\n",
              "      <td>187</td>\n",
              "      <td>182</td>\n",
              "      <td>218</td>\n",
              "      <td>239</td>\n",
              "      <td>247</td>\n",
              "      <td>256</td>\n",
              "      <td>223</td>\n",
              "      <td>175</td>\n",
              "      <td>161</td>\n",
              "      <td>200</td>\n",
              "      <td>195</td>\n",
              "      <td>...</td>\n",
              "      <td>41</td>\n",
              "      <td>48</td>\n",
              "      <td>31</td>\n",
              "      <td>32</td>\n",
              "      <td>42</td>\n",
              "      <td>38</td>\n",
              "      <td>42</td>\n",
              "      <td>34</td>\n",
              "      <td>29</td>\n",
              "      <td>16</td>\n",
              "      <td>12</td>\n",
              "      <td>17</td>\n",
              "      <td>26</td>\n",
              "      <td>19</td>\n",
              "      <td>19</td>\n",
              "      <td>13</td>\n",
              "      <td>22</td>\n",
              "      <td>15</td>\n",
              "      <td>21</td>\n",
              "      <td>12</td>\n",
              "      <td>8</td>\n",
              "      <td>298</td>\n",
              "      <td>239</td>\n",
              "      <td>340</td>\n",
              "      <td>338</td>\n",
              "      <td>403</td>\n",
              "      <td>405</td>\n",
              "      <td>406</td>\n",
              "      <td>422</td>\n",
              "      <td>428</td>\n",
              "      <td>474</td>\n",
              "      <td>395</td>\n",
              "      <td>361</td>\n",
              "      <td>1</td>\n",
              "      <td>1</td>\n",
              "      <td>1</td>\n",
              "      <td>1</td>\n",
              "      <td>1</td>\n",
              "      <td>1</td>\n",
              "      <td>2</td>\n",
              "    </tr>\n",
              "  </tbody>\n",
              "</table>\n",
              "<p>2 rows × 210 columns</p>\n",
              "</div>"
            ],
            "text/plain": [
              "       0     1     2     3     4     5    ...  204  205  206  207  208  209\n",
              "월        1     2     3     4     5     6  ...    3    6    7    8    9   10\n",
              "사고건수  1532  1201  1453  1604  1516  1364  ...    1    1    1    1    1    2\n",
              "\n",
              "[2 rows x 210 columns]"
            ]
          },
          "metadata": {
            "tags": []
          },
          "execution_count": 19
        }
      ]
    },
    {
      "cell_type": "code",
      "metadata": {
        "colab": {
          "base_uri": "https://localhost:8080/",
          "height": 204
        },
        "id": "Ri20feLT8DUD",
        "outputId": "396509b5-3fb1-4444-a2a4-4b9ea687c71f"
      },
      "source": [
        "# 월 기준으로 정렬\r\n",
        "month=month.sort_values(by = ['월','사고건수'])\r\n",
        "month.head()"
      ],
      "execution_count": null,
      "outputs": [
        {
          "output_type": "execute_result",
          "data": {
            "text/html": [
              "<div>\n",
              "<style scoped>\n",
              "    .dataframe tbody tr th:only-of-type {\n",
              "        vertical-align: middle;\n",
              "    }\n",
              "\n",
              "    .dataframe tbody tr th {\n",
              "        vertical-align: top;\n",
              "    }\n",
              "\n",
              "    .dataframe thead th {\n",
              "        text-align: right;\n",
              "    }\n",
              "</style>\n",
              "<table border=\"1\" class=\"dataframe\">\n",
              "  <thead>\n",
              "    <tr style=\"text-align: right;\">\n",
              "      <th></th>\n",
              "      <th>월</th>\n",
              "      <th>사고건수</th>\n",
              "    </tr>\n",
              "  </thead>\n",
              "  <tbody>\n",
              "    <tr>\n",
              "      <th>156</th>\n",
              "      <td>1</td>\n",
              "      <td>3</td>\n",
              "    </tr>\n",
              "    <tr>\n",
              "      <th>132</th>\n",
              "      <td>1</td>\n",
              "      <td>16</td>\n",
              "    </tr>\n",
              "    <tr>\n",
              "      <th>179</th>\n",
              "      <td>1</td>\n",
              "      <td>16</td>\n",
              "    </tr>\n",
              "    <tr>\n",
              "      <th>167</th>\n",
              "      <td>1</td>\n",
              "      <td>33</td>\n",
              "    </tr>\n",
              "    <tr>\n",
              "      <th>120</th>\n",
              "      <td>1</td>\n",
              "      <td>35</td>\n",
              "    </tr>\n",
              "  </tbody>\n",
              "</table>\n",
              "</div>"
            ],
            "text/plain": [
              "     월  사고건수\n",
              "156  1     3\n",
              "132  1    16\n",
              "179  1    16\n",
              "167  1    33\n",
              "120  1    35"
            ]
          },
          "metadata": {
            "tags": []
          },
          "execution_count": 20
        }
      ]
    },
    {
      "cell_type": "code",
      "metadata": {
        "colab": {
          "base_uri": "https://localhost:8080/"
        },
        "id": "k-mqBSel-4GE",
        "outputId": "7de1c536-24ef-48e8-eb8e-636a24d0c3cb"
      },
      "source": [
        "# 월을 기준으로 group 화\r\n",
        "x = month.groupby(\"월\")\r\n",
        "x"
      ],
      "execution_count": null,
      "outputs": [
        {
          "output_type": "execute_result",
          "data": {
            "text/plain": [
              "<pandas.core.groupby.generic.DataFrameGroupBy object at 0x7f2ef0bd52b0>"
            ]
          },
          "metadata": {
            "tags": []
          },
          "execution_count": 21
        }
      ]
    },
    {
      "cell_type": "code",
      "metadata": {
        "id": "6ESGwk8uC-de",
        "colab": {
          "base_uri": "https://localhost:8080/"
        },
        "outputId": "66ad319d-a534-4528-c8ad-24f359e91898"
      },
      "source": [
        "# 데이터 분리\r\n",
        "x.groups"
      ],
      "execution_count": null,
      "outputs": [
        {
          "output_type": "execute_result",
          "data": {
            "text/plain": [
              "{1: [156, 132, 179, 167, 120, 84, 36, 24, 144, 191, 12, 60, 48, 0, 96, 108, 72], 2: [203, 157, 180, 133, 168, 121, 37, 25, 85, 145, 192, 13, 61, 49, 1, 97, 109, 73], 3: [204, 158, 181, 134, 169, 122, 38, 86, 26, 146, 193, 14, 62, 50, 2, 98, 110, 74], 4: [159, 135, 182, 170, 123, 39, 27, 87, 147, 194, 15, 63, 51, 3, 99, 111, 75], 5: [160, 136, 183, 171, 124, 40, 28, 88, 148, 195, 16, 64, 4, 52, 100, 112, 76], 6: [205, 161, 184, 137, 172, 125, 41, 29, 89, 149, 17, 196, 65, 5, 53, 101, 113, 77], 7: [206, 162, 185, 138, 173, 126, 30, 42, 90, 150, 18, 197, 66, 6, 54, 102, 114, 78], 8: [207, 139, 186, 174, 127, 43, 31, 91, 151, 19, 198, 67, 7, 55, 103, 115, 79], 9: [208, 163, 187, 140, 175, 128, 44, 32, 92, 152, 20, 199, 68, 8, 56, 104, 116, 80], 10: [209, 164, 141, 188, 176, 129, 45, 33, 93, 153, 21, 200, 69, 9, 57, 105, 117, 81], 11: [165, 142, 189, 177, 130, 46, 34, 154, 94, 201, 22, 70, 58, 10, 106, 118, 82], 12: [166, 190, 143, 178, 131, 47, 35, 95, 155, 202, 23, 71, 11, 59, 107, 119, 83]}"
            ]
          },
          "metadata": {
            "tags": []
          },
          "execution_count": 22
        }
      ]
    },
    {
      "cell_type": "code",
      "metadata": {
        "colab": {
          "base_uri": "https://localhost:8080/",
          "height": 452
        },
        "id": "_ww5t60H9IIr",
        "outputId": "0c4edcc8-d64b-4ac2-ba61-9130e3737849"
      },
      "source": [
        "# 각 데이터 갯 수 확인\r\n",
        "x.count()"
      ],
      "execution_count": null,
      "outputs": [
        {
          "output_type": "execute_result",
          "data": {
            "text/html": [
              "<div>\n",
              "<style scoped>\n",
              "    .dataframe tbody tr th:only-of-type {\n",
              "        vertical-align: middle;\n",
              "    }\n",
              "\n",
              "    .dataframe tbody tr th {\n",
              "        vertical-align: top;\n",
              "    }\n",
              "\n",
              "    .dataframe thead th {\n",
              "        text-align: right;\n",
              "    }\n",
              "</style>\n",
              "<table border=\"1\" class=\"dataframe\">\n",
              "  <thead>\n",
              "    <tr style=\"text-align: right;\">\n",
              "      <th></th>\n",
              "      <th>사고건수</th>\n",
              "    </tr>\n",
              "    <tr>\n",
              "      <th>월</th>\n",
              "      <th></th>\n",
              "    </tr>\n",
              "  </thead>\n",
              "  <tbody>\n",
              "    <tr>\n",
              "      <th>1</th>\n",
              "      <td>17</td>\n",
              "    </tr>\n",
              "    <tr>\n",
              "      <th>2</th>\n",
              "      <td>18</td>\n",
              "    </tr>\n",
              "    <tr>\n",
              "      <th>3</th>\n",
              "      <td>18</td>\n",
              "    </tr>\n",
              "    <tr>\n",
              "      <th>4</th>\n",
              "      <td>17</td>\n",
              "    </tr>\n",
              "    <tr>\n",
              "      <th>5</th>\n",
              "      <td>17</td>\n",
              "    </tr>\n",
              "    <tr>\n",
              "      <th>6</th>\n",
              "      <td>18</td>\n",
              "    </tr>\n",
              "    <tr>\n",
              "      <th>7</th>\n",
              "      <td>18</td>\n",
              "    </tr>\n",
              "    <tr>\n",
              "      <th>8</th>\n",
              "      <td>17</td>\n",
              "    </tr>\n",
              "    <tr>\n",
              "      <th>9</th>\n",
              "      <td>18</td>\n",
              "    </tr>\n",
              "    <tr>\n",
              "      <th>10</th>\n",
              "      <td>18</td>\n",
              "    </tr>\n",
              "    <tr>\n",
              "      <th>11</th>\n",
              "      <td>17</td>\n",
              "    </tr>\n",
              "    <tr>\n",
              "      <th>12</th>\n",
              "      <td>17</td>\n",
              "    </tr>\n",
              "  </tbody>\n",
              "</table>\n",
              "</div>"
            ],
            "text/plain": [
              "    사고건수\n",
              "월       \n",
              "1     17\n",
              "2     18\n",
              "3     18\n",
              "4     17\n",
              "5     17\n",
              "6     18\n",
              "7     18\n",
              "8     17\n",
              "9     18\n",
              "10    18\n",
              "11    17\n",
              "12    17"
            ]
          },
          "metadata": {
            "tags": []
          },
          "execution_count": 23
        }
      ]
    },
    {
      "cell_type": "code",
      "metadata": {
        "colab": {
          "base_uri": "https://localhost:8080/"
        },
        "id": "caJHVkm798qV",
        "outputId": "7d0ac032-4f17-4d46-c257-14ba5dd51619"
      },
      "source": [
        "monthly_traffic['사고건수'].mean()"
      ],
      "execution_count": null,
      "outputs": [
        {
          "output_type": "execute_result",
          "data": {
            "text/plain": [
              "1093.3333333333333"
            ]
          },
          "metadata": {
            "tags": []
          },
          "execution_count": 24
        }
      ]
    },
    {
      "cell_type": "code",
      "metadata": {
        "colab": {
          "base_uri": "https://localhost:8080/"
        },
        "id": "GKZqaMI__SUi",
        "outputId": "5ca9111e-dcd0-4d32-de30-2535127174f0"
      },
      "source": [
        "# 월 별 평균 값 구하기 (앞이 기준, 뒤가 계산)\r\n",
        "month.groupby(['월'])['사고건수'].agg(\"mean\").round(0)"
      ],
      "execution_count": null,
      "outputs": [
        {
          "output_type": "execute_result",
          "data": {
            "text/plain": [
              "월\n",
              "1      974.0\n",
              "2      820.0\n",
              "3     1007.0\n",
              "4     1124.0\n",
              "5     1222.0\n",
              "6     1054.0\n",
              "7     1069.0\n",
              "8     1176.0\n",
              "9     1074.0\n",
              "10    1205.0\n",
              "11    1266.0\n",
              "12    1150.0\n",
              "Name: 사고건수, dtype: float64"
            ]
          },
          "metadata": {
            "tags": []
          },
          "execution_count": 25
        }
      ]
    },
    {
      "cell_type": "code",
      "metadata": {
        "colab": {
          "base_uri": "https://localhost:8080/"
        },
        "id": "TKCjIRIf_-s4",
        "outputId": "72a338c3-9dcd-4c2a-8f32-28ff82771cdc"
      },
      "source": [
        "# 사고건수 전체 평균\r\n",
        "print(month['사고건수'].mean())"
      ],
      "execution_count": null,
      "outputs": [
        {
          "output_type": "stream",
          "text": [
            "1093.3333333333333\n"
          ],
          "name": "stdout"
        }
      ]
    },
    {
      "cell_type": "code",
      "metadata": {
        "id": "GrGc8JKZB58-"
      },
      "source": [
        ""
      ],
      "execution_count": null,
      "outputs": []
    }
  ]
}