{
  "nbformat": 4,
  "nbformat_minor": 0,
  "metadata": {
    "colab": {
      "name": "교통사고 유형별 사고건 21.01.23~.ipynb",
      "provenance": [],
      "collapsed_sections": [],
      "authorship_tag": "ABX9TyP9pLy7SsU6nTBc4z+RSfUb"
    },
    "kernelspec": {
      "name": "python3",
      "display_name": "Python 3"
    }
  },
  "cells": [
    {
      "cell_type": "markdown",
      "metadata": {
        "id": "PAWNHQCh5aAY"
      },
      "source": [
        "## 사고유형별 고통사고 통계"
      ]
    },
    {
      "cell_type": "code",
      "metadata": {
        "id": "RliaDCQy5gXM"
      },
      "source": [
        "# 사용 패키지 불러오기\r\n",
        "import pandas as pd\r\n",
        "import numpy as np\r\n",
        "import seaborn as sns\r\n",
        "import matplotlib.pyplot as plt"
      ],
      "execution_count": 39,
      "outputs": []
    },
    {
      "cell_type": "code",
      "metadata": {
        "colab": {
          "base_uri": "https://localhost:8080/"
        },
        "id": "IKxyv2sg5pUE",
        "outputId": "02f320ea-ab56-4087-a512-681fe6dcbcef"
      },
      "source": [
        "# 코랩에서 구글드라이브 마운트하여 데이터 불러오기\r\n",
        "from google.colab import drive\r\n",
        "drive.mount('/content/drive')"
      ],
      "execution_count": 23,
      "outputs": [
        {
          "output_type": "stream",
          "text": [
            "Drive already mounted at /content/drive; to attempt to forcibly remount, call drive.mount(\"/content/drive\", force_remount=True).\n"
          ],
          "name": "stdout"
        }
      ]
    },
    {
      "cell_type": "code",
      "metadata": {
        "colab": {
          "base_uri": "https://localhost:8080/",
          "height": 221
        },
        "id": "r5VhMgxr5uwc",
        "outputId": "6d9ae25a-e030-4a14-e2bc-2f1833fc2b6c"
      },
      "source": [
        "# 내 드라이브 내의 파일을 불러올 때 경로 /content/drive/My Drive/를 앞에 붙여주기\r\n",
        "# encoding='utf-8'이 안될 때는 encoding='CP949' 사용.\r\n",
        "monthly_traffic = pd.read_csv('/content/drive/MyDrive/Colab Notebooks/DATA/2019 monthly teaffic.csv', encoding='CP949')\r\n",
        "monthly_traffic.head()"
      ],
      "execution_count": 24,
      "outputs": [
        {
          "output_type": "execute_result",
          "data": {
            "text/html": [
              "<div>\n",
              "<style scoped>\n",
              "    .dataframe tbody tr th:only-of-type {\n",
              "        vertical-align: middle;\n",
              "    }\n",
              "\n",
              "    .dataframe tbody tr th {\n",
              "        vertical-align: top;\n",
              "    }\n",
              "\n",
              "    .dataframe thead th {\n",
              "        text-align: right;\n",
              "    }\n",
              "</style>\n",
              "<table border=\"1\" class=\"dataframe\">\n",
              "  <thead>\n",
              "    <tr style=\"text-align: right;\">\n",
              "      <th></th>\n",
              "      <th>사고유형대분류</th>\n",
              "      <th>사고유형중분류</th>\n",
              "      <th>사고유형</th>\n",
              "      <th>월</th>\n",
              "      <th>사고건수</th>\n",
              "      <th>사망자수</th>\n",
              "      <th>중상자수</th>\n",
              "      <th>경상자수</th>\n",
              "      <th>부상신고자수</th>\n",
              "    </tr>\n",
              "  </thead>\n",
              "  <tbody>\n",
              "    <tr>\n",
              "      <th>0</th>\n",
              "      <td>차대사람</td>\n",
              "      <td>횡단중</td>\n",
              "      <td>횡단중</td>\n",
              "      <td>1</td>\n",
              "      <td>1532</td>\n",
              "      <td>69</td>\n",
              "      <td>841</td>\n",
              "      <td>650</td>\n",
              "      <td>61</td>\n",
              "    </tr>\n",
              "    <tr>\n",
              "      <th>1</th>\n",
              "      <td>차대사람</td>\n",
              "      <td>횡단중</td>\n",
              "      <td>횡단중</td>\n",
              "      <td>2</td>\n",
              "      <td>1201</td>\n",
              "      <td>40</td>\n",
              "      <td>599</td>\n",
              "      <td>594</td>\n",
              "      <td>39</td>\n",
              "    </tr>\n",
              "    <tr>\n",
              "      <th>2</th>\n",
              "      <td>차대사람</td>\n",
              "      <td>횡단중</td>\n",
              "      <td>횡단중</td>\n",
              "      <td>3</td>\n",
              "      <td>1453</td>\n",
              "      <td>47</td>\n",
              "      <td>736</td>\n",
              "      <td>709</td>\n",
              "      <td>61</td>\n",
              "    </tr>\n",
              "    <tr>\n",
              "      <th>3</th>\n",
              "      <td>차대사람</td>\n",
              "      <td>횡단중</td>\n",
              "      <td>횡단중</td>\n",
              "      <td>4</td>\n",
              "      <td>1604</td>\n",
              "      <td>55</td>\n",
              "      <td>778</td>\n",
              "      <td>783</td>\n",
              "      <td>73</td>\n",
              "    </tr>\n",
              "    <tr>\n",
              "      <th>4</th>\n",
              "      <td>차대사람</td>\n",
              "      <td>횡단중</td>\n",
              "      <td>횡단중</td>\n",
              "      <td>5</td>\n",
              "      <td>1516</td>\n",
              "      <td>61</td>\n",
              "      <td>751</td>\n",
              "      <td>715</td>\n",
              "      <td>85</td>\n",
              "    </tr>\n",
              "  </tbody>\n",
              "</table>\n",
              "</div>"
            ],
            "text/plain": [
              "  사고유형대분류 사고유형중분류 사고유형  월  사고건수  사망자수  중상자수  경상자수  부상신고자수\n",
              "0    차대사람     횡단중  횡단중  1  1532    69   841   650      61\n",
              "1    차대사람     횡단중  횡단중  2  1201    40   599   594      39\n",
              "2    차대사람     횡단중  횡단중  3  1453    47   736   709      61\n",
              "3    차대사람     횡단중  횡단중  4  1604    55   778   783      73\n",
              "4    차대사람     횡단중  횡단중  5  1516    61   751   715      85"
            ]
          },
          "metadata": {
            "tags": []
          },
          "execution_count": 24
        }
      ]
    },
    {
      "cell_type": "code",
      "metadata": {
        "colab": {
          "base_uri": "https://localhost:8080/"
        },
        "id": "tSEoNz6UwoVm",
        "outputId": "1ef21fb4-39ea-4673-9d3d-38f81296e8ef"
      },
      "source": [
        "# 데이터 타입 확인\r\n",
        "type(monthly_traffic)"
      ],
      "execution_count": 25,
      "outputs": [
        {
          "output_type": "execute_result",
          "data": {
            "text/plain": [
              "pandas.core.frame.DataFrame"
            ]
          },
          "metadata": {
            "tags": []
          },
          "execution_count": 25
        }
      ]
    },
    {
      "cell_type": "code",
      "metadata": {
        "colab": {
          "base_uri": "https://localhost:8080/"
        },
        "id": "dE_5Jl7AAgn9",
        "outputId": "217a318a-2502-46c8-f3a5-d0d7284ec6d9"
      },
      "source": [
        "# 데이터 프레임 개요\r\n",
        "monthly_traffic.info()"
      ],
      "execution_count": 26,
      "outputs": [
        {
          "output_type": "stream",
          "text": [
            "<class 'pandas.core.frame.DataFrame'>\n",
            "RangeIndex: 210 entries, 0 to 209\n",
            "Data columns (total 9 columns):\n",
            " #   Column   Non-Null Count  Dtype \n",
            "---  ------   --------------  ----- \n",
            " 0   사고유형대분류  210 non-null    object\n",
            " 1   사고유형중분류  210 non-null    object\n",
            " 2   사고유형     210 non-null    object\n",
            " 3   월        210 non-null    int64 \n",
            " 4   사고건수     210 non-null    int64 \n",
            " 5   사망자수     210 non-null    int64 \n",
            " 6   중상자수     210 non-null    int64 \n",
            " 7   경상자수     210 non-null    int64 \n",
            " 8   부상신고자수   210 non-null    int64 \n",
            "dtypes: int64(6), object(3)\n",
            "memory usage: 14.9+ KB\n"
          ],
          "name": "stdout"
        }
      ]
    },
    {
      "cell_type": "code",
      "metadata": {
        "id": "aV-K0ME9DkJb",
        "colab": {
          "base_uri": "https://localhost:8080/"
        },
        "outputId": "c60dd5d5-2877-4981-857a-3dacbdb1ca11"
      },
      "source": [
        "# 컬럼 명 확인\r\n",
        "monthly_traffic.columns"
      ],
      "execution_count": 27,
      "outputs": [
        {
          "output_type": "execute_result",
          "data": {
            "text/plain": [
              "Index(['사고유형대분류', '사고유형중분류', '사고유형', '월', '사고건수', '사망자수', '중상자수', '경상자수',\n",
              "       '부상신고자수'],\n",
              "      dtype='object')"
            ]
          },
          "metadata": {
            "tags": []
          },
          "execution_count": 27
        }
      ]
    },
    {
      "cell_type": "code",
      "metadata": {
        "colab": {
          "base_uri": "https://localhost:8080/"
        },
        "id": "YTaJZsMzwuKm",
        "outputId": "5c6b461d-d8f1-4960-a526-11646bf84bce"
      },
      "source": [
        "# 행의 개수와 열의 개수 출력\r\n",
        "print(monthly_traffic.shape)"
      ],
      "execution_count": 28,
      "outputs": [
        {
          "output_type": "stream",
          "text": [
            "(210, 9)\n"
          ],
          "name": "stdout"
        }
      ]
    },
    {
      "cell_type": "code",
      "metadata": {
        "id": "pBlMuSnNOV7M",
        "colab": {
          "base_uri": "https://localhost:8080/"
        },
        "outputId": "fae8a7f2-aaa6-437f-c6e1-4a5da797e93f"
      },
      "source": [
        "# 컬럼별 타입, 통계값 확인\r\n",
        "monthly_traffic.dtypes"
      ],
      "execution_count": 29,
      "outputs": [
        {
          "output_type": "execute_result",
          "data": {
            "text/plain": [
              "사고유형대분류    object\n",
              "사고유형중분류    object\n",
              "사고유형       object\n",
              "월           int64\n",
              "사고건수        int64\n",
              "사망자수        int64\n",
              "중상자수        int64\n",
              "경상자수        int64\n",
              "부상신고자수      int64\n",
              "dtype: object"
            ]
          },
          "metadata": {
            "tags": []
          },
          "execution_count": 29
        }
      ]
    },
    {
      "cell_type": "code",
      "metadata": {
        "colab": {
          "base_uri": "https://localhost:8080/"
        },
        "id": "XRTg2FzLQUBt",
        "outputId": "ea1f5698-1ada-4958-c25b-da77ac5e4274"
      },
      "source": [
        "# isnull()를 이용해 컬럼별 NAN 값의 개수 확인\r\n",
        "# 만약에 있다면 제거는 monthly_traffic.dropna()\r\n",
        "monthly_traffic.isnull().sum()"
      ],
      "execution_count": 30,
      "outputs": [
        {
          "output_type": "execute_result",
          "data": {
            "text/plain": [
              "사고유형대분류    0\n",
              "사고유형중분류    0\n",
              "사고유형       0\n",
              "월          0\n",
              "사고건수       0\n",
              "사망자수       0\n",
              "중상자수       0\n",
              "경상자수       0\n",
              "부상신고자수     0\n",
              "dtype: int64"
            ]
          },
          "metadata": {
            "tags": []
          },
          "execution_count": 30
        }
      ]
    },
    {
      "cell_type": "code",
      "metadata": {
        "colab": {
          "base_uri": "https://localhost:8080/"
        },
        "id": "lq7sX8F8RHKT",
        "outputId": "3905784b-1a85-42bb-810e-10a951831e4a"
      },
      "source": [
        "# 내용 확인\r\n",
        "monthly_traffic.values"
      ],
      "execution_count": 31,
      "outputs": [
        {
          "output_type": "execute_result",
          "data": {
            "text/plain": [
              "array([['차대사람', '횡단중', '횡단중', ..., 841, 650, 61],\n",
              "       ['차대사람', '횡단중', '횡단중', ..., 599, 594, 39],\n",
              "       ['차대사람', '횡단중', '횡단중', ..., 736, 709, 61],\n",
              "       ...,\n",
              "       ['철길건널목', '철길건널목', '철길건널목', ..., 1, 0, 0],\n",
              "       ['철길건널목', '철길건널목', '철길건널목', ..., 0, 0, 0],\n",
              "       ['철길건널목', '철길건널목', '철길건널목', ..., 3, 4, 0]], dtype=object)"
            ]
          },
          "metadata": {
            "tags": []
          },
          "execution_count": 31
        }
      ]
    },
    {
      "cell_type": "code",
      "metadata": {
        "colab": {
          "base_uri": "https://localhost:8080/",
          "height": 297
        },
        "id": "LQe1YsOyVJm-",
        "outputId": "e4bf04bd-2f11-457b-9a0b-63c5101a9188"
      },
      "source": [
        "# 분포 확인\r\n",
        "monthly_traffic.describe()"
      ],
      "execution_count": 32,
      "outputs": [
        {
          "output_type": "execute_result",
          "data": {
            "text/html": [
              "<div>\n",
              "<style scoped>\n",
              "    .dataframe tbody tr th:only-of-type {\n",
              "        vertical-align: middle;\n",
              "    }\n",
              "\n",
              "    .dataframe tbody tr th {\n",
              "        vertical-align: top;\n",
              "    }\n",
              "\n",
              "    .dataframe thead th {\n",
              "        text-align: right;\n",
              "    }\n",
              "</style>\n",
              "<table border=\"1\" class=\"dataframe\">\n",
              "  <thead>\n",
              "    <tr style=\"text-align: right;\">\n",
              "      <th></th>\n",
              "      <th>월</th>\n",
              "      <th>사고건수</th>\n",
              "      <th>사망자수</th>\n",
              "      <th>중상자수</th>\n",
              "      <th>경상자수</th>\n",
              "      <th>부상신고자수</th>\n",
              "    </tr>\n",
              "  </thead>\n",
              "  <tbody>\n",
              "    <tr>\n",
              "      <th>count</th>\n",
              "      <td>210.000000</td>\n",
              "      <td>210.000000</td>\n",
              "      <td>210.000000</td>\n",
              "      <td>210.000000</td>\n",
              "      <td>210.000000</td>\n",
              "      <td>210.000000</td>\n",
              "    </tr>\n",
              "    <tr>\n",
              "      <th>mean</th>\n",
              "      <td>6.490476</td>\n",
              "      <td>1093.333333</td>\n",
              "      <td>15.947619</td>\n",
              "      <td>344.314286</td>\n",
              "      <td>1169.161905</td>\n",
              "      <td>113.723810</td>\n",
              "    </tr>\n",
              "    <tr>\n",
              "      <th>std</th>\n",
              "      <td>3.446433</td>\n",
              "      <td>1795.046438</td>\n",
              "      <td>16.758690</td>\n",
              "      <td>509.755065</td>\n",
              "      <td>2206.423240</td>\n",
              "      <td>196.304494</td>\n",
              "    </tr>\n",
              "    <tr>\n",
              "      <th>min</th>\n",
              "      <td>1.000000</td>\n",
              "      <td>1.000000</td>\n",
              "      <td>0.000000</td>\n",
              "      <td>0.000000</td>\n",
              "      <td>0.000000</td>\n",
              "      <td>0.000000</td>\n",
              "    </tr>\n",
              "    <tr>\n",
              "      <th>25%</th>\n",
              "      <td>3.250000</td>\n",
              "      <td>42.000000</td>\n",
              "      <td>2.250000</td>\n",
              "      <td>22.500000</td>\n",
              "      <td>19.250000</td>\n",
              "      <td>7.000000</td>\n",
              "    </tr>\n",
              "    <tr>\n",
              "      <th>50%</th>\n",
              "      <td>6.500000</td>\n",
              "      <td>293.500000</td>\n",
              "      <td>10.000000</td>\n",
              "      <td>120.000000</td>\n",
              "      <td>200.500000</td>\n",
              "      <td>25.000000</td>\n",
              "    </tr>\n",
              "    <tr>\n",
              "      <th>75%</th>\n",
              "      <td>9.000000</td>\n",
              "      <td>1448.500000</td>\n",
              "      <td>24.750000</td>\n",
              "      <td>536.750000</td>\n",
              "      <td>780.750000</td>\n",
              "      <td>80.750000</td>\n",
              "    </tr>\n",
              "    <tr>\n",
              "      <th>max</th>\n",
              "      <td>12.000000</td>\n",
              "      <td>7806.000000</td>\n",
              "      <td>69.000000</td>\n",
              "      <td>2313.000000</td>\n",
              "      <td>9222.000000</td>\n",
              "      <td>836.000000</td>\n",
              "    </tr>\n",
              "  </tbody>\n",
              "</table>\n",
              "</div>"
            ],
            "text/plain": [
              "                월         사고건수  ...         경상자수      부상신고자수\n",
              "count  210.000000   210.000000  ...   210.000000  210.000000\n",
              "mean     6.490476  1093.333333  ...  1169.161905  113.723810\n",
              "std      3.446433  1795.046438  ...  2206.423240  196.304494\n",
              "min      1.000000     1.000000  ...     0.000000    0.000000\n",
              "25%      3.250000    42.000000  ...    19.250000    7.000000\n",
              "50%      6.500000   293.500000  ...   200.500000   25.000000\n",
              "75%      9.000000  1448.500000  ...   780.750000   80.750000\n",
              "max     12.000000  7806.000000  ...  9222.000000  836.000000\n",
              "\n",
              "[8 rows x 6 columns]"
            ]
          },
          "metadata": {
            "tags": []
          },
          "execution_count": 32
        }
      ]
    },
    {
      "cell_type": "code",
      "metadata": {
        "colab": {
          "base_uri": "https://localhost:8080/"
        },
        "id": "yI58VfYOVtBw",
        "outputId": "32e4b9d3-7ee4-442a-95ce-3e37f61e0ed5"
      },
      "source": [
        "# 요청 컬럼만 Series로 출력\r\n",
        "monthly_traffic['사고유형중분류']"
      ],
      "execution_count": 33,
      "outputs": [
        {
          "output_type": "execute_result",
          "data": {
            "text/plain": [
              "0        횡단중\n",
              "1        횡단중\n",
              "2        횡단중\n",
              "3        횡단중\n",
              "4        횡단중\n",
              "       ...  \n",
              "205    철길건널목\n",
              "206    철길건널목\n",
              "207    철길건널목\n",
              "208    철길건널목\n",
              "209    철길건널목\n",
              "Name: 사고유형중분류, Length: 210, dtype: object"
            ]
          },
          "metadata": {
            "tags": []
          },
          "execution_count": 33
        }
      ]
    },
    {
      "cell_type": "code",
      "metadata": {
        "colab": {
          "base_uri": "https://localhost:8080/",
          "height": 159
        },
        "id": "8H7EjXP2WM9t",
        "outputId": "d1105180-c609-4586-ba49-90ea4cac7ac0"
      },
      "source": [
        "# 행의 범위를 지정해서 출력\r\n",
        "monthly_traffic[0:3]"
      ],
      "execution_count": 34,
      "outputs": [
        {
          "output_type": "execute_result",
          "data": {
            "text/html": [
              "<div>\n",
              "<style scoped>\n",
              "    .dataframe tbody tr th:only-of-type {\n",
              "        vertical-align: middle;\n",
              "    }\n",
              "\n",
              "    .dataframe tbody tr th {\n",
              "        vertical-align: top;\n",
              "    }\n",
              "\n",
              "    .dataframe thead th {\n",
              "        text-align: right;\n",
              "    }\n",
              "</style>\n",
              "<table border=\"1\" class=\"dataframe\">\n",
              "  <thead>\n",
              "    <tr style=\"text-align: right;\">\n",
              "      <th></th>\n",
              "      <th>사고유형대분류</th>\n",
              "      <th>사고유형중분류</th>\n",
              "      <th>사고유형</th>\n",
              "      <th>월</th>\n",
              "      <th>사고건수</th>\n",
              "      <th>사망자수</th>\n",
              "      <th>중상자수</th>\n",
              "      <th>경상자수</th>\n",
              "      <th>부상신고자수</th>\n",
              "    </tr>\n",
              "  </thead>\n",
              "  <tbody>\n",
              "    <tr>\n",
              "      <th>0</th>\n",
              "      <td>차대사람</td>\n",
              "      <td>횡단중</td>\n",
              "      <td>횡단중</td>\n",
              "      <td>1</td>\n",
              "      <td>1532</td>\n",
              "      <td>69</td>\n",
              "      <td>841</td>\n",
              "      <td>650</td>\n",
              "      <td>61</td>\n",
              "    </tr>\n",
              "    <tr>\n",
              "      <th>1</th>\n",
              "      <td>차대사람</td>\n",
              "      <td>횡단중</td>\n",
              "      <td>횡단중</td>\n",
              "      <td>2</td>\n",
              "      <td>1201</td>\n",
              "      <td>40</td>\n",
              "      <td>599</td>\n",
              "      <td>594</td>\n",
              "      <td>39</td>\n",
              "    </tr>\n",
              "    <tr>\n",
              "      <th>2</th>\n",
              "      <td>차대사람</td>\n",
              "      <td>횡단중</td>\n",
              "      <td>횡단중</td>\n",
              "      <td>3</td>\n",
              "      <td>1453</td>\n",
              "      <td>47</td>\n",
              "      <td>736</td>\n",
              "      <td>709</td>\n",
              "      <td>61</td>\n",
              "    </tr>\n",
              "  </tbody>\n",
              "</table>\n",
              "</div>"
            ],
            "text/plain": [
              "  사고유형대분류 사고유형중분류 사고유형  월  사고건수  사망자수  중상자수  경상자수  부상신고자수\n",
              "0    차대사람     횡단중  횡단중  1  1532    69   841   650      61\n",
              "1    차대사람     횡단중  횡단중  2  1201    40   599   594      39\n",
              "2    차대사람     횡단중  횡단중  3  1453    47   736   709      61"
            ]
          },
          "metadata": {
            "tags": []
          },
          "execution_count": 34
        }
      ]
    },
    {
      "cell_type": "code",
      "metadata": {
        "colab": {
          "base_uri": "https://localhost:8080/",
          "height": 419
        },
        "id": "QHs19U83WeU5",
        "outputId": "719e5532-ba33-4e0c-958e-43e0180642bc"
      },
      "source": [
        "# 범위를 특정해서 데이터 확인\r\n",
        "monthly_traffic.loc[:,['월', '사고건수']]"
      ],
      "execution_count": 35,
      "outputs": [
        {
          "output_type": "execute_result",
          "data": {
            "text/html": [
              "<div>\n",
              "<style scoped>\n",
              "    .dataframe tbody tr th:only-of-type {\n",
              "        vertical-align: middle;\n",
              "    }\n",
              "\n",
              "    .dataframe tbody tr th {\n",
              "        vertical-align: top;\n",
              "    }\n",
              "\n",
              "    .dataframe thead th {\n",
              "        text-align: right;\n",
              "    }\n",
              "</style>\n",
              "<table border=\"1\" class=\"dataframe\">\n",
              "  <thead>\n",
              "    <tr style=\"text-align: right;\">\n",
              "      <th></th>\n",
              "      <th>월</th>\n",
              "      <th>사고건수</th>\n",
              "    </tr>\n",
              "  </thead>\n",
              "  <tbody>\n",
              "    <tr>\n",
              "      <th>0</th>\n",
              "      <td>1</td>\n",
              "      <td>1532</td>\n",
              "    </tr>\n",
              "    <tr>\n",
              "      <th>1</th>\n",
              "      <td>2</td>\n",
              "      <td>1201</td>\n",
              "    </tr>\n",
              "    <tr>\n",
              "      <th>2</th>\n",
              "      <td>3</td>\n",
              "      <td>1453</td>\n",
              "    </tr>\n",
              "    <tr>\n",
              "      <th>3</th>\n",
              "      <td>4</td>\n",
              "      <td>1604</td>\n",
              "    </tr>\n",
              "    <tr>\n",
              "      <th>4</th>\n",
              "      <td>5</td>\n",
              "      <td>1516</td>\n",
              "    </tr>\n",
              "    <tr>\n",
              "      <th>...</th>\n",
              "      <td>...</td>\n",
              "      <td>...</td>\n",
              "    </tr>\n",
              "    <tr>\n",
              "      <th>205</th>\n",
              "      <td>6</td>\n",
              "      <td>1</td>\n",
              "    </tr>\n",
              "    <tr>\n",
              "      <th>206</th>\n",
              "      <td>7</td>\n",
              "      <td>1</td>\n",
              "    </tr>\n",
              "    <tr>\n",
              "      <th>207</th>\n",
              "      <td>8</td>\n",
              "      <td>1</td>\n",
              "    </tr>\n",
              "    <tr>\n",
              "      <th>208</th>\n",
              "      <td>9</td>\n",
              "      <td>1</td>\n",
              "    </tr>\n",
              "    <tr>\n",
              "      <th>209</th>\n",
              "      <td>10</td>\n",
              "      <td>2</td>\n",
              "    </tr>\n",
              "  </tbody>\n",
              "</table>\n",
              "<p>210 rows × 2 columns</p>\n",
              "</div>"
            ],
            "text/plain": [
              "      월  사고건수\n",
              "0     1  1532\n",
              "1     2  1201\n",
              "2     3  1453\n",
              "3     4  1604\n",
              "4     5  1516\n",
              "..   ..   ...\n",
              "205   6     1\n",
              "206   7     1\n",
              "207   8     1\n",
              "208   9     1\n",
              "209  10     2\n",
              "\n",
              "[210 rows x 2 columns]"
            ]
          },
          "metadata": {
            "tags": []
          },
          "execution_count": 35
        }
      ]
    },
    {
      "cell_type": "code",
      "metadata": {
        "colab": {
          "base_uri": "https://localhost:8080/"
        },
        "id": "_VCDL9EiWlze",
        "outputId": "6dd46bfc-5540-4b54-d887-302f781e3f22"
      },
      "source": [
        "# 행과 열의 번호를 이용해 데이터에 바로 접근\r\n",
        "# iloc[행, 열]\r\n",
        "monthly_traffic.iloc[3]"
      ],
      "execution_count": 36,
      "outputs": [
        {
          "output_type": "execute_result",
          "data": {
            "text/plain": [
              "사고유형대분류    차대사람\n",
              "사고유형중분류     횡단중\n",
              "사고유형        횡단중\n",
              "월             4\n",
              "사고건수       1604\n",
              "사망자수         55\n",
              "중상자수        778\n",
              "경상자수        783\n",
              "부상신고자수       73\n",
              "Name: 3, dtype: object"
            ]
          },
          "metadata": {
            "tags": []
          },
          "execution_count": 36
        }
      ]
    },
    {
      "cell_type": "code",
      "metadata": {
        "colab": {
          "base_uri": "https://localhost:8080/"
        },
        "id": "dECoIMnOX5Si",
        "outputId": "d10d5253-03a4-4061-ff57-bc720467fc31"
      },
      "source": [
        "# 표준편차 확인\r\n",
        "monthly_traffic.std()"
      ],
      "execution_count": 37,
      "outputs": [
        {
          "output_type": "execute_result",
          "data": {
            "text/plain": [
              "월            3.446433\n",
              "사고건수      1795.046438\n",
              "사망자수        16.758690\n",
              "중상자수       509.755065\n",
              "경상자수      2206.423240\n",
              "부상신고자수     196.304494\n",
              "dtype: float64"
            ]
          },
          "metadata": {
            "tags": []
          },
          "execution_count": 37
        }
      ]
    },
    {
      "cell_type": "code",
      "metadata": {
        "id": "9ZhSJkYuYU-Z",
        "colab": {
          "base_uri": "https://localhost:8080/",
          "height": 487
        },
        "outputId": "2fe1a9ea-2b57-4f20-d55b-6f92eb079a0f"
      },
      "source": [
        "# by로 지정된 컬럼을 기준으로 정렬\r\n",
        "# ascending = 내림차순, 오름차순 정렬\r\n",
        "monthly_traffic.sort_values(by='월', ascending=True)"
      ],
      "execution_count": 38,
      "outputs": [
        {
          "output_type": "execute_result",
          "data": {
            "text/html": [
              "<div>\n",
              "<style scoped>\n",
              "    .dataframe tbody tr th:only-of-type {\n",
              "        vertical-align: middle;\n",
              "    }\n",
              "\n",
              "    .dataframe tbody tr th {\n",
              "        vertical-align: top;\n",
              "    }\n",
              "\n",
              "    .dataframe thead th {\n",
              "        text-align: right;\n",
              "    }\n",
              "</style>\n",
              "<table border=\"1\" class=\"dataframe\">\n",
              "  <thead>\n",
              "    <tr style=\"text-align: right;\">\n",
              "      <th></th>\n",
              "      <th>사고유형대분류</th>\n",
              "      <th>사고유형중분류</th>\n",
              "      <th>사고유형</th>\n",
              "      <th>월</th>\n",
              "      <th>사고건수</th>\n",
              "      <th>사망자수</th>\n",
              "      <th>중상자수</th>\n",
              "      <th>경상자수</th>\n",
              "      <th>부상신고자수</th>\n",
              "    </tr>\n",
              "  </thead>\n",
              "  <tbody>\n",
              "    <tr>\n",
              "      <th>0</th>\n",
              "      <td>차대사람</td>\n",
              "      <td>횡단중</td>\n",
              "      <td>횡단중</td>\n",
              "      <td>1</td>\n",
              "      <td>1532</td>\n",
              "      <td>69</td>\n",
              "      <td>841</td>\n",
              "      <td>650</td>\n",
              "      <td>61</td>\n",
              "    </tr>\n",
              "    <tr>\n",
              "      <th>132</th>\n",
              "      <td>차량단독</td>\n",
              "      <td>전복</td>\n",
              "      <td>전복</td>\n",
              "      <td>1</td>\n",
              "      <td>16</td>\n",
              "      <td>3</td>\n",
              "      <td>7</td>\n",
              "      <td>9</td>\n",
              "      <td>2</td>\n",
              "    </tr>\n",
              "    <tr>\n",
              "      <th>120</th>\n",
              "      <td>차량단독</td>\n",
              "      <td>전도</td>\n",
              "      <td>전도</td>\n",
              "      <td>1</td>\n",
              "      <td>35</td>\n",
              "      <td>5</td>\n",
              "      <td>8</td>\n",
              "      <td>12</td>\n",
              "      <td>13</td>\n",
              "    </tr>\n",
              "    <tr>\n",
              "      <th>156</th>\n",
              "      <td>차량단독</td>\n",
              "      <td>주/정차차량 충돌</td>\n",
              "      <td>주/정차차량 충돌</td>\n",
              "      <td>1</td>\n",
              "      <td>3</td>\n",
              "      <td>0</td>\n",
              "      <td>2</td>\n",
              "      <td>2</td>\n",
              "      <td>0</td>\n",
              "    </tr>\n",
              "    <tr>\n",
              "      <th>108</th>\n",
              "      <td>차대차</td>\n",
              "      <td>기타</td>\n",
              "      <td>기타</td>\n",
              "      <td>1</td>\n",
              "      <td>3359</td>\n",
              "      <td>26</td>\n",
              "      <td>923</td>\n",
              "      <td>3762</td>\n",
              "      <td>395</td>\n",
              "    </tr>\n",
              "    <tr>\n",
              "      <th>...</th>\n",
              "      <td>...</td>\n",
              "      <td>...</td>\n",
              "      <td>...</td>\n",
              "      <td>...</td>\n",
              "      <td>...</td>\n",
              "      <td>...</td>\n",
              "      <td>...</td>\n",
              "      <td>...</td>\n",
              "      <td>...</td>\n",
              "    </tr>\n",
              "    <tr>\n",
              "      <th>166</th>\n",
              "      <td>차량단독</td>\n",
              "      <td>주/정차차량 충돌</td>\n",
              "      <td>주/정차차량 충돌</td>\n",
              "      <td>12</td>\n",
              "      <td>3</td>\n",
              "      <td>0</td>\n",
              "      <td>1</td>\n",
              "      <td>1</td>\n",
              "      <td>1</td>\n",
              "    </tr>\n",
              "    <tr>\n",
              "      <th>95</th>\n",
              "      <td>차대차</td>\n",
              "      <td>후진중충돌</td>\n",
              "      <td>후진중충돌</td>\n",
              "      <td>12</td>\n",
              "      <td>240</td>\n",
              "      <td>0</td>\n",
              "      <td>26</td>\n",
              "      <td>280</td>\n",
              "      <td>12</td>\n",
              "    </tr>\n",
              "    <tr>\n",
              "      <th>35</th>\n",
              "      <td>차대사람</td>\n",
              "      <td>길가장자리구역통행중</td>\n",
              "      <td>길가장자리구역통행중</td>\n",
              "      <td>12</td>\n",
              "      <td>223</td>\n",
              "      <td>6</td>\n",
              "      <td>60</td>\n",
              "      <td>151</td>\n",
              "      <td>16</td>\n",
              "    </tr>\n",
              "    <tr>\n",
              "      <th>190</th>\n",
              "      <td>차량단독</td>\n",
              "      <td>도로이탈</td>\n",
              "      <td>도로이탈 기타</td>\n",
              "      <td>12</td>\n",
              "      <td>8</td>\n",
              "      <td>1</td>\n",
              "      <td>4</td>\n",
              "      <td>3</td>\n",
              "      <td>0</td>\n",
              "    </tr>\n",
              "    <tr>\n",
              "      <th>143</th>\n",
              "      <td>차량단독</td>\n",
              "      <td>전복</td>\n",
              "      <td>전복</td>\n",
              "      <td>12</td>\n",
              "      <td>18</td>\n",
              "      <td>5</td>\n",
              "      <td>5</td>\n",
              "      <td>12</td>\n",
              "      <td>3</td>\n",
              "    </tr>\n",
              "  </tbody>\n",
              "</table>\n",
              "<p>210 rows × 9 columns</p>\n",
              "</div>"
            ],
            "text/plain": [
              "    사고유형대분류     사고유형중분류        사고유형   월  사고건수  사망자수  중상자수  경상자수  부상신고자수\n",
              "0      차대사람         횡단중         횡단중   1  1532    69   841   650      61\n",
              "132    차량단독          전복          전복   1    16     3     7     9       2\n",
              "120    차량단독          전도          전도   1    35     5     8    12      13\n",
              "156    차량단독   주/정차차량 충돌   주/정차차량 충돌   1     3     0     2     2       0\n",
              "108     차대차          기타          기타   1  3359    26   923  3762     395\n",
              "..      ...         ...         ...  ..   ...   ...   ...   ...     ...\n",
              "166    차량단독   주/정차차량 충돌   주/정차차량 충돌  12     3     0     1     1       1\n",
              "95      차대차       후진중충돌       후진중충돌  12   240     0    26   280      12\n",
              "35     차대사람  길가장자리구역통행중  길가장자리구역통행중  12   223     6    60   151      16\n",
              "190    차량단독        도로이탈     도로이탈 기타  12     8     1     4     3       0\n",
              "143    차량단독          전복          전복  12    18     5     5    12       3\n",
              "\n",
              "[210 rows x 9 columns]"
            ]
          },
          "metadata": {
            "tags": []
          },
          "execution_count": 38
        }
      ]
    },
    {
      "cell_type": "code",
      "metadata": {
        "colab": {
          "base_uri": "https://localhost:8080/",
          "height": 204
        },
        "id": "Lc3ud4AQzIT8",
        "outputId": "1d153e16-ea02-46c6-c40d-ad77a90f9b09"
      },
      "source": [
        "# 월 별 사고건수 데이터 생성\r\n",
        "month=monthly_traffic[['월','사고건수']]\r\n",
        "month.head()"
      ],
      "execution_count": 50,
      "outputs": [
        {
          "output_type": "execute_result",
          "data": {
            "text/html": [
              "<div>\n",
              "<style scoped>\n",
              "    .dataframe tbody tr th:only-of-type {\n",
              "        vertical-align: middle;\n",
              "    }\n",
              "\n",
              "    .dataframe tbody tr th {\n",
              "        vertical-align: top;\n",
              "    }\n",
              "\n",
              "    .dataframe thead th {\n",
              "        text-align: right;\n",
              "    }\n",
              "</style>\n",
              "<table border=\"1\" class=\"dataframe\">\n",
              "  <thead>\n",
              "    <tr style=\"text-align: right;\">\n",
              "      <th></th>\n",
              "      <th>월</th>\n",
              "      <th>사고건수</th>\n",
              "    </tr>\n",
              "  </thead>\n",
              "  <tbody>\n",
              "    <tr>\n",
              "      <th>0</th>\n",
              "      <td>1</td>\n",
              "      <td>1532</td>\n",
              "    </tr>\n",
              "    <tr>\n",
              "      <th>1</th>\n",
              "      <td>2</td>\n",
              "      <td>1201</td>\n",
              "    </tr>\n",
              "    <tr>\n",
              "      <th>2</th>\n",
              "      <td>3</td>\n",
              "      <td>1453</td>\n",
              "    </tr>\n",
              "    <tr>\n",
              "      <th>3</th>\n",
              "      <td>4</td>\n",
              "      <td>1604</td>\n",
              "    </tr>\n",
              "    <tr>\n",
              "      <th>4</th>\n",
              "      <td>5</td>\n",
              "      <td>1516</td>\n",
              "    </tr>\n",
              "  </tbody>\n",
              "</table>\n",
              "</div>"
            ],
            "text/plain": [
              "   월  사고건수\n",
              "0  1  1532\n",
              "1  2  1201\n",
              "2  3  1453\n",
              "3  4  1604\n",
              "4  5  1516"
            ]
          },
          "metadata": {
            "tags": []
          },
          "execution_count": 50
        }
      ]
    },
    {
      "cell_type": "code",
      "metadata": {
        "colab": {
          "base_uri": "https://localhost:8080/",
          "height": 211
        },
        "id": "9JwqNWxc03mP",
        "outputId": "56cad030-e305-4a14-df85-4fff941ca369"
      },
      "source": [
        "# 월별 사고건수 데이터 행렬 축 변경\r\n",
        "month.T"
      ],
      "execution_count": 54,
      "outputs": [
        {
          "output_type": "execute_result",
          "data": {
            "text/html": [
              "<div>\n",
              "<style scoped>\n",
              "    .dataframe tbody tr th:only-of-type {\n",
              "        vertical-align: middle;\n",
              "    }\n",
              "\n",
              "    .dataframe tbody tr th {\n",
              "        vertical-align: top;\n",
              "    }\n",
              "\n",
              "    .dataframe thead th {\n",
              "        text-align: right;\n",
              "    }\n",
              "</style>\n",
              "<table border=\"1\" class=\"dataframe\">\n",
              "  <thead>\n",
              "    <tr style=\"text-align: right;\">\n",
              "      <th></th>\n",
              "      <th>0</th>\n",
              "      <th>1</th>\n",
              "      <th>2</th>\n",
              "      <th>3</th>\n",
              "      <th>4</th>\n",
              "      <th>5</th>\n",
              "      <th>6</th>\n",
              "      <th>7</th>\n",
              "      <th>8</th>\n",
              "      <th>9</th>\n",
              "      <th>10</th>\n",
              "      <th>11</th>\n",
              "      <th>12</th>\n",
              "      <th>13</th>\n",
              "      <th>14</th>\n",
              "      <th>15</th>\n",
              "      <th>16</th>\n",
              "      <th>17</th>\n",
              "      <th>18</th>\n",
              "      <th>19</th>\n",
              "      <th>20</th>\n",
              "      <th>21</th>\n",
              "      <th>22</th>\n",
              "      <th>23</th>\n",
              "      <th>24</th>\n",
              "      <th>25</th>\n",
              "      <th>26</th>\n",
              "      <th>27</th>\n",
              "      <th>28</th>\n",
              "      <th>29</th>\n",
              "      <th>30</th>\n",
              "      <th>31</th>\n",
              "      <th>32</th>\n",
              "      <th>33</th>\n",
              "      <th>34</th>\n",
              "      <th>35</th>\n",
              "      <th>36</th>\n",
              "      <th>37</th>\n",
              "      <th>38</th>\n",
              "      <th>39</th>\n",
              "      <th>...</th>\n",
              "      <th>170</th>\n",
              "      <th>171</th>\n",
              "      <th>172</th>\n",
              "      <th>173</th>\n",
              "      <th>174</th>\n",
              "      <th>175</th>\n",
              "      <th>176</th>\n",
              "      <th>177</th>\n",
              "      <th>178</th>\n",
              "      <th>179</th>\n",
              "      <th>180</th>\n",
              "      <th>181</th>\n",
              "      <th>182</th>\n",
              "      <th>183</th>\n",
              "      <th>184</th>\n",
              "      <th>185</th>\n",
              "      <th>186</th>\n",
              "      <th>187</th>\n",
              "      <th>188</th>\n",
              "      <th>189</th>\n",
              "      <th>190</th>\n",
              "      <th>191</th>\n",
              "      <th>192</th>\n",
              "      <th>193</th>\n",
              "      <th>194</th>\n",
              "      <th>195</th>\n",
              "      <th>196</th>\n",
              "      <th>197</th>\n",
              "      <th>198</th>\n",
              "      <th>199</th>\n",
              "      <th>200</th>\n",
              "      <th>201</th>\n",
              "      <th>202</th>\n",
              "      <th>203</th>\n",
              "      <th>204</th>\n",
              "      <th>205</th>\n",
              "      <th>206</th>\n",
              "      <th>207</th>\n",
              "      <th>208</th>\n",
              "      <th>209</th>\n",
              "    </tr>\n",
              "  </thead>\n",
              "  <tbody>\n",
              "    <tr>\n",
              "      <th>월</th>\n",
              "      <td>1</td>\n",
              "      <td>2</td>\n",
              "      <td>3</td>\n",
              "      <td>4</td>\n",
              "      <td>5</td>\n",
              "      <td>6</td>\n",
              "      <td>7</td>\n",
              "      <td>8</td>\n",
              "      <td>9</td>\n",
              "      <td>10</td>\n",
              "      <td>11</td>\n",
              "      <td>12</td>\n",
              "      <td>1</td>\n",
              "      <td>2</td>\n",
              "      <td>3</td>\n",
              "      <td>4</td>\n",
              "      <td>5</td>\n",
              "      <td>6</td>\n",
              "      <td>7</td>\n",
              "      <td>8</td>\n",
              "      <td>9</td>\n",
              "      <td>10</td>\n",
              "      <td>11</td>\n",
              "      <td>12</td>\n",
              "      <td>1</td>\n",
              "      <td>2</td>\n",
              "      <td>3</td>\n",
              "      <td>4</td>\n",
              "      <td>5</td>\n",
              "      <td>6</td>\n",
              "      <td>7</td>\n",
              "      <td>8</td>\n",
              "      <td>9</td>\n",
              "      <td>10</td>\n",
              "      <td>11</td>\n",
              "      <td>12</td>\n",
              "      <td>1</td>\n",
              "      <td>2</td>\n",
              "      <td>3</td>\n",
              "      <td>4</td>\n",
              "      <td>...</td>\n",
              "      <td>4</td>\n",
              "      <td>5</td>\n",
              "      <td>6</td>\n",
              "      <td>7</td>\n",
              "      <td>8</td>\n",
              "      <td>9</td>\n",
              "      <td>10</td>\n",
              "      <td>11</td>\n",
              "      <td>12</td>\n",
              "      <td>1</td>\n",
              "      <td>2</td>\n",
              "      <td>3</td>\n",
              "      <td>4</td>\n",
              "      <td>5</td>\n",
              "      <td>6</td>\n",
              "      <td>7</td>\n",
              "      <td>8</td>\n",
              "      <td>9</td>\n",
              "      <td>10</td>\n",
              "      <td>11</td>\n",
              "      <td>12</td>\n",
              "      <td>1</td>\n",
              "      <td>2</td>\n",
              "      <td>3</td>\n",
              "      <td>4</td>\n",
              "      <td>5</td>\n",
              "      <td>6</td>\n",
              "      <td>7</td>\n",
              "      <td>8</td>\n",
              "      <td>9</td>\n",
              "      <td>10</td>\n",
              "      <td>11</td>\n",
              "      <td>12</td>\n",
              "      <td>2</td>\n",
              "      <td>3</td>\n",
              "      <td>6</td>\n",
              "      <td>7</td>\n",
              "      <td>8</td>\n",
              "      <td>9</td>\n",
              "      <td>10</td>\n",
              "    </tr>\n",
              "    <tr>\n",
              "      <th>사고건수</th>\n",
              "      <td>1532</td>\n",
              "      <td>1201</td>\n",
              "      <td>1453</td>\n",
              "      <td>1604</td>\n",
              "      <td>1516</td>\n",
              "      <td>1364</td>\n",
              "      <td>1399</td>\n",
              "      <td>1372</td>\n",
              "      <td>1516</td>\n",
              "      <td>1716</td>\n",
              "      <td>1798</td>\n",
              "      <td>1630</td>\n",
              "      <td>353</td>\n",
              "      <td>329</td>\n",
              "      <td>419</td>\n",
              "      <td>387</td>\n",
              "      <td>421</td>\n",
              "      <td>353</td>\n",
              "      <td>364</td>\n",
              "      <td>376</td>\n",
              "      <td>390</td>\n",
              "      <td>444</td>\n",
              "      <td>487</td>\n",
              "      <td>442</td>\n",
              "      <td>210</td>\n",
              "      <td>207</td>\n",
              "      <td>283</td>\n",
              "      <td>237</td>\n",
              "      <td>216</td>\n",
              "      <td>187</td>\n",
              "      <td>182</td>\n",
              "      <td>218</td>\n",
              "      <td>239</td>\n",
              "      <td>247</td>\n",
              "      <td>256</td>\n",
              "      <td>223</td>\n",
              "      <td>175</td>\n",
              "      <td>161</td>\n",
              "      <td>200</td>\n",
              "      <td>195</td>\n",
              "      <td>...</td>\n",
              "      <td>41</td>\n",
              "      <td>48</td>\n",
              "      <td>31</td>\n",
              "      <td>32</td>\n",
              "      <td>42</td>\n",
              "      <td>38</td>\n",
              "      <td>42</td>\n",
              "      <td>34</td>\n",
              "      <td>29</td>\n",
              "      <td>16</td>\n",
              "      <td>12</td>\n",
              "      <td>17</td>\n",
              "      <td>26</td>\n",
              "      <td>19</td>\n",
              "      <td>19</td>\n",
              "      <td>13</td>\n",
              "      <td>22</td>\n",
              "      <td>15</td>\n",
              "      <td>21</td>\n",
              "      <td>12</td>\n",
              "      <td>8</td>\n",
              "      <td>298</td>\n",
              "      <td>239</td>\n",
              "      <td>340</td>\n",
              "      <td>338</td>\n",
              "      <td>403</td>\n",
              "      <td>405</td>\n",
              "      <td>406</td>\n",
              "      <td>422</td>\n",
              "      <td>428</td>\n",
              "      <td>474</td>\n",
              "      <td>395</td>\n",
              "      <td>361</td>\n",
              "      <td>1</td>\n",
              "      <td>1</td>\n",
              "      <td>1</td>\n",
              "      <td>1</td>\n",
              "      <td>1</td>\n",
              "      <td>1</td>\n",
              "      <td>2</td>\n",
              "    </tr>\n",
              "  </tbody>\n",
              "</table>\n",
              "<p>2 rows × 210 columns</p>\n",
              "</div>"
            ],
            "text/plain": [
              "       0     1     2     3     4     5    ...  204  205  206  207  208  209\n",
              "월        1     2     3     4     5     6  ...    3    6    7    8    9   10\n",
              "사고건수  1532  1201  1453  1604  1516  1364  ...    1    1    1    1    1    2\n",
              "\n",
              "[2 rows x 210 columns]"
            ]
          },
          "metadata": {
            "tags": []
          },
          "execution_count": 54
        }
      ]
    },
    {
      "cell_type": "code",
      "metadata": {
        "colab": {
          "base_uri": "https://localhost:8080/",
          "height": 204
        },
        "id": "Ri20feLT8DUD",
        "outputId": "61f27e90-a6c7-4002-c9a0-87bedb3b706f"
      },
      "source": [
        "# 월 기준으로 정렬\r\n",
        "month=month.sort_values(by = ['월','사고건수'])\r\n",
        "month.head()"
      ],
      "execution_count": 60,
      "outputs": [
        {
          "output_type": "execute_result",
          "data": {
            "text/html": [
              "<div>\n",
              "<style scoped>\n",
              "    .dataframe tbody tr th:only-of-type {\n",
              "        vertical-align: middle;\n",
              "    }\n",
              "\n",
              "    .dataframe tbody tr th {\n",
              "        vertical-align: top;\n",
              "    }\n",
              "\n",
              "    .dataframe thead th {\n",
              "        text-align: right;\n",
              "    }\n",
              "</style>\n",
              "<table border=\"1\" class=\"dataframe\">\n",
              "  <thead>\n",
              "    <tr style=\"text-align: right;\">\n",
              "      <th></th>\n",
              "      <th>월</th>\n",
              "      <th>사고건수</th>\n",
              "    </tr>\n",
              "  </thead>\n",
              "  <tbody>\n",
              "    <tr>\n",
              "      <th>156</th>\n",
              "      <td>1</td>\n",
              "      <td>3</td>\n",
              "    </tr>\n",
              "    <tr>\n",
              "      <th>132</th>\n",
              "      <td>1</td>\n",
              "      <td>16</td>\n",
              "    </tr>\n",
              "    <tr>\n",
              "      <th>179</th>\n",
              "      <td>1</td>\n",
              "      <td>16</td>\n",
              "    </tr>\n",
              "    <tr>\n",
              "      <th>167</th>\n",
              "      <td>1</td>\n",
              "      <td>33</td>\n",
              "    </tr>\n",
              "    <tr>\n",
              "      <th>120</th>\n",
              "      <td>1</td>\n",
              "      <td>35</td>\n",
              "    </tr>\n",
              "  </tbody>\n",
              "</table>\n",
              "</div>"
            ],
            "text/plain": [
              "     월  사고건수\n",
              "156  1     3\n",
              "132  1    16\n",
              "179  1    16\n",
              "167  1    33\n",
              "120  1    35"
            ]
          },
          "metadata": {
            "tags": []
          },
          "execution_count": 60
        }
      ]
    },
    {
      "cell_type": "code",
      "metadata": {
        "id": "k-mqBSel-4GE"
      },
      "source": [
        ""
      ],
      "execution_count": null,
      "outputs": []
    }
  ]
}