{
  "nbformat": 4,
  "nbformat_minor": 0,
  "metadata": {
    "colab": {
      "name": "자전거 수요예측3.ipynb",
      "provenance": [],
      "collapsed_sections": [],
      "authorship_tag": "ABX9TyMc0LIvDpEBQcaG28xk0tP0"
    },
    "kernelspec": {
      "display_name": "Python 3",
      "name": "python3"
    }
  },
  "cells": [
    {
      "cell_type": "markdown",
      "metadata": {
        "id": "Z7j40LiMPX9G"
      },
      "source": [
        "# 환경설정"
      ]
    },
    {
      "cell_type": "code",
      "metadata": {
        "id": "-0QpA0tkN2DX"
      },
      "source": [
        "import pandas as pd\r\n",
        "import numpy as np\r\n",
        "\r\n",
        "import matplotlib as mpl\r\n",
        "import matplotlib.pyplot as plt\r\n",
        "import seaborn as sns\r\n",
        "\r\n",
        "# 노트북 안에 그래프를 그리기 위해 필요\r\n",
        "%matplotlib inline\r\n",
        "\r\n",
        "# 그래프에서 격자로 숫자 범위가 눈에 잘 띄도록 ggplot 스타일을 사용\r\n",
        "plt.style.use('ggplot')\r\n",
        "\r\n",
        "# 그래프에서 마이너스 폰트 깨지는 문제에 대한 대처\r\n",
        "mpl.rcParams['axes.unicode_minus'] = False\r\n",
        "\r\n",
        "import warnings\r\n",
        "warnings.filterwarnings('ignore')"
      ],
      "execution_count": null,
      "outputs": []
    },
    {
      "cell_type": "code",
      "metadata": {
        "colab": {
          "base_uri": "https://localhost:8080/"
        },
        "id": "bFYwb9v9N8fy",
        "outputId": "7b72f6c0-015e-473f-eb39-1b616e6739c0"
      },
      "source": [
        "#구글 드라이브 연동\r\n",
        "from google.colab import drive\r\n",
        "drive.mount('/content/drive')"
      ],
      "execution_count": null,
      "outputs": [
        {
          "output_type": "stream",
          "text": [
            "Mounted at /content/drive\n"
          ],
          "name": "stdout"
        }
      ]
    },
    {
      "cell_type": "markdown",
      "metadata": {
        "id": "RN4a6QnGPawZ"
      },
      "source": [
        "# 데이터 로드"
      ]
    },
    {
      "cell_type": "code",
      "metadata": {
        "colab": {
          "base_uri": "https://localhost:8080/"
        },
        "id": "uE3Ho07RN_Uu",
        "outputId": "44191f14-b37f-4e52-a286-d3e1359b3ef0"
      },
      "source": [
        "train = pd.read_csv('/content/drive/MyDrive/Colab Notebooks/DATA/자전거 수요예측/train.csv', parse_dates=[\"datetime\"])\r\n",
        "train.shape"
      ],
      "execution_count": null,
      "outputs": [
        {
          "output_type": "execute_result",
          "data": {
            "text/plain": [
              "(10886, 12)"
            ]
          },
          "metadata": {
            "tags": []
          },
          "execution_count": 3
        }
      ]
    },
    {
      "cell_type": "code",
      "metadata": {
        "colab": {
          "base_uri": "https://localhost:8080/"
        },
        "id": "2NGD_u-mOQZo",
        "outputId": "cb60a0ec-57d4-478a-a9fb-647d3dc0e6cc"
      },
      "source": [
        "test = pd.read_csv('/content/drive/MyDrive/Colab Notebooks/DATA/자전거 수요예측/test.csv', parse_dates=[\"datetime\"])\r\n",
        "test.shape"
      ],
      "execution_count": null,
      "outputs": [
        {
          "output_type": "execute_result",
          "data": {
            "text/plain": [
              "(6493, 9)"
            ]
          },
          "metadata": {
            "tags": []
          },
          "execution_count": 4
        }
      ]
    },
    {
      "cell_type": "code",
      "metadata": {
        "colab": {
          "base_uri": "https://localhost:8080/"
        },
        "id": "UAWBC7K4OjiK",
        "outputId": "89b68faa-7e06-4b90-b9f3-c579537399a2"
      },
      "source": [
        "# 데이터 정리 1\r\n",
        "train[\"year\"] = train[\"datetime\"].dt.year\r\n",
        "train[\"month\"] = train[\"datetime\"].dt.month\r\n",
        "train[\"hour\"] = train[\"datetime\"].dt.hour\r\n",
        "train[\"dayofweek\"] = train[\"datetime\"].dt.dayofweek\r\n",
        "train.shape"
      ],
      "execution_count": null,
      "outputs": [
        {
          "output_type": "execute_result",
          "data": {
            "text/plain": [
              "(10886, 16)"
            ]
          },
          "metadata": {
            "tags": []
          },
          "execution_count": 5
        }
      ]
    },
    {
      "cell_type": "code",
      "metadata": {
        "colab": {
          "base_uri": "https://localhost:8080/"
        },
        "id": "BWe1OX5DOnFh",
        "outputId": "704bd59b-ad51-406c-d5d6-ab251a949ff3"
      },
      "source": [
        "# 데이터 정리 2\r\n",
        "test[\"year\"] = test[\"datetime\"].dt.year\r\n",
        "test[\"month\"] = test[\"datetime\"].dt.month\r\n",
        "test[\"hour\"] = test[\"datetime\"].dt.hour\r\n",
        "test[\"dayofweek\"] = test[\"datetime\"].dt.dayofweek\r\n",
        "test.shape"
      ],
      "execution_count": null,
      "outputs": [
        {
          "output_type": "execute_result",
          "data": {
            "text/plain": [
              "(6493, 13)"
            ]
          },
          "metadata": {
            "tags": []
          },
          "execution_count": 6
        }
      ]
    },
    {
      "cell_type": "code",
      "metadata": {
        "id": "86rdeCN-OsTs"
      },
      "source": [
        "# 연속형 feature와 범주형 feature, 범주형 feature의 type을 category로 변경.\r\n",
        "categorical_feature_names = [\"season\", \"holiday\", \"workingday\", \"weather\", \"dayofweek\",\r\n",
        "                             \"month\", \"year\", \"hour\"]"
      ],
      "execution_count": null,
      "outputs": []
    },
    {
      "cell_type": "code",
      "metadata": {
        "id": "3uVIVo9HPztI"
      },
      "source": [
        "for var in categorical_feature_names:\r\n",
        "  train[var] = train[var].astype('category')\r\n",
        "  test[var] = test[var].astype('category')"
      ],
      "execution_count": null,
      "outputs": []
    },
    {
      "cell_type": "code",
      "metadata": {
        "colab": {
          "base_uri": "https://localhost:8080/"
        },
        "id": "A4ekQG7YO5TW",
        "outputId": "87fb8b8b-ce79-4fc2-9731-b67b04d6c1e5"
      },
      "source": [
        "feature_names = [\"season\", \"weather\", \"temp\", \"atemp\", \"humidity\", \"year\", \"hour\", \r\n",
        "                 \"dayofweek\", \"holiday\", \"workingday\"]\r\n",
        "feature_names"
      ],
      "execution_count": null,
      "outputs": [
        {
          "output_type": "execute_result",
          "data": {
            "text/plain": [
              "['season',\n",
              " 'weather',\n",
              " 'temp',\n",
              " 'atemp',\n",
              " 'humidity',\n",
              " 'year',\n",
              " 'hour',\n",
              " 'dayofweek',\n",
              " 'holiday',\n",
              " 'workingday']"
            ]
          },
          "metadata": {
            "tags": []
          },
          "execution_count": 13
        }
      ]
    },
    {
      "cell_type": "code",
      "metadata": {
        "colab": {
          "base_uri": "https://localhost:8080/",
          "height": 208
        },
        "id": "cg5qG6naPKd4",
        "outputId": "67ee46ec-5405-49cb-fcc3-cddfeb805181"
      },
      "source": [
        "# 새로운 데이터 프레임 생성\r\n",
        "X_train = train[feature_names]\r\n",
        "print(X_train.shape)\r\n",
        "X_train.head()"
      ],
      "execution_count": null,
      "outputs": [
        {
          "output_type": "stream",
          "text": [
            "(10886, 10)\n"
          ],
          "name": "stdout"
        },
        {
          "output_type": "execute_result",
          "data": {
            "text/html": [
              "<div>\n",
              "<style scoped>\n",
              "    .dataframe tbody tr th:only-of-type {\n",
              "        vertical-align: middle;\n",
              "    }\n",
              "\n",
              "    .dataframe tbody tr th {\n",
              "        vertical-align: top;\n",
              "    }\n",
              "\n",
              "    .dataframe thead th {\n",
              "        text-align: right;\n",
              "    }\n",
              "</style>\n",
              "<table border=\"1\" class=\"dataframe\">\n",
              "  <thead>\n",
              "    <tr style=\"text-align: right;\">\n",
              "      <th></th>\n",
              "      <th>season</th>\n",
              "      <th>weather</th>\n",
              "      <th>temp</th>\n",
              "      <th>atemp</th>\n",
              "      <th>humidity</th>\n",
              "      <th>year</th>\n",
              "      <th>hour</th>\n",
              "      <th>dayofweek</th>\n",
              "      <th>holiday</th>\n",
              "      <th>workingday</th>\n",
              "    </tr>\n",
              "  </thead>\n",
              "  <tbody>\n",
              "    <tr>\n",
              "      <th>0</th>\n",
              "      <td>1</td>\n",
              "      <td>1</td>\n",
              "      <td>9.84</td>\n",
              "      <td>14.395</td>\n",
              "      <td>81</td>\n",
              "      <td>2011</td>\n",
              "      <td>0</td>\n",
              "      <td>5</td>\n",
              "      <td>0</td>\n",
              "      <td>0</td>\n",
              "    </tr>\n",
              "    <tr>\n",
              "      <th>1</th>\n",
              "      <td>1</td>\n",
              "      <td>1</td>\n",
              "      <td>9.02</td>\n",
              "      <td>13.635</td>\n",
              "      <td>80</td>\n",
              "      <td>2011</td>\n",
              "      <td>1</td>\n",
              "      <td>5</td>\n",
              "      <td>0</td>\n",
              "      <td>0</td>\n",
              "    </tr>\n",
              "    <tr>\n",
              "      <th>2</th>\n",
              "      <td>1</td>\n",
              "      <td>1</td>\n",
              "      <td>9.02</td>\n",
              "      <td>13.635</td>\n",
              "      <td>80</td>\n",
              "      <td>2011</td>\n",
              "      <td>2</td>\n",
              "      <td>5</td>\n",
              "      <td>0</td>\n",
              "      <td>0</td>\n",
              "    </tr>\n",
              "    <tr>\n",
              "      <th>3</th>\n",
              "      <td>1</td>\n",
              "      <td>1</td>\n",
              "      <td>9.84</td>\n",
              "      <td>14.395</td>\n",
              "      <td>75</td>\n",
              "      <td>2011</td>\n",
              "      <td>3</td>\n",
              "      <td>5</td>\n",
              "      <td>0</td>\n",
              "      <td>0</td>\n",
              "    </tr>\n",
              "    <tr>\n",
              "      <th>4</th>\n",
              "      <td>1</td>\n",
              "      <td>1</td>\n",
              "      <td>9.84</td>\n",
              "      <td>14.395</td>\n",
              "      <td>75</td>\n",
              "      <td>2011</td>\n",
              "      <td>4</td>\n",
              "      <td>5</td>\n",
              "      <td>0</td>\n",
              "      <td>0</td>\n",
              "    </tr>\n",
              "  </tbody>\n",
              "</table>\n",
              "</div>"
            ],
            "text/plain": [
              "  season weather  temp   atemp  ...  hour dayofweek holiday workingday\n",
              "0      1       1  9.84  14.395  ...     0         5       0          0\n",
              "1      1       1  9.02  13.635  ...     1         5       0          0\n",
              "2      1       1  9.02  13.635  ...     2         5       0          0\n",
              "3      1       1  9.84  14.395  ...     3         5       0          0\n",
              "4      1       1  9.84  14.395  ...     4         5       0          0\n",
              "\n",
              "[5 rows x 10 columns]"
            ]
          },
          "metadata": {
            "tags": []
          },
          "execution_count": 14
        }
      ]
    },
    {
      "cell_type": "code",
      "metadata": {
        "colab": {
          "base_uri": "https://localhost:8080/",
          "height": 208
        },
        "id": "YE7ZZ1L_UZqW",
        "outputId": "39a02536-ff26-47ba-b579-da694d5e74ba"
      },
      "source": [
        "X_test = test[feature_names]\r\n",
        "\r\n",
        "print(X_test.shape)\r\n",
        "X_test.head()"
      ],
      "execution_count": null,
      "outputs": [
        {
          "output_type": "stream",
          "text": [
            "(6493, 10)\n"
          ],
          "name": "stdout"
        },
        {
          "output_type": "execute_result",
          "data": {
            "text/html": [
              "<div>\n",
              "<style scoped>\n",
              "    .dataframe tbody tr th:only-of-type {\n",
              "        vertical-align: middle;\n",
              "    }\n",
              "\n",
              "    .dataframe tbody tr th {\n",
              "        vertical-align: top;\n",
              "    }\n",
              "\n",
              "    .dataframe thead th {\n",
              "        text-align: right;\n",
              "    }\n",
              "</style>\n",
              "<table border=\"1\" class=\"dataframe\">\n",
              "  <thead>\n",
              "    <tr style=\"text-align: right;\">\n",
              "      <th></th>\n",
              "      <th>season</th>\n",
              "      <th>weather</th>\n",
              "      <th>temp</th>\n",
              "      <th>atemp</th>\n",
              "      <th>humidity</th>\n",
              "      <th>year</th>\n",
              "      <th>hour</th>\n",
              "      <th>dayofweek</th>\n",
              "      <th>holiday</th>\n",
              "      <th>workingday</th>\n",
              "    </tr>\n",
              "  </thead>\n",
              "  <tbody>\n",
              "    <tr>\n",
              "      <th>0</th>\n",
              "      <td>1</td>\n",
              "      <td>1</td>\n",
              "      <td>10.66</td>\n",
              "      <td>11.365</td>\n",
              "      <td>56</td>\n",
              "      <td>2011</td>\n",
              "      <td>0</td>\n",
              "      <td>3</td>\n",
              "      <td>0</td>\n",
              "      <td>1</td>\n",
              "    </tr>\n",
              "    <tr>\n",
              "      <th>1</th>\n",
              "      <td>1</td>\n",
              "      <td>1</td>\n",
              "      <td>10.66</td>\n",
              "      <td>13.635</td>\n",
              "      <td>56</td>\n",
              "      <td>2011</td>\n",
              "      <td>1</td>\n",
              "      <td>3</td>\n",
              "      <td>0</td>\n",
              "      <td>1</td>\n",
              "    </tr>\n",
              "    <tr>\n",
              "      <th>2</th>\n",
              "      <td>1</td>\n",
              "      <td>1</td>\n",
              "      <td>10.66</td>\n",
              "      <td>13.635</td>\n",
              "      <td>56</td>\n",
              "      <td>2011</td>\n",
              "      <td>2</td>\n",
              "      <td>3</td>\n",
              "      <td>0</td>\n",
              "      <td>1</td>\n",
              "    </tr>\n",
              "    <tr>\n",
              "      <th>3</th>\n",
              "      <td>1</td>\n",
              "      <td>1</td>\n",
              "      <td>10.66</td>\n",
              "      <td>12.880</td>\n",
              "      <td>56</td>\n",
              "      <td>2011</td>\n",
              "      <td>3</td>\n",
              "      <td>3</td>\n",
              "      <td>0</td>\n",
              "      <td>1</td>\n",
              "    </tr>\n",
              "    <tr>\n",
              "      <th>4</th>\n",
              "      <td>1</td>\n",
              "      <td>1</td>\n",
              "      <td>10.66</td>\n",
              "      <td>12.880</td>\n",
              "      <td>56</td>\n",
              "      <td>2011</td>\n",
              "      <td>4</td>\n",
              "      <td>3</td>\n",
              "      <td>0</td>\n",
              "      <td>1</td>\n",
              "    </tr>\n",
              "  </tbody>\n",
              "</table>\n",
              "</div>"
            ],
            "text/plain": [
              "  season weather   temp   atemp  ...  hour dayofweek holiday workingday\n",
              "0      1       1  10.66  11.365  ...     0         3       0          1\n",
              "1      1       1  10.66  13.635  ...     1         3       0          1\n",
              "2      1       1  10.66  13.635  ...     2         3       0          1\n",
              "3      1       1  10.66  12.880  ...     3         3       0          1\n",
              "4      1       1  10.66  12.880  ...     4         3       0          1\n",
              "\n",
              "[5 rows x 10 columns]"
            ]
          },
          "metadata": {
            "tags": []
          },
          "execution_count": 27
        }
      ]
    },
    {
      "cell_type": "code",
      "metadata": {
        "colab": {
          "base_uri": "https://localhost:8080/"
        },
        "id": "pEbOqxb7PQX3",
        "outputId": "4921bf82-85db-45af-cb9e-54531cfea86a"
      },
      "source": [
        "label_name = \"count\"\r\n",
        "y_train = train[label_name]\r\n",
        "print(y_train.shape)\r\n",
        "y_train.head()"
      ],
      "execution_count": null,
      "outputs": [
        {
          "output_type": "stream",
          "text": [
            "(10886,)\n"
          ],
          "name": "stdout"
        },
        {
          "output_type": "execute_result",
          "data": {
            "text/plain": [
              "0    16\n",
              "1    40\n",
              "2    32\n",
              "3    13\n",
              "4     1\n",
              "Name: count, dtype: int64"
            ]
          },
          "metadata": {
            "tags": []
          },
          "execution_count": 28
        }
      ]
    },
    {
      "cell_type": "code",
      "metadata": {
        "id": "S3ruawPvPVkT"
      },
      "source": [
        "# RMSLE 평가\r\n",
        "from sklearn.metrics import make_scorer\r\n",
        "\r\n",
        "def rmsle(predicted_values, actual_values, convertExp=True):\r\n",
        "\r\n",
        "    if convertExp:\r\n",
        "        predicted_values = np.exp(predicted_values),\r\n",
        "        actual_values = np.exp(actual_values)\r\n",
        "        \r\n",
        "    # 넘파이로 배열 형태로 바꿔준다.\r\n",
        "    predicted_values = np.array(predicted_values)\r\n",
        "    actual_values = np.array(actual_values)\r\n",
        "    \r\n",
        "    # 예측값과 실제 값에 1을 더하고 로그를 씌워준다.\r\n",
        "    # 값이 0일 수도 있어서 로그를 취했을 때 마이너스 무한대가 될 수도 있기 때문에 1을 더해 줌\r\n",
        "    # 로그를 씌워주는 것은 정규분포로 만들어주기 위해\r\n",
        "    log_predict = np.log(predicted_values + 1)\r\n",
        "    log_actual = np.log(actual_values + 1)\r\n",
        "    \r\n",
        "    # 위에서 계산한 예측값에서 실제값을 빼주고 제곱을 해준다.\r\n",
        "    difference = log_predict - log_actual\r\n",
        "    difference = np.square(difference)\r\n",
        "    \r\n",
        "    # 평균을 낸다.\r\n",
        "    mean_difference = difference.mean()\r\n",
        "    \r\n",
        "    # 다시 루트를 씌운다.\r\n",
        "    score = np.sqrt(mean_difference)\r\n",
        "    \r\n",
        "    return score"
      ],
      "execution_count": null,
      "outputs": []
    },
    {
      "cell_type": "markdown",
      "metadata": {
        "id": "Z3KcvfDeRCjf"
      },
      "source": [
        "# 선형회귀 모델\r\n",
        "* 선형회귀 또는 최소제곱법은 가장 간단하고 오래된 회귀용 선형 알고리즘.\r\n",
        "* 선형회귀는 예측과 훈련세트에 있는 타깃 y 사이의 평균제곱오차(MSE)를 최소화하는 파라미터 w와 b를 찾는다.\r\n",
        "* 매개변수가 없는 것이 장점이나 모델의 복잡도 제어 불가의 단점 존재.\r\n",
        "* 아래 위키피디아에서 가져 온 그래프에서 파란선이 선형회귀모델을 나타내고 빨간점들이 훈련데이터를 나타냄."
      ]
    },
    {
      "cell_type": "code",
      "metadata": {
        "colab": {
          "base_uri": "https://localhost:8080/"
        },
        "id": "DDma_905QWl7",
        "outputId": "09854994-eea2-49b2-c82a-2a016001fa1c"
      },
      "source": [
        "# 선형회귀를 통해 모델을 만든 후 학습시켜보기\r\n",
        "from sklearn.linear_model import LinearRegression, Ridge, Lasso\r\n",
        "from sklearn.model_selection import GridSearchCV\r\n",
        "from sklearn import metrics\r\n",
        "import warnings\r\n",
        "pd.options.mode.chained_assignment = None\r\n",
        "warnings.filterwarnings(\"ignore\", category=DeprecationWarning)\r\n",
        "\r\n",
        "# 선형회귀 모델을 초기화\r\n",
        "lModel = LinearRegression()\r\n",
        "\r\n",
        "# 모델을 학습시킨다.\r\n",
        "y_train_log = np.log1p(y_train)\r\n",
        "lModel.fit(X_train, y_train_log)\r\n",
        "\r\n",
        "# 예측하고 정확도를 평가한다.\r\n",
        "preds = lModel.predict(X_train)\r\n",
        "print (\"RMSLE Value For Linear Regression: \",\r\n",
        "       rmsle(np.exp(y_train_log),np.exp(preds), False))"
      ],
      "execution_count": null,
      "outputs": [
        {
          "output_type": "stream",
          "text": [
            "RMSLE Value For Linear Regression:  0.9803697923313521\n"
          ],
          "name": "stdout"
        }
      ]
    },
    {
      "cell_type": "markdown",
      "metadata": {
        "id": "gmFwx9YBRugP"
      },
      "source": [
        "# Regularization 모델: 릿지(Ridge)\r\n",
        "* 회귀를 위한 선형모델.\r\n",
        "* 가중치(w)의 모든 원소가 0에 가깝게 만들어 모든 피처가 주는 영향 최소화(기울기 작게 만듬).\r\n",
        "* Regularization(정규화)는 오버피팅(과대적합)되지 않도록 모델을 강제로 제한함을 의미.\r\n",
        "* max_iter(반복실행 최대 횟수)는 3000을 넣어줌."
      ]
    },
    {
      "cell_type": "code",
      "metadata": {
        "colab": {
          "base_uri": "https://localhost:8080/",
          "height": 490
        },
        "id": "1XM5d98IRs9J",
        "outputId": "a50aacb9-f76f-485b-d935-9f803dfeec8b"
      },
      "source": [
        "ridge_m_ = Ridge()\r\n",
        "ridge_params_ = { 'max_iter':[3000],'alpha':[0.01, 0.1, 1, 2, 3, 4, 10, 30,100,200,300,400,800,900,1000]}\r\n",
        "rmsle_scorer = metrics.make_scorer(rmsle, greater_is_better=False)\r\n",
        "grid_ridge_m = GridSearchCV( ridge_m_,\r\n",
        "                          ridge_params_,\r\n",
        "                          scoring = rmsle_scorer,\r\n",
        "                          cv=5)\r\n",
        "\r\n",
        "y_train_log = np.log1p(y_train)\r\n",
        "grid_ridge_m.fit( X_train, y_train_log )\r\n",
        "preds = grid_ridge_m.predict(X_train)\r\n",
        "print (grid_ridge_m.best_params_)\r\n",
        "print (\"RMSLE Value For Ridge Regression: \", rmsle(np.exp(y_train_log),np.exp(preds), False))\r\n",
        "\r\n",
        "df = pd.DataFrame(grid_ridge_m.cv_results_)\r\n",
        "df.head()"
      ],
      "execution_count": null,
      "outputs": [
        {
          "output_type": "stream",
          "text": [
            "{'alpha': 0.01, 'max_iter': 3000}\n",
            "RMSLE Value For Ridge Regression:  0.9803697902780791\n"
          ],
          "name": "stdout"
        },
        {
          "output_type": "execute_result",
          "data": {
            "text/html": [
              "<div>\n",
              "<style scoped>\n",
              "    .dataframe tbody tr th:only-of-type {\n",
              "        vertical-align: middle;\n",
              "    }\n",
              "\n",
              "    .dataframe tbody tr th {\n",
              "        vertical-align: top;\n",
              "    }\n",
              "\n",
              "    .dataframe thead th {\n",
              "        text-align: right;\n",
              "    }\n",
              "</style>\n",
              "<table border=\"1\" class=\"dataframe\">\n",
              "  <thead>\n",
              "    <tr style=\"text-align: right;\">\n",
              "      <th></th>\n",
              "      <th>mean_fit_time</th>\n",
              "      <th>std_fit_time</th>\n",
              "      <th>mean_score_time</th>\n",
              "      <th>std_score_time</th>\n",
              "      <th>param_alpha</th>\n",
              "      <th>param_max_iter</th>\n",
              "      <th>params</th>\n",
              "      <th>split0_test_score</th>\n",
              "      <th>split1_test_score</th>\n",
              "      <th>split2_test_score</th>\n",
              "      <th>split3_test_score</th>\n",
              "      <th>split4_test_score</th>\n",
              "      <th>mean_test_score</th>\n",
              "      <th>std_test_score</th>\n",
              "      <th>rank_test_score</th>\n",
              "    </tr>\n",
              "  </thead>\n",
              "  <tbody>\n",
              "    <tr>\n",
              "      <th>0</th>\n",
              "      <td>0.030166</td>\n",
              "      <td>0.039978</td>\n",
              "      <td>0.004316</td>\n",
              "      <td>0.000681</td>\n",
              "      <td>0.01</td>\n",
              "      <td>3000</td>\n",
              "      <td>{'alpha': 0.01, 'max_iter': 3000}</td>\n",
              "      <td>-1.003138</td>\n",
              "      <td>-0.906726</td>\n",
              "      <td>-1.029928</td>\n",
              "      <td>-1.016631</td>\n",
              "      <td>-0.982313</td>\n",
              "      <td>-0.987747</td>\n",
              "      <td>0.043461</td>\n",
              "      <td>1</td>\n",
              "    </tr>\n",
              "    <tr>\n",
              "      <th>1</th>\n",
              "      <td>0.011078</td>\n",
              "      <td>0.001446</td>\n",
              "      <td>0.003913</td>\n",
              "      <td>0.000130</td>\n",
              "      <td>0.1</td>\n",
              "      <td>3000</td>\n",
              "      <td>{'alpha': 0.1, 'max_iter': 3000}</td>\n",
              "      <td>-1.003140</td>\n",
              "      <td>-0.906726</td>\n",
              "      <td>-1.029928</td>\n",
              "      <td>-1.016630</td>\n",
              "      <td>-0.982315</td>\n",
              "      <td>-0.987748</td>\n",
              "      <td>0.043461</td>\n",
              "      <td>2</td>\n",
              "    </tr>\n",
              "    <tr>\n",
              "      <th>2</th>\n",
              "      <td>0.010572</td>\n",
              "      <td>0.000904</td>\n",
              "      <td>0.003924</td>\n",
              "      <td>0.000098</td>\n",
              "      <td>1</td>\n",
              "      <td>3000</td>\n",
              "      <td>{'alpha': 1, 'max_iter': 3000}</td>\n",
              "      <td>-1.003167</td>\n",
              "      <td>-0.906727</td>\n",
              "      <td>-1.029927</td>\n",
              "      <td>-1.016621</td>\n",
              "      <td>-0.982331</td>\n",
              "      <td>-0.987755</td>\n",
              "      <td>0.043461</td>\n",
              "      <td>3</td>\n",
              "    </tr>\n",
              "    <tr>\n",
              "      <th>3</th>\n",
              "      <td>0.010148</td>\n",
              "      <td>0.000179</td>\n",
              "      <td>0.003893</td>\n",
              "      <td>0.000091</td>\n",
              "      <td>2</td>\n",
              "      <td>3000</td>\n",
              "      <td>{'alpha': 2, 'max_iter': 3000}</td>\n",
              "      <td>-1.003196</td>\n",
              "      <td>-0.906728</td>\n",
              "      <td>-1.029926</td>\n",
              "      <td>-1.016612</td>\n",
              "      <td>-0.982349</td>\n",
              "      <td>-0.987762</td>\n",
              "      <td>0.043461</td>\n",
              "      <td>4</td>\n",
              "    </tr>\n",
              "    <tr>\n",
              "      <th>4</th>\n",
              "      <td>0.010026</td>\n",
              "      <td>0.000105</td>\n",
              "      <td>0.003904</td>\n",
              "      <td>0.000289</td>\n",
              "      <td>3</td>\n",
              "      <td>3000</td>\n",
              "      <td>{'alpha': 3, 'max_iter': 3000}</td>\n",
              "      <td>-1.003226</td>\n",
              "      <td>-0.906729</td>\n",
              "      <td>-1.029925</td>\n",
              "      <td>-1.016602</td>\n",
              "      <td>-0.982366</td>\n",
              "      <td>-0.987770</td>\n",
              "      <td>0.043460</td>\n",
              "      <td>5</td>\n",
              "    </tr>\n",
              "  </tbody>\n",
              "</table>\n",
              "</div>"
            ],
            "text/plain": [
              "   mean_fit_time  std_fit_time  ...  std_test_score  rank_test_score\n",
              "0       0.030166      0.039978  ...        0.043461                1\n",
              "1       0.011078      0.001446  ...        0.043461                2\n",
              "2       0.010572      0.000904  ...        0.043461                3\n",
              "3       0.010148      0.000179  ...        0.043461                4\n",
              "4       0.010026      0.000105  ...        0.043460                5\n",
              "\n",
              "[5 rows x 15 columns]"
            ]
          },
          "metadata": {
            "tags": []
          },
          "execution_count": 31
        }
      ]
    },
    {
      "cell_type": "code",
      "metadata": {
        "colab": {
          "base_uri": "https://localhost:8080/",
          "height": 191
        },
        "id": "KEEDrNWkSSF2",
        "outputId": "7a8980ec-98ee-48d0-a588-847798bf4d56"
      },
      "source": [
        "df[\"alpha\"] = df[\"params\"].apply(lambda x:x[\"alpha\"])\r\n",
        "df[\"rmsle\"] = df[\"mean_test_score\"].apply(lambda x:-x)\r\n",
        "df[[\"alpha\", \"rmsle\"]].head()"
      ],
      "execution_count": null,
      "outputs": [
        {
          "output_type": "execute_result",
          "data": {
            "text/html": [
              "<div>\n",
              "<style scoped>\n",
              "    .dataframe tbody tr th:only-of-type {\n",
              "        vertical-align: middle;\n",
              "    }\n",
              "\n",
              "    .dataframe tbody tr th {\n",
              "        vertical-align: top;\n",
              "    }\n",
              "\n",
              "    .dataframe thead th {\n",
              "        text-align: right;\n",
              "    }\n",
              "</style>\n",
              "<table border=\"1\" class=\"dataframe\">\n",
              "  <thead>\n",
              "    <tr style=\"text-align: right;\">\n",
              "      <th></th>\n",
              "      <th>alpha</th>\n",
              "      <th>rmsle</th>\n",
              "    </tr>\n",
              "  </thead>\n",
              "  <tbody>\n",
              "    <tr>\n",
              "      <th>0</th>\n",
              "      <td>0.01</td>\n",
              "      <td>0.987747</td>\n",
              "    </tr>\n",
              "    <tr>\n",
              "      <th>1</th>\n",
              "      <td>0.10</td>\n",
              "      <td>0.987748</td>\n",
              "    </tr>\n",
              "    <tr>\n",
              "      <th>2</th>\n",
              "      <td>1.00</td>\n",
              "      <td>0.987755</td>\n",
              "    </tr>\n",
              "    <tr>\n",
              "      <th>3</th>\n",
              "      <td>2.00</td>\n",
              "      <td>0.987762</td>\n",
              "    </tr>\n",
              "    <tr>\n",
              "      <th>4</th>\n",
              "      <td>3.00</td>\n",
              "      <td>0.987770</td>\n",
              "    </tr>\n",
              "  </tbody>\n",
              "</table>\n",
              "</div>"
            ],
            "text/plain": [
              "   alpha     rmsle\n",
              "0   0.01  0.987747\n",
              "1   0.10  0.987748\n",
              "2   1.00  0.987755\n",
              "3   2.00  0.987762\n",
              "4   3.00  0.987770"
            ]
          },
          "metadata": {
            "tags": []
          },
          "execution_count": 32
        }
      ]
    },
    {
      "cell_type": "code",
      "metadata": {
        "colab": {
          "base_uri": "https://localhost:8080/",
          "height": 370
        },
        "id": "utp7AnbzSUWY",
        "outputId": "30a36a1c-4b1c-4457-8081-ce7f8fd5448a"
      },
      "source": [
        "fig,ax= plt.subplots()\r\n",
        "fig.set_size_inches(12,5)\r\n",
        "plt.xticks(rotation=30, ha='right')\r\n",
        "sns.pointplot(data=df,x=\"alpha\",y=\"rmsle\",ax=ax)"
      ],
      "execution_count": null,
      "outputs": [
        {
          "output_type": "execute_result",
          "data": {
            "text/plain": [
              "<matplotlib.axes._subplots.AxesSubplot at 0x7fed2ade1d68>"
            ]
          },
          "metadata": {
            "tags": []
          },
          "execution_count": 33
        },
        {
          "output_type": "display_data",
          "data": {
            "image/png": "[encoded data removed]",
            "text/plain": [
              "<Figure size 864x360 with 1 Axes>"
            ]
          },
          "metadata": {
            "tags": []
          }
        }
      ]
    },
    {
      "cell_type": "markdown",
      "metadata": {
        "id": "6bEPjN3MSiD4"
      },
      "source": [
        "# Regularization 모델: 라쏘(Lasso)\r\n",
        "* 선형회귀의 Regularization(규제) 적용 대안.\r\n",
        "* 계수를 0에 가깝게 만들려고 하며 이를 L1규제라 하며 어떤 계수는 0이 되기도 하는데 이는 완전히 제외하는 피처가 생긴다는 의미.\r\n",
        "* 알파값의 기본값은 1.0이며 과소적합을 줄이기 위해 이 값을 줄여야 함.\r\n",
        "* 그리드 서치로 아래 라쏘모델 실행 시 베스트 알파값은 0.0025 max_iter(반복실행 최대 횟수)는 3000을 넣어줌."
      ]
    },
    {
      "cell_type": "code",
      "metadata": {
        "colab": {
          "base_uri": "https://localhost:8080/",
          "height": 226
        },
        "id": "Jhad47edSVfw",
        "outputId": "42334620-4531-4d49-8fd8-c533bcbb6cc8"
      },
      "source": [
        "lasso_m_ = Lasso()\r\n",
        "\r\n",
        "alpha  = 1/np.array([0.1, 1, 2, 3, 4, 10, 30,100,200,300,400,800,900,1000])\r\n",
        "lasso_params_ = { 'max_iter':[3000],'alpha':alpha}\r\n",
        "\r\n",
        "grid_lasso_m = GridSearchCV( lasso_m_,lasso_params_,scoring = rmsle_scorer,cv=5)\r\n",
        "y_train_log = np.log1p(y_train)\r\n",
        "grid_lasso_m.fit( X_train , y_train_log )\r\n",
        "preds = grid_lasso_m.predict(X_train)\r\n",
        "print (grid_lasso_m.best_params_)\r\n",
        "print (\"RMSLE Value For Lasso Regression: \",rmsle(np.exp(y_train_log),np.exp(preds),False))\r\n",
        "\r\n",
        "df = pd.DataFrame(grid_lasso_m.cv_results_)\r\n",
        "df[\"alpha\"] = df[\"params\"].apply(lambda x:x[\"alpha\"])\r\n",
        "df[\"rmsle\"] = df[\"mean_test_score\"].apply(lambda x:-x)\r\n",
        "\r\n",
        "df[[\"alpha\", \"rmsle\"]].head()"
      ],
      "execution_count": null,
      "outputs": [
        {
          "output_type": "stream",
          "text": [
            "{'alpha': 0.00125, 'max_iter': 3000}\n",
            "RMSLE Value For Lasso Regression:  0.9803727821457655\n"
          ],
          "name": "stdout"
        },
        {
          "output_type": "execute_result",
          "data": {
            "text/html": [
              "<div>\n",
              "<style scoped>\n",
              "    .dataframe tbody tr th:only-of-type {\n",
              "        vertical-align: middle;\n",
              "    }\n",
              "\n",
              "    .dataframe tbody tr th {\n",
              "        vertical-align: top;\n",
              "    }\n",
              "\n",
              "    .dataframe thead th {\n",
              "        text-align: right;\n",
              "    }\n",
              "</style>\n",
              "<table border=\"1\" class=\"dataframe\">\n",
              "  <thead>\n",
              "    <tr style=\"text-align: right;\">\n",
              "      <th></th>\n",
              "      <th>alpha</th>\n",
              "      <th>rmsle</th>\n",
              "    </tr>\n",
              "  </thead>\n",
              "  <tbody>\n",
              "    <tr>\n",
              "      <th>0</th>\n",
              "      <td>10.000000</td>\n",
              "      <td>1.397124</td>\n",
              "    </tr>\n",
              "    <tr>\n",
              "      <th>1</th>\n",
              "      <td>1.000000</td>\n",
              "      <td>1.071947</td>\n",
              "    </tr>\n",
              "    <tr>\n",
              "      <th>2</th>\n",
              "      <td>0.500000</td>\n",
              "      <td>1.062110</td>\n",
              "    </tr>\n",
              "    <tr>\n",
              "      <th>3</th>\n",
              "      <td>0.333333</td>\n",
              "      <td>1.060815</td>\n",
              "    </tr>\n",
              "    <tr>\n",
              "      <th>4</th>\n",
              "      <td>0.250000</td>\n",
              "      <td>1.061139</td>\n",
              "    </tr>\n",
              "  </tbody>\n",
              "</table>\n",
              "</div>"
            ],
            "text/plain": [
              "       alpha     rmsle\n",
              "0  10.000000  1.397124\n",
              "1   1.000000  1.071947\n",
              "2   0.500000  1.062110\n",
              "3   0.333333  1.060815\n",
              "4   0.250000  1.061139"
            ]
          },
          "metadata": {
            "tags": []
          },
          "execution_count": 34
        }
      ]
    },
    {
      "cell_type": "code",
      "metadata": {
        "colab": {
          "base_uri": "https://localhost:8080/",
          "height": 418
        },
        "id": "e6lAi9f9TpA0",
        "outputId": "f162a0c1-8db7-4061-f701-35ce3b42b8c1"
      },
      "source": [
        "fig,ax= plt.subplots()\r\n",
        "fig.set_size_inches(12,5)\r\n",
        "plt.xticks(rotation=30, ha='right')\r\n",
        "sns.pointplot(data=df,x=\"alpha\",y=\"rmsle\",ax=ax)"
      ],
      "execution_count": null,
      "outputs": [
        {
          "output_type": "execute_result",
          "data": {
            "text/plain": [
              "<matplotlib.axes._subplots.AxesSubplot at 0x7fed2ad18710>"
            ]
          },
          "metadata": {
            "tags": []
          },
          "execution_count": 35
        },
        {
          "output_type": "display_data",
          "data": {
            "image/png": "[encoded data removed]",
            "text/plain": [
              "<Figure size 864x360 with 1 Axes>"
            ]
          },
          "metadata": {
            "tags": []
          }
        }
      ]
    },
    {
      "cell_type": "markdown",
      "metadata": {
        "id": "jLGlOQskTrvs"
      },
      "source": [
        "# 앙상블 모델 - 랜덤포레스트"
      ]
    },
    {
      "cell_type": "code",
      "metadata": {
        "colab": {
          "base_uri": "https://localhost:8080/"
        },
        "id": "BUONDRVDTrCF",
        "outputId": "398ceeee-2c61-4219-97a0-8e48430ef11c"
      },
      "source": [
        "from sklearn.ensemble import RandomForestRegressor\r\n",
        "rfModel = RandomForestRegressor(n_estimators=100)\r\n",
        "\r\n",
        "y_train_log = np.log1p(y_train)\r\n",
        "rfModel.fit(X_train, y_train_log)\r\n",
        "\r\n",
        "preds = rfModel.predict(X_train)\r\n",
        "score = rmsle(np.exp(y_train_log),np.exp(preds),False)\r\n",
        "print (\"RMSLE Value For Random Forest: \",score)"
      ],
      "execution_count": null,
      "outputs": [
        {
          "output_type": "stream",
          "text": [
            "RMSLE Value For Random Forest:  0.10766281443817727\n"
          ],
          "name": "stdout"
        }
      ]
    },
    {
      "cell_type": "markdown",
      "metadata": {
        "id": "fXTD-dc9Tw51"
      },
      "source": [
        "# 앙상블 모델 - 그라디언트 부스트"
      ]
    },
    {
      "cell_type": "code",
      "metadata": {
        "colab": {
          "background_save": true
        },
        "id": "xx4nch6VTvMV",
        "outputId": "55d63960-63d8-4e85-b31b-51f08db9661b"
      },
      "source": [
        "from sklearn.ensemble import GradientBoostingRegressor\r\n",
        "gbm = GradientBoostingRegressor(n_estimators=4000, alpha=0.01);\r\n",
        "\r\n",
        "y_train_log = np.log1p(y_train)\r\n",
        "gbm.fit(X_train, y_train_log)\r\n",
        "\r\n",
        "preds = gbm.predict(X_train)\r\n",
        "score = rmsle(np.exp(y_train_log),np.exp(preds),False)\r\n",
        "print (\"RMSLE Value For Gradient Boost: \", score)"
      ],
      "execution_count": null,
      "outputs": [
        {
          "output_type": "stream",
          "text": [
            "RMSLE Value For Gradient Boost:  0.2135740372724937\n"
          ],
          "name": "stdout"
        }
      ]
    },
    {
      "cell_type": "code",
      "metadata": {
        "colab": {
          "background_save": true
        },
        "id": "Aw0T5B2WT1xk",
        "outputId": "a5afc9fd-3c1a-45b8-95ff-c75fba08cac1"
      },
      "source": [
        "predsTest = gbm.predict(X_test)\r\n",
        "fig,(ax1,ax2)= plt.subplots(ncols=2)\r\n",
        "fig.set_size_inches(12,5)\r\n",
        "sns.distplot(y_train,ax=ax1,bins=50)\r\n",
        "sns.distplot(np.exp(predsTest),ax=ax2,bins=50)"
      ],
      "execution_count": null,
      "outputs": [
        {
          "output_type": "execute_result",
          "data": {
            "text/plain": [
              "<matplotlib.axes._subplots.AxesSubplot at 0x7fed2ae7f940>"
            ]
          },
          "metadata": {
            "tags": []
          },
          "execution_count": 0
        },
        {
          "output_type": "display_data",
          "data": {
            "image/png": "[encoded data removed]",
            "text/plain": [
              "<Figure size 864x360 with 2 Axes>"
            ]
          },
          "metadata": {
            "tags": []
          }
        }
      ]
    },
    {
      "cell_type": "markdown",
      "metadata": {
        "id": "TR9c0qBGT4TM"
      },
      "source": [
        "# 결과"
      ]
    },
    {
      "cell_type": "code",
      "metadata": {
        "id": "NJeOh4VzT5PD",
        "colab": {
          "base_uri": "https://localhost:8080/",
          "height": 208
        },
        "outputId": "20d7c139-6438-4cad-b940-ea4f6c1a8a1f"
      },
      "source": [
        "submission = pd.read_csv('/content/drive/MyDrive/Colab Notebooks/DATA/자전거 수요예측/sampleSubmission.csv')\r\n",
        "submission\r\n",
        "\r\n",
        "submission[\"count\"] = np.exp(predsTest)\r\n",
        "\r\n",
        "print(submission.shape)\r\n",
        "submission.head()"
      ],
      "execution_count": 40,
      "outputs": [
        {
          "output_type": "stream",
          "text": [
            "(6493, 2)\n"
          ],
          "name": "stdout"
        },
        {
          "output_type": "execute_result",
          "data": {
            "text/html": [
              "<div>\n",
              "<style scoped>\n",
              "    .dataframe tbody tr th:only-of-type {\n",
              "        vertical-align: middle;\n",
              "    }\n",
              "\n",
              "    .dataframe tbody tr th {\n",
              "        vertical-align: top;\n",
              "    }\n",
              "\n",
              "    .dataframe thead th {\n",
              "        text-align: right;\n",
              "    }\n",
              "</style>\n",
              "<table border=\"1\" class=\"dataframe\">\n",
              "  <thead>\n",
              "    <tr style=\"text-align: right;\">\n",
              "      <th></th>\n",
              "      <th>datetime</th>\n",
              "      <th>count</th>\n",
              "    </tr>\n",
              "  </thead>\n",
              "  <tbody>\n",
              "    <tr>\n",
              "      <th>0</th>\n",
              "      <td>2011-01-20 00:00:00</td>\n",
              "      <td>11.227543</td>\n",
              "    </tr>\n",
              "    <tr>\n",
              "      <th>1</th>\n",
              "      <td>2011-01-20 01:00:00</td>\n",
              "      <td>6.296610</td>\n",
              "    </tr>\n",
              "    <tr>\n",
              "      <th>2</th>\n",
              "      <td>2011-01-20 02:00:00</td>\n",
              "      <td>4.259238</td>\n",
              "    </tr>\n",
              "    <tr>\n",
              "      <th>3</th>\n",
              "      <td>2011-01-20 03:00:00</td>\n",
              "      <td>2.666615</td>\n",
              "    </tr>\n",
              "    <tr>\n",
              "      <th>4</th>\n",
              "      <td>2011-01-20 04:00:00</td>\n",
              "      <td>2.295918</td>\n",
              "    </tr>\n",
              "  </tbody>\n",
              "</table>\n",
              "</div>"
            ],
            "text/plain": [
              "              datetime      count\n",
              "0  2011-01-20 00:00:00  11.227543\n",
              "1  2011-01-20 01:00:00   6.296610\n",
              "2  2011-01-20 02:00:00   4.259238\n",
              "3  2011-01-20 03:00:00   2.666615\n",
              "4  2011-01-20 04:00:00   2.295918"
            ]
          },
          "metadata": {
            "tags": []
          },
          "execution_count": 40
        }
      ]
    },
    {
      "cell_type": "code",
      "metadata": {
        "id": "a7RW5uQ5c9eR"
      },
      "source": [
        ""
      ],
      "execution_count": null,
      "outputs": []
    }
  ]
}