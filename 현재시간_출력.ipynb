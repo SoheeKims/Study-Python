{
  "nbformat": 4,
  "nbformat_minor": 0,
  "metadata": {
    "colab": {
      "name": "현재시간 출력.ipynb",
      "provenance": [],
      "collapsed_sections": [],
      "authorship_tag": "ABX9TyPXxsJFpqPfIH+RibUKCR2e"
    },
    "kernelspec": {
      "name": "python3",
      "display_name": "Python 3"
    }
  },
  "cells": [
    {
      "cell_type": "code",
      "metadata": {
        "id": "GZ7PIrYCfo1j"
      },
      "source": [
        "# 웹 크롤링 필요 모듈\r\n",
        "import datetime\r\n",
        "import urllib.request\r\n",
        "import time # 현재시간을 얻기 위한 모듈(라이브러리)"
      ],
      "execution_count": 29,
      "outputs": []
    },
    {
      "cell_type": "code",
      "metadata": {
        "id": "fEJ5TrZVVOS6"
      },
      "source": [
        "# UTC 시간\r\n",
        "utc_time= datetime.datetime.utcnow()\r\n",
        "# 현재 로컬 시간\r\n",
        "time_gap= datetime.timedelta(hours=9)\r\n",
        "kor_time= utc_time+ time_gap\r\n",
        "\r\n",
        "# 시간까지 나타내려면 datetime.datetime\r\n",
        "# 날짜까지만 나타내려면 datetime.date\r\n",
        "# 파이썬에서 시간차이를 계산 안하면 미국시간으로 출력된다!"
      ],
      "execution_count": 30,
      "outputs": []
    },
    {
      "cell_type": "code",
      "metadata": {
        "id": "QcU4fyqhZf9R",
        "colab": {
          "base_uri": "https://localhost:8080/"
        },
        "outputId": "2aeafef6-630c-45fd-c13e-4340fab8088a"
      },
      "source": [
        "# 현재시간 출력\r\n",
        "nowDate = kor_time.strftime('%Y년 %m월 %d일 %H시 %M분 입니다.')\r\n",
        "print(nowDate)"
      ],
      "execution_count": 31,
      "outputs": [
        {
          "output_type": "stream",
          "text": [
            "2021년 02월 01일 18시 52분 입니다.\n"
          ],
          "name": "stdout"
        }
      ]
    },
    {
      "cell_type": "code",
      "metadata": {
        "id": "STeQ-O2j9Z5c"
      },
      "source": [
        ""
      ],
      "execution_count": null,
      "outputs": []
    }
  ]
}