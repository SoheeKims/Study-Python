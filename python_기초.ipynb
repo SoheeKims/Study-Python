{
  "nbformat": 4,
  "nbformat_minor": 0,
  "metadata": {
    "colab": {
      "name": "python 기초.ipynb",
      "provenance": [],
      "collapsed_sections": [],
      "authorship_tag": "ABX9TyMt/Jo/5NuO3eYaZlRT0AbU"
    },
    "kernelspec": {
      "name": "python3",
      "display_name": "Python 3"
    }
  },
  "cells": [
    {
      "cell_type": "markdown",
      "metadata": {
        "id": "jTsmGdKpVg3e"
      },
      "source": [
        "## Zen of Python\r\n",
        "* 파이썬의 철학이 잘 담긴 Zen of Python 출력.\r\n",
        "* import를 통해 파이썬의 라이브러리나 패키지 가져올 수 있음."
      ]
    },
    {
      "cell_type": "code",
      "metadata": {
        "colab": {
          "base_uri": "https://localhost:8080/"
        },
        "id": "xBkY31EmV2ZY",
        "outputId": "75ee3ccf-d970-4bc1-db6d-9972a4a472a1"
      },
      "source": [
        "import this"
      ],
      "execution_count": 1,
      "outputs": [
        {
          "output_type": "stream",
          "text": [
            "The Zen of Python, by Tim Peters\n",
            "\n",
            "Beautiful is better than ugly.\n",
            "Explicit is better than implicit.\n",
            "Simple is better than complex.\n",
            "Complex is better than complicated.\n",
            "Flat is better than nested.\n",
            "Sparse is better than dense.\n",
            "Readability counts.\n",
            "Special cases aren't special enough to break the rules.\n",
            "Although practicality beats purity.\n",
            "Errors should never pass silently.\n",
            "Unless explicitly silenced.\n",
            "In the face of ambiguity, refuse the temptation to guess.\n",
            "There should be one-- and preferably only one --obvious way to do it.\n",
            "Although that way may not be obvious at first unless you're Dutch.\n",
            "Now is better than never.\n",
            "Although never is often better than *right* now.\n",
            "If the implementation is hard to explain, it's a bad idea.\n",
            "If the implementation is easy to explain, it may be a good idea.\n",
            "Namespaces are one honking great idea -- let's do more of those!\n"
          ],
          "name": "stdout"
        }
      ]
    },
    {
      "cell_type": "markdown",
      "metadata": {
        "id": "OonWsdn2V-Vy"
      },
      "source": [
        "## boolean\r\n",
        "* 파이썬에는 명시적인 것이 암시적인 것보다 낫다라는 철학이 존재.\r\n",
        "* True나 False는 0과 1로도 표현 가능하나 명시적 표현을 위해 True와 False를 사용."
      ]
    },
    {
      "cell_type": "code",
      "metadata": {
        "colab": {
          "base_uri": "https://localhost:8080/"
        },
        "id": "mnvCI0IfV6T0",
        "outputId": "5d37fa2b-109c-47f5-d437-cf5e9e7a01f0"
      },
      "source": [
        "# True 출력\r\n",
        "True"
      ],
      "execution_count": 2,
      "outputs": [
        {
          "output_type": "execute_result",
          "data": {
            "text/plain": [
              "True"
            ]
          },
          "metadata": {
            "tags": []
          },
          "execution_count": 2
        }
      ]
    },
    {
      "cell_type": "code",
      "metadata": {
        "colab": {
          "base_uri": "https://localhost:8080/"
        },
        "id": "Z-Ggcc4VWO-L",
        "outputId": "8545a88a-e966-468c-a077-93cd03e9b7c8"
      },
      "source": [
        "# False 출력\r\n",
        "False"
      ],
      "execution_count": 3,
      "outputs": [
        {
          "output_type": "execute_result",
          "data": {
            "text/plain": [
              "False"
            ]
          },
          "metadata": {
            "tags": []
          },
          "execution_count": 3
        }
      ]
    },
    {
      "cell_type": "code",
      "metadata": {
        "colab": {
          "base_uri": "https://localhost:8080/"
        },
        "id": "h3gh7shNWRNb",
        "outputId": "7ad82918-bc93-46c7-e8ab-4f97b9e03691"
      },
      "source": [
        "# True는 1과 같음을 표현.\r\n",
        "# 파이썬에서는 같음을 비교 시 == 연산 사용\r\n",
        "# == : 비교연산 / = : 할당연산\r\n",
        "True == 1"
      ],
      "execution_count": 4,
      "outputs": [
        {
          "output_type": "execute_result",
          "data": {
            "text/plain": [
              "True"
            ]
          },
          "metadata": {
            "tags": []
          },
          "execution_count": 4
        }
      ]
    },
    {
      "cell_type": "code",
      "metadata": {
        "colab": {
          "base_uri": "https://localhost:8080/"
        },
        "id": "XRgyYc2oWYPt",
        "outputId": "3a5f5eb8-1c3b-43ca-ddd3-aac03ed84ac0"
      },
      "source": [
        "# False는 0과 같음을 표현.\r\n",
        "False == 0"
      ],
      "execution_count": 5,
      "outputs": [
        {
          "output_type": "execute_result",
          "data": {
            "text/plain": [
              "True"
            ]
          },
          "metadata": {
            "tags": []
          },
          "execution_count": 5
        }
      ]
    },
    {
      "cell_type": "code",
      "metadata": {
        "colab": {
          "base_uri": "https://localhost:8080/"
        },
        "id": "2zgiAKIYWcN2",
        "outputId": "8da27993-9147-4122-e147-a4849521be5c"
      },
      "source": [
        "# 하지만 True는 문자 1과는 다름.\r\n",
        "# 1을 따옴표로 감싸면 문자열이 됨.\r\n",
        "True == \"1\""
      ],
      "execution_count": 6,
      "outputs": [
        {
          "output_type": "execute_result",
          "data": {
            "text/plain": [
              "False"
            ]
          },
          "metadata": {
            "tags": []
          },
          "execution_count": 6
        }
      ]
    },
    {
      "cell_type": "code",
      "metadata": {
        "colab": {
          "base_uri": "https://localhost:8080/"
        },
        "id": "PG8aVRV-Wsu6",
        "outputId": "724a0cdd-dfbe-4387-bbc5-a0eb21dfc5b8"
      },
      "source": [
        "#  문자열 1과 True는 다름\r\n",
        "True != \"1\""
      ],
      "execution_count": 7,
      "outputs": [
        {
          "output_type": "execute_result",
          "data": {
            "text/plain": [
              "True"
            ]
          },
          "metadata": {
            "tags": []
          },
          "execution_count": 7
        }
      ]
    },
    {
      "cell_type": "code",
      "metadata": {
        "colab": {
          "base_uri": "https://localhost:8080/"
        },
        "id": "ycK0T1kDWyk9",
        "outputId": "d2ff594f-a0f1-4f38-8388-a655a283c211"
      },
      "source": [
        "# False도 마찬가지\r\n",
        "False == \"0\""
      ],
      "execution_count": 8,
      "outputs": [
        {
          "output_type": "execute_result",
          "data": {
            "text/plain": [
              "False"
            ]
          },
          "metadata": {
            "tags": []
          },
          "execution_count": 8
        }
      ]
    },
    {
      "cell_type": "code",
      "metadata": {
        "colab": {
          "base_uri": "https://localhost:8080/"
        },
        "id": "mbZMRpYhW6UV",
        "outputId": "9605f9cd-99a7-4aaf-d298-0d2ab144472b"
      },
      "source": [
        "# False는 문자열 0과 다름.\r\n",
        "False != \"0\""
      ],
      "execution_count": 10,
      "outputs": [
        {
          "output_type": "execute_result",
          "data": {
            "text/plain": [
              "True"
            ]
          },
          "metadata": {
            "tags": []
          },
          "execution_count": 10
        }
      ]
    },
    {
      "cell_type": "code",
      "metadata": {
        "colab": {
          "base_uri": "https://localhost:8080/"
        },
        "id": "EMwyCNpaW_-w",
        "outputId": "28c00f95-bdd4-4e05-f862-da0d2f138f89"
      },
      "source": [
        "# and 연산으로 True 값 끼리 비교\r\n",
        "# and는 모든 값이 True일때만 True.\r\n",
        "True and True"
      ],
      "execution_count": 11,
      "outputs": [
        {
          "output_type": "execute_result",
          "data": {
            "text/plain": [
              "True"
            ]
          },
          "metadata": {
            "tags": []
          },
          "execution_count": 11
        }
      ]
    },
    {
      "cell_type": "code",
      "metadata": {
        "colab": {
          "base_uri": "https://localhost:8080/"
        },
        "id": "aaiJN0etXWRa",
        "outputId": "24f32ee3-ca77-4459-c3ba-6a7831af2055"
      },
      "source": [
        "# and는 조건 중 하나라도 False라면 False\r\n",
        "True and False"
      ],
      "execution_count": 12,
      "outputs": [
        {
          "output_type": "execute_result",
          "data": {
            "text/plain": [
              "False"
            ]
          },
          "metadata": {
            "tags": []
          },
          "execution_count": 12
        }
      ]
    },
    {
      "cell_type": "code",
      "metadata": {
        "colab": {
          "base_uri": "https://localhost:8080/"
        },
        "id": "re8UvdopXagz",
        "outputId": "8663d60a-d3b4-44bc-85c5-5ae77001fc3c"
      },
      "source": [
        "# or는 하나만 True라도 True\r\n",
        "True or False"
      ],
      "execution_count": 13,
      "outputs": [
        {
          "output_type": "execute_result",
          "data": {
            "text/plain": [
              "True"
            ]
          },
          "metadata": {
            "tags": []
          },
          "execution_count": 13
        }
      ]
    },
    {
      "cell_type": "markdown",
      "metadata": {
        "id": "fWuwLvwWXm1k"
      },
      "source": [
        "## Number and String\r\n",
        "* 숫자 1과 문자 \"1\"은 다름.\r\n",
        "* 데이터 타입 표현 시 type을 통해 데이터 출력"
      ]
    },
    {
      "cell_type": "code",
      "metadata": {
        "colab": {
          "base_uri": "https://localhost:8080/"
        },
        "id": "_0YIflR2XltN",
        "outputId": "31818c72-ae2d-4c93-8155-613ebce2754b"
      },
      "source": [
        "# 숫자 1 출력\r\n",
        "1"
      ],
      "execution_count": 14,
      "outputs": [
        {
          "output_type": "execute_result",
          "data": {
            "text/plain": [
              "1"
            ]
          },
          "metadata": {
            "tags": []
          },
          "execution_count": 14
        }
      ]
    },
    {
      "cell_type": "code",
      "metadata": {
        "colab": {
          "base_uri": "https://localhost:8080/",
          "height": 35
        },
        "id": "7lhJ0P8fX1CO",
        "outputId": "08612a79-8438-4721-a1f9-a9b748354caf"
      },
      "source": [
        "# 문자 1 출력\r\n",
        "\"1\""
      ],
      "execution_count": 15,
      "outputs": [
        {
          "output_type": "execute_result",
          "data": {
            "application/vnd.google.colaboratory.intrinsic+json": {
              "type": "string"
            },
            "text/plain": [
              "'1'"
            ]
          },
          "metadata": {
            "tags": []
          },
          "execution_count": 15
        }
      ]
    },
    {
      "cell_type": "code",
      "metadata": {
        "colab": {
          "base_uri": "https://localhost:8080/"
        },
        "id": "m3DpTy9pX2kt",
        "outputId": "90a96d87-3686-4745-bc34-313fbc0f687b"
      },
      "source": [
        "# 숫자 1의 데이터 타입 출력\r\n",
        "type(1)"
      ],
      "execution_count": 16,
      "outputs": [
        {
          "output_type": "execute_result",
          "data": {
            "text/plain": [
              "int"
            ]
          },
          "metadata": {
            "tags": []
          },
          "execution_count": 16
        }
      ]
    },
    {
      "cell_type": "code",
      "metadata": {
        "colab": {
          "base_uri": "https://localhost:8080/"
        },
        "id": "g-7pyAxXX8JE",
        "outputId": "41dd74bb-a29b-4c90-ac4d-23b5ff644d80"
      },
      "source": [
        "# 문자 1의 데이터 타입 출력\r\n",
        "type(\"1\")"
      ],
      "execution_count": 17,
      "outputs": [
        {
          "output_type": "execute_result",
          "data": {
            "text/plain": [
              "str"
            ]
          },
          "metadata": {
            "tags": []
          },
          "execution_count": 17
        }
      ]
    },
    {
      "cell_type": "code",
      "metadata": {
        "colab": {
          "base_uri": "https://localhost:8080/"
        },
        "id": "htuBmW2TX8OI",
        "outputId": "29444976-1de2-40a4-d46d-be975fdcddf8"
      },
      "source": [
        "# 문자 1과 숫자 1을 비교\r\n",
        "1 == \"1\""
      ],
      "execution_count": 18,
      "outputs": [
        {
          "output_type": "execute_result",
          "data": {
            "text/plain": [
              "False"
            ]
          },
          "metadata": {
            "tags": []
          },
          "execution_count": 18
        }
      ]
    },
    {
      "cell_type": "markdown",
      "metadata": {
        "id": "B-WARHBYYIY-"
      },
      "source": [
        "## Strings and Lists"
      ]
    },
    {
      "cell_type": "code",
      "metadata": {
        "colab": {
          "base_uri": "https://localhost:8080/",
          "height": 35
        },
        "id": "d_Mmu0kNYHdC",
        "outputId": "86bd95d6-fc3c-4052-f271-f7c928781a15"
      },
      "source": [
        "# \"Hello World!\"를 출력\r\n",
        "\"Hello World!\""
      ],
      "execution_count": 19,
      "outputs": [
        {
          "output_type": "execute_result",
          "data": {
            "application/vnd.google.colaboratory.intrinsic+json": {
              "type": "string"
            },
            "text/plain": [
              "'Hello World!'"
            ]
          },
          "metadata": {
            "tags": []
          },
          "execution_count": 19
        }
      ]
    },
    {
      "cell_type": "code",
      "metadata": {
        "colab": {
          "base_uri": "https://localhost:8080/",
          "height": 35
        },
        "id": "3lFc9ZI4YSFP",
        "outputId": "7a83c162-3fac-4048-8af1-7eecd46d2d7b"
      },
      "source": [
        "# 주소 \"경기도 성남시 분당구\"를 출력\r\n",
        "\"경기도 성남시 분당구\""
      ],
      "execution_count": 20,
      "outputs": [
        {
          "output_type": "execute_result",
          "data": {
            "application/vnd.google.colaboratory.intrinsic+json": {
              "type": "string"
            },
            "text/plain": [
              "'경기도 성남시 분당구'"
            ]
          },
          "metadata": {
            "tags": []
          },
          "execution_count": 20
        }
      ]
    },
    {
      "cell_type": "markdown",
      "metadata": {
        "id": "N0RcLpKSYiGp"
      },
      "source": [
        "# strings"
      ]
    },
    {
      "cell_type": "code",
      "metadata": {
        "colab": {
          "base_uri": "https://localhost:8080/",
          "height": 35
        },
        "id": "Bb6O6S9LYgd2",
        "outputId": "94d99854-179a-44b2-db3a-651dfeff9441"
      },
      "source": [
        "# til 이라는 변수에 문자열 담기\r\n",
        "til = \"Today I Learned\"\r\n",
        "til"
      ],
      "execution_count": 22,
      "outputs": [
        {
          "output_type": "execute_result",
          "data": {
            "application/vnd.google.colaboratory.intrinsic+json": {
              "type": "string"
            },
            "text/plain": [
              "'Today I Learned'"
            ]
          },
          "metadata": {
            "tags": []
          },
          "execution_count": 22
        }
      ]
    },
    {
      "cell_type": "code",
      "metadata": {
        "colab": {
          "base_uri": "https://localhost:8080/",
          "height": 35
        },
        "id": "MJ69x2Q6YrBP",
        "outputId": "3f639ee5-a291-40bf-ac9e-0b33b8efb104"
      },
      "source": [
        "# 모두 소문자로 만들기\r\n",
        "til.lower()"
      ],
      "execution_count": 23,
      "outputs": [
        {
          "output_type": "execute_result",
          "data": {
            "application/vnd.google.colaboratory.intrinsic+json": {
              "type": "string"
            },
            "text/plain": [
              "'today i learned'"
            ]
          },
          "metadata": {
            "tags": []
          },
          "execution_count": 23
        }
      ]
    },
    {
      "cell_type": "code",
      "metadata": {
        "colab": {
          "base_uri": "https://localhost:8080/",
          "height": 35
        },
        "id": "sG_h0SMkYs0S",
        "outputId": "6fd64d74-867e-4a8e-85f5-7d670fab670e"
      },
      "source": [
        "# 모두 대문자로 만들기\r\n",
        "til.upper()"
      ],
      "execution_count": 24,
      "outputs": [
        {
          "output_type": "execute_result",
          "data": {
            "application/vnd.google.colaboratory.intrinsic+json": {
              "type": "string"
            },
            "text/plain": [
              "'TODAY I LEARNED'"
            ]
          },
          "metadata": {
            "tags": []
          },
          "execution_count": 24
        }
      ]
    },
    {
      "cell_type": "markdown",
      "metadata": {
        "id": "HqYngRq6Yuuo"
      },
      "source": [
        "# lists"
      ]
    },
    {
      "cell_type": "code",
      "metadata": {
        "colab": {
          "base_uri": "https://localhost:8080/"
        },
        "id": "IZQr_xd_YvXf",
        "outputId": "2b761c25-113d-40f6-b46f-c3f1f4f79540"
      },
      "source": [
        "# 비어있는 리스트 제작. lang이라는 변수에 담기.\r\n",
        "lang = []\r\n",
        "lang"
      ],
      "execution_count": 25,
      "outputs": [
        {
          "output_type": "execute_result",
          "data": {
            "text/plain": [
              "[]"
            ]
          },
          "metadata": {
            "tags": []
          },
          "execution_count": 25
        }
      ]
    },
    {
      "cell_type": "code",
      "metadata": {
        "colab": {
          "base_uri": "https://localhost:8080/"
        },
        "id": "v-oos-TZZdFG",
        "outputId": "a1037638-2c5b-4d7e-9740-f857fc14fa7d"
      },
      "source": [
        "# python, java, c를 원소에 추가\r\n",
        "lang.append(\"python\")\r\n",
        "lang.append(\"java\")\r\n",
        "lang.append(\"c\")\r\n",
        "lang"
      ],
      "execution_count": 26,
      "outputs": [
        {
          "output_type": "execute_result",
          "data": {
            "text/plain": [
              "['python', 'java', 'c']"
            ]
          },
          "metadata": {
            "tags": []
          },
          "execution_count": 26
        }
      ]
    },
    {
      "cell_type": "code",
      "metadata": {
        "colab": {
          "base_uri": "https://localhost:8080/",
          "height": 35
        },
        "id": "3SGIfYnGZdb8",
        "outputId": "4600c959-f50f-47bb-e23c-ff3af302ff0e"
      },
      "source": [
        "# lang이라는 변수에 담겨있는 언어명을 인덱싱을 통해 가져오기\r\n",
        "lang[0]"
      ],
      "execution_count": 27,
      "outputs": [
        {
          "output_type": "execute_result",
          "data": {
            "application/vnd.google.colaboratory.intrinsic+json": {
              "type": "string"
            },
            "text/plain": [
              "'python'"
            ]
          },
          "metadata": {
            "tags": []
          },
          "execution_count": 27
        }
      ]
    },
    {
      "cell_type": "code",
      "metadata": {
        "colab": {
          "base_uri": "https://localhost:8080/",
          "height": 35
        },
        "id": "Vj-OCGzBZnqv",
        "outputId": "a49b9329-e286-45eb-e7fc-fd7c9c8a91dd"
      },
      "source": [
        "# 1번 인덱스 가져오기\r\n",
        "lang[1]"
      ],
      "execution_count": 28,
      "outputs": [
        {
          "output_type": "execute_result",
          "data": {
            "application/vnd.google.colaboratory.intrinsic+json": {
              "type": "string"
            },
            "text/plain": [
              "'java'"
            ]
          },
          "metadata": {
            "tags": []
          },
          "execution_count": 28
        }
      ]
    },
    {
      "cell_type": "code",
      "metadata": {
        "colab": {
          "base_uri": "https://localhost:8080/",
          "height": 35
        },
        "id": "AGXNzmQmZpsc",
        "outputId": "b7029f0a-5343-4e1f-d47d-869a6ab32f79"
      },
      "source": [
        "# 마지막 인덱스 가져오기 / -1을 출력하면 가장 마지막 인덱스를 가져온다.\r\n",
        "lang[2]\r\n",
        "lang [-1]"
      ],
      "execution_count": 30,
      "outputs": [
        {
          "output_type": "execute_result",
          "data": {
            "application/vnd.google.colaboratory.intrinsic+json": {
              "type": "string"
            },
            "text/plain": [
              "'c'"
            ]
          },
          "metadata": {
            "tags": []
          },
          "execution_count": 30
        }
      ]
    },
    {
      "cell_type": "markdown",
      "metadata": {
        "id": "AjqG_mY6aBGp"
      },
      "source": [
        "# Control Flow\r\n",
        "* 4. More Control Flow Tools - Python documentation\r\n",
        "* 제어문 - 조건문, 반복문"
      ]
    },
    {
      "cell_type": "code",
      "metadata": {
        "colab": {
          "base_uri": "https://localhost:8080/"
        },
        "id": "aUz3efTXaAGV",
        "outputId": "3ed1fd37-e92d-40ce-da7b-c8828a56e92d"
      },
      "source": [
        "# 반복문을 통해 리스트의 원소를 하나씩 출력\r\n",
        "for i in lang:\r\n",
        "  print(i)"
      ],
      "execution_count": 31,
      "outputs": [
        {
          "output_type": "stream",
          "text": [
            "python\n",
            "java\n",
            "c\n"
          ],
          "name": "stdout"
        }
      ]
    },
    {
      "cell_type": "code",
      "metadata": {
        "colab": {
          "base_uri": "https://localhost:8080/"
        },
        "id": "ACbzmbsiaS9D",
        "outputId": "a37d156d-6983-466c-9e79-11113b96687c"
      },
      "source": [
        "# 위 코드에서 python일 때는 그대로 출력. 나머지 텍스트는 \"기타\"로 출력\r\n",
        "# 출력 결과가 아래 순서로 나오도록 하기\r\n",
        "# python\r\n",
        "# 기타\r\n",
        "# 기타\r\n",
        "# 인덴트(들여쓰기) 중요!!\r\n",
        "for i in lang:\r\n",
        "  if i == \"python\":\r\n",
        "    print(\"python\")\r\n",
        "  else:\r\n",
        "    print(\"기타\")"
      ],
      "execution_count": 32,
      "outputs": [
        {
          "output_type": "stream",
          "text": [
            "python\n",
            "기타\n",
            "기타\n"
          ],
          "name": "stdout"
        }
      ]
    },
    {
      "cell_type": "code",
      "metadata": {
        "colab": {
          "base_uri": "https://localhost:8080/"
        },
        "id": "nLHhSIkQaTmY",
        "outputId": "6c941a9a-b7df-4625-c193-b32dc98de290"
      },
      "source": [
        "# 특정 횟수만큼 반복문 실행\r\n",
        "count = len(lang)\r\n",
        "for i in range(count):\r\n",
        "  print(lang[i])"
      ],
      "execution_count": 36,
      "outputs": [
        {
          "output_type": "stream",
          "text": [
            "python\n",
            "java\n",
            "c\n"
          ],
          "name": "stdout"
        }
      ]
    },
    {
      "cell_type": "code",
      "metadata": {
        "colab": {
          "base_uri": "https://localhost:8080/"
        },
        "id": "zwSmjVlrayZG",
        "outputId": "b2e945e2-7d6c-45a1-babf-93e2f21dec0f"
      },
      "source": [
        "# for문과 if문 함께 사용\r\n",
        "# 짝수일 때 python을 홀수일 때 java를 출력.\r\n",
        "for i in range(1,10):\r\n",
        "  if i % 2 == 0:\r\n",
        "    print(\"python\")\r\n",
        "  else:\r\n",
        "    print(\"java\")"
      ],
      "execution_count": 39,
      "outputs": [
        {
          "output_type": "stream",
          "text": [
            "java\n",
            "python\n",
            "java\n",
            "python\n",
            "java\n",
            "python\n",
            "java\n",
            "python\n",
            "java\n"
          ],
          "name": "stdout"
        }
      ]
    },
    {
      "cell_type": "code",
      "metadata": {
        "colab": {
          "base_uri": "https://localhost:8080/"
        },
        "id": "Oyuksm60booJ",
        "outputId": "678c6bc3-0956-4005-f5b0-bde8378ac938"
      },
      "source": [
        "# enumerate를 사용하면 인덱스 번호와 원소를 같이 가져올 수 있다.\r\n",
        "for i, val in enumerate(lang):\r\n",
        "  print(i, val)"
      ],
      "execution_count": 44,
      "outputs": [
        {
          "output_type": "stream",
          "text": [
            "0 python\n",
            "1 java\n",
            "2 c\n"
          ],
          "name": "stdout"
        }
      ]
    },
    {
      "cell_type": "markdown",
      "metadata": {
        "id": "KxvHOa5sbyjE"
      },
      "source": [
        "# 문자열"
      ]
    },
    {
      "cell_type": "code",
      "metadata": {
        "colab": {
          "base_uri": "https://localhost:8080/",
          "height": 35
        },
        "id": "WBSrzldbbotx",
        "outputId": "9c92ff18-8f5b-4420-eb66-ae61dca90e11"
      },
      "source": [
        "# 주소를 address 변수에 담습니다\r\n",
        "address = \" 경기도 성남시 분당구 불정로 6 NAVER 그린팩토리 16층 \"\r\n",
        "address"
      ],
      "execution_count": 45,
      "outputs": [
        {
          "output_type": "execute_result",
          "data": {
            "application/vnd.google.colaboratory.intrinsic+json": {
              "type": "string"
            },
            "text/plain": [
              "' 경기도 성남시 분당구 불정로 6 NAVER 그린팩토리 16층 '"
            ]
          },
          "metadata": {
            "tags": []
          },
          "execution_count": 45
        }
      ]
    },
    {
      "cell_type": "code",
      "metadata": {
        "colab": {
          "base_uri": "https://localhost:8080/",
          "height": 35
        },
        "id": "OFYbjrhQc-3B",
        "outputId": "423f779e-4648-4690-ca08-ff48bd93afa3"
      },
      "source": [
        "# 앞뒤 공백 제거\r\n",
        "# 데이터 전처리 시 주로 사용\r\n",
        "address = address.strip()\r\n",
        "address"
      ],
      "execution_count": 46,
      "outputs": [
        {
          "output_type": "execute_result",
          "data": {
            "application/vnd.google.colaboratory.intrinsic+json": {
              "type": "string"
            },
            "text/plain": [
              "'경기도 성남시 분당구 불정로 6 NAVER 그린팩토리 16층'"
            ]
          },
          "metadata": {
            "tags": []
          },
          "execution_count": 46
        }
      ]
    },
    {
      "cell_type": "code",
      "metadata": {
        "colab": {
          "base_uri": "https://localhost:8080/"
        },
        "id": "jHSj1XoUc_Mx",
        "outputId": "d651da47-9347-415d-ef06-7f111f35a471"
      },
      "source": [
        "# 문자열 길이\r\n",
        "len(address)"
      ],
      "execution_count": 47,
      "outputs": [
        {
          "output_type": "execute_result",
          "data": {
            "text/plain": [
              "33"
            ]
          },
          "metadata": {
            "tags": []
          },
          "execution_count": 47
        }
      ]
    },
    {
      "cell_type": "code",
      "metadata": {
        "colab": {
          "base_uri": "https://localhost:8080/"
        },
        "id": "VhkJ4_W_c_Wk",
        "outputId": "d3cd8bb5-ddef-4b2b-b5b9-caf875a45e2c"
      },
      "source": [
        "# 공백으로 문자열 분리\r\n",
        "address_list=address.split()\r\n",
        "address_list"
      ],
      "execution_count": 50,
      "outputs": [
        {
          "output_type": "execute_result",
          "data": {
            "text/plain": [
              "['경기도', '성남시', '분당구', '불정로', '6', 'NAVER', '그린팩토리', '16층']"
            ]
          },
          "metadata": {
            "tags": []
          },
          "execution_count": 50
        }
      ]
    },
    {
      "cell_type": "code",
      "metadata": {
        "colab": {
          "base_uri": "https://localhost:8080/"
        },
        "id": "VDSHhEVjdOG5",
        "outputId": "729b2e0f-02d6-45cb-87e4-93e8c6a58d5a"
      },
      "source": [
        "# 리스트의 길이\r\n",
        "len(address_list)"
      ],
      "execution_count": 51,
      "outputs": [
        {
          "output_type": "execute_result",
          "data": {
            "text/plain": [
              "8"
            ]
          },
          "metadata": {
            "tags": []
          },
          "execution_count": 51
        }
      ]
    },
    {
      "cell_type": "markdown",
      "metadata": {
        "id": "XqBgEvnvd1zZ"
      },
      "source": [
        "* 슬라이싱, startswith, in을 통해 문자열에 경기가 있는지 확인"
      ]
    },
    {
      "cell_type": "code",
      "metadata": {
        "colab": {
          "base_uri": "https://localhost:8080/",
          "height": 35
        },
        "id": "mhGPoseKdOKB",
        "outputId": "446ccca8-0612-432c-80aa-ec5a4563e16b"
      },
      "source": [
        "# 슬라이싱으로 문자 가져오기\r\n",
        "address[:2]"
      ],
      "execution_count": 52,
      "outputs": [
        {
          "output_type": "execute_result",
          "data": {
            "application/vnd.google.colaboratory.intrinsic+json": {
              "type": "string"
            },
            "text/plain": [
              "'경기'"
            ]
          },
          "metadata": {
            "tags": []
          },
          "execution_count": 52
        }
      ]
    },
    {
      "cell_type": "code",
      "metadata": {
        "colab": {
          "base_uri": "https://localhost:8080/"
        },
        "id": "ghhI29Nnd97H",
        "outputId": "0864c4bc-d06f-48b2-a4e0-4145134a86e3"
      },
      "source": [
        "# startswith를 사용하면 특정문자 포함 여부 확인 가능\r\n",
        "address.startswith(\"경기\")"
      ],
      "execution_count": 53,
      "outputs": [
        {
          "output_type": "execute_result",
          "data": {
            "text/plain": [
              "True"
            ]
          },
          "metadata": {
            "tags": []
          },
          "execution_count": 53
        }
      ]
    },
    {
      "cell_type": "code",
      "metadata": {
        "colab": {
          "base_uri": "https://localhost:8080/"
        },
        "id": "6yawpfuTd-B4",
        "outputId": "6f05494d-750f-4f3a-ac41-ff1e4bdc714d"
      },
      "source": [
        "# in을 사용하면 특정문자열 포함 여부 확인 가능\r\n",
        "\"경기\" in address"
      ],
      "execution_count": 55,
      "outputs": [
        {
          "output_type": "execute_result",
          "data": {
            "text/plain": [
              "True"
            ]
          },
          "metadata": {
            "tags": []
          },
          "execution_count": 55
        }
      ]
    },
    {
      "cell_type": "markdown",
      "metadata": {
        "id": "wHosIDEBeKTV"
      },
      "source": [
        "# 리스트\r\n",
        "* 문자열에서 쓰는 방법과 비슷하게 메소드 등을 사용 가능.\r\n",
        "* 차이를 비교해서 볼 것."
      ]
    },
    {
      "cell_type": "code",
      "metadata": {
        "colab": {
          "base_uri": "https://localhost:8080/",
          "height": 35
        },
        "id": "cc3B0L8CdOQW",
        "outputId": "4c19c256-7135-4dbe-fd86-ece02093274c"
      },
      "source": [
        "# 인덱싱으로 리스트의 원소 가져오기 - 주소에서 구를 가져와 gu라는 변수에 담기\r\n",
        "gu = address_list[2]\r\n",
        "gu"
      ],
      "execution_count": 58,
      "outputs": [
        {
          "output_type": "execute_result",
          "data": {
            "application/vnd.google.colaboratory.intrinsic+json": {
              "type": "string"
            },
            "text/plain": [
              "'분당구'"
            ]
          },
          "metadata": {
            "tags": []
          },
          "execution_count": 58
        }
      ]
    },
    {
      "cell_type": "code",
      "metadata": {
        "colab": {
          "base_uri": "https://localhost:8080/",
          "height": 35
        },
        "id": "oshafSIWeghp",
        "outputId": "57d78de3-5ce0-4c03-b7d2-641f703df0a5"
      },
      "source": [
        "# 인덱싱으로 리스트의 원소 가져오기 - 주소에서 도로명을 가져와 street이라는 변수에 담기\r\n",
        "street = address_list[3]\r\n",
        "street"
      ],
      "execution_count": 59,
      "outputs": [
        {
          "output_type": "execute_result",
          "data": {
            "application/vnd.google.colaboratory.intrinsic+json": {
              "type": "string"
            },
            "text/plain": [
              "'불정로'"
            ]
          },
          "metadata": {
            "tags": []
          },
          "execution_count": 59
        }
      ]
    },
    {
      "cell_type": "code",
      "metadata": {
        "colab": {
          "base_uri": "https://localhost:8080/",
          "height": 35
        },
        "id": "D0yAdKAofFTm",
        "outputId": "5681cd66-06e4-4ec8-bf5c-4053ba469bca"
      },
      "source": [
        "# 리스트의 마지막 가져오기\r\n",
        "address_list[-1]"
      ],
      "execution_count": 60,
      "outputs": [
        {
          "output_type": "execute_result",
          "data": {
            "application/vnd.google.colaboratory.intrinsic+json": {
              "type": "string"
            },
            "text/plain": [
              "'16층'"
            ]
          },
          "metadata": {
            "tags": []
          },
          "execution_count": 60
        }
      ]
    },
    {
      "cell_type": "code",
      "metadata": {
        "colab": {
          "base_uri": "https://localhost:8080/",
          "height": 35
        },
        "id": "2ZFcw5u-egxk",
        "outputId": "0da704b8-c71c-41f4-818d-db6dd0a49316"
      },
      "source": [
        "# \" \".join(리스트)를 사용하면 리스트를 공백 문자열 연결 가능\r\n",
        "# 리스트로 분리된 문자열 다시 연결.\r\n",
        "\" \".join(address_list)"
      ],
      "execution_count": 61,
      "outputs": [
        {
          "output_type": "execute_result",
          "data": {
            "application/vnd.google.colaboratory.intrinsic+json": {
              "type": "string"
            },
            "text/plain": [
              "'경기도 성남시 분당구 불정로 6 NAVER 그린팩토리 16층'"
            ]
          },
          "metadata": {
            "tags": []
          },
          "execution_count": 61
        }
      ]
    },
    {
      "cell_type": "code",
      "metadata": {
        "colab": {
          "base_uri": "https://localhost:8080/"
        },
        "id": "iQ74dlayeg_3",
        "outputId": "c99e2d43-caf0-4ff7-d60e-55d7fddc41a7"
      },
      "source": [
        "# in 사용 시 리스트에 해당 데이터 포함 여부 확인 가능\r\n",
        "# \"경기도\"가 리스트에 포함되는지 확인\r\n",
        "\"경기도\" in address_list"
      ],
      "execution_count": 62,
      "outputs": [
        {
          "output_type": "execute_result",
          "data": {
            "text/plain": [
              "True"
            ]
          },
          "metadata": {
            "tags": []
          },
          "execution_count": 62
        }
      ]
    },
    {
      "cell_type": "code",
      "metadata": {
        "colab": {
          "base_uri": "https://localhost:8080/"
        },
        "id": "B5QD-NV0fZB9",
        "outputId": "51f12c75-0f7b-495d-ae89-06712123c348"
      },
      "source": [
        "# in 사용 시 리스트에 해당 데이터 포함 여부 확인 가능\r\n",
        "# \"분당구\"가 리스트에 포함되는지 확인\r\n",
        "\"분당구\" in address_list"
      ],
      "execution_count": 63,
      "outputs": [
        {
          "output_type": "execute_result",
          "data": {
            "text/plain": [
              "True"
            ]
          },
          "metadata": {
            "tags": []
          },
          "execution_count": 63
        }
      ]
    },
    {
      "cell_type": "code",
      "metadata": {
        "id": "Le6ZzRAIfllW"
      },
      "source": [
        ""
      ],
      "execution_count": null,
      "outputs": []
    }
  ]
}